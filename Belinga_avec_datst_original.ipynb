{
 "cells": [
  {
   "cell_type": "code",
   "execution_count": 68,
   "metadata": {
    "id": "VD2EwCi19-Wj"
   },
   "outputs": [],
   "source": [
    "#pip install streamlit -i https://pypi.org/simple/"
   ]
  },
  {
   "cell_type": "code",
   "execution_count": 1,
   "metadata": {
    "colab": {
     "base_uri": "https://localhost:8080/",
     "height": 73
    },
    "id": "hyvq8MHuQ3cM",
    "outputId": "006cd106-194e-40f0-fe64-25e3f48fc4f9"
   },
   "outputs": [],
   "source": [
    "#from google.colab import files\n",
    "\n",
    "#uploaded = files.upload()"
   ]
  },
  {
   "cell_type": "code",
   "execution_count": 1,
   "metadata": {},
   "outputs": [],
   "source": [
    "import pandas as pd\n",
    "import seaborn as sns\n",
    "import matplotlib.pyplot as plt\n",
    "import numpy as np"
   ]
  },
  {
   "cell_type": "code",
   "execution_count": 2,
   "metadata": {},
   "outputs": [],
   "source": [
    "import streamlit as st"
   ]
  },
  {
   "cell_type": "code",
   "execution_count": 3,
   "metadata": {
    "colab": {
     "base_uri": "https://localhost:8080/",
     "height": 386
    },
    "id": "9ic4u5Gz2tXE",
    "outputId": "ddaf30e0-cf27-42c9-eec7-2a5ee3a1ac25"
   },
   "outputs": [
    {
     "data": {
      "text/plain": [
       "(402, 62)"
      ]
     },
     "execution_count": 3,
     "metadata": {},
     "output_type": "execute_result"
    }
   ],
   "source": [
    "df = pd.read_excel(\"C:/Users/AZIMUT Info/OneDrive/Desktop/repos/dataset_belinga_1_corr_1 (4).xlsx\")\n",
    "df.head(3)\n",
    "df.shape"
   ]
  },
  {
   "cell_type": "code",
   "execution_count": 4,
   "metadata": {
    "colab": {
     "base_uri": "https://localhost:8080/"
    },
    "id": "0CucAQgyGBlS",
    "outputId": "2cafbd70-91b6-442a-8511-8a3326efea89"
   },
   "outputs": [
    {
     "data": {
      "text/plain": [
       "Index(['lieu', 'date', 'modercueil', 'enqueteur', 'enquete', 'num', 'age',\n",
       "       'sexe', 'taille', 'vem1', 'cvf1', 'vemscvf1', 'dem2575ls1', 'texs1',\n",
       "       'aex1', 'vemscv1', 'vem2', 'cvf2', 'vemscvf2', 'depls2', 'dem25ls2',\n",
       "       'dem50ls2', 'dem75ls2', 'dem2575ls2', 'texs2', 'aex2', 'vemscv2',\n",
       "       'cpt1', 'vr1', 'vgt1', 'vrcpt1', 'ic1', 'vgtcpt1', 'gawlskpa1',\n",
       "       'srawkpa1', 'rvakpals1', 'sgawkpas1', 'cpt2', 'vr2', 'vgt2', 'vrcpt2',\n",
       "       'ic2', 'vgtcpt2', 'gawlskpa2', 'srawkpa2', 'rvakpals2', 'sgawkpas2',\n",
       "       'FEV1_predicted', 'FEV1FVC_predicted', 'FVC_predicted',\n",
       "       'FEF2575_predicted', 'FEV1_zscore', 'FEV1FVC_zscore', 'FVC_zscore',\n",
       "       'FEF2575_zscore', 'FEV1_LLN', 'FEV1FVC_LLN', 'FEV1FVC_ULN', 'FVC_LLN',\n",
       "       'FEF2575_LLN', 'CPT_pred', 'LLN_CPT'],\n",
       "      dtype='object')"
      ]
     },
     "execution_count": 4,
     "metadata": {},
     "output_type": "execute_result"
    }
   ],
   "source": [
    "df.columns"
   ]
  },
  {
   "cell_type": "code",
   "execution_count": 5,
   "metadata": {
    "colab": {
     "base_uri": "https://localhost:8080/"
    },
    "id": "2d9-RmFq0Cmt",
    "outputId": "0fea7544-9281-46c0-bdf0-bdbc5fa49742"
   },
   "outputs": [
    {
     "data": {
      "text/plain": [
       "0    85\n",
       "1    79\n",
       "Name: vemscvf1, dtype: int64"
      ]
     },
     "execution_count": 5,
     "metadata": {},
     "output_type": "execute_result"
    }
   ],
   "source": [
    "df[\"vemscvf1\"].head(2)"
   ]
  },
  {
   "cell_type": "code",
   "execution_count": 6,
   "metadata": {
    "colab": {
     "base_uri": "https://localhost:8080/"
    },
    "id": "XZYrN0Nm0HZl",
    "outputId": "daee045d-875b-4857-9391-65b309f4d6f8"
   },
   "outputs": [
    {
     "data": {
      "text/plain": [
       "0    4.749\n",
       "1      NaN\n",
       "Name: LLN_CPT, dtype: float64"
      ]
     },
     "execution_count": 6,
     "metadata": {},
     "output_type": "execute_result"
    }
   ],
   "source": [
    "df['LLN_CPT'].head(2)"
   ]
  },
  {
   "cell_type": "code",
   "execution_count": 7,
   "metadata": {
    "id": "f5NRgwMFGVQG"
   },
   "outputs": [],
   "source": [
    "df[\"vemscvf1\"] = df[\"vemscvf1\"]/100\n",
    "df['LLN_CPT'] = df['LLN_CPT']* (1-0.12)"
   ]
  },
  {
   "cell_type": "code",
   "execution_count": 8,
   "metadata": {
    "colab": {
     "base_uri": "https://localhost:8080/"
    },
    "id": "pGhAfGdt0Sgr",
    "outputId": "438289e0-ab8e-4abd-83cc-b5ced53b4fc1"
   },
   "outputs": [
    {
     "data": {
      "text/plain": [
       "0    4.17912\n",
       "1        NaN\n",
       "Name: LLN_CPT, dtype: float64"
      ]
     },
     "execution_count": 8,
     "metadata": {},
     "output_type": "execute_result"
    }
   ],
   "source": [
    "df['LLN_CPT'].head(2)"
   ]
  },
  {
   "cell_type": "code",
   "execution_count": 9,
   "metadata": {
    "colab": {
     "base_uri": "https://localhost:8080/"
    },
    "id": "aL5e6z-01nou",
    "outputId": "2038a6dd-42ff-41dd-b542-cfcde06d321f"
   },
   "outputs": [
    {
     "data": {
      "text/plain": [
       "False    378\n",
       "True      24\n",
       "Name: count, dtype: int64"
      ]
     },
     "execution_count": 9,
     "metadata": {},
     "output_type": "execute_result"
    }
   ],
   "source": [
    "((df['vemscvf1'] >= df.FEV1FVC_LLN) &(df.cvf1 < df.FVC_LLN) & (df.cpt1 < df.LLN_CPT)).value_counts()"
   ]
  },
  {
   "cell_type": "code",
   "execution_count": 10,
   "metadata": {
    "id": "DMUZSuqb2tcJ"
   },
   "outputs": [],
   "source": [
    "#| (df.vemscvf1 >= df.FEV1FVC_LLN  & df.cvf1<df.FVC_LLN & df.cpt1>df.LLN_CPT)\n",
    "masq_osb = ((df['vemscvf1'] < df['FEV1FVC_LLN']) & (df['cvf1'] > df['FVC_LLN'])) | ((df['vemscvf1'] >= df['FEV1FVC_LLN'])  & (df['cvf1']<df['FVC_LLN']) & (df['cpt1']>df['LLN_CPT']))\n",
    "df_obs = df[masq_osb]\n",
    "masq_rest = ((df['vemscvf1'] >= df.FEV1FVC_LLN) & (df.cvf1 < df.FVC_LLN) & (df.cpt1 < df.LLN_CPT))\n",
    "df_rest = df[masq_rest]\n",
    "masq_mixt = (df['vemscvf1'] < df.FEV1FVC_LLN) & (df.cvf1 < df.FVC_LLN) & (df.cpt1 < df.LLN_CPT)\n",
    "df_mixt = df[masq_mixt]\n",
    "masq_normaux = (df.cvf1>=df.FVC_LLN) & (df['vemscvf1'] > df.FEV1FVC_LLN)\n",
    "df_normaux  = df[masq_normaux]"
   ]
  },
  {
   "cell_type": "code",
   "execution_count": 11,
   "metadata": {
    "colab": {
     "base_uri": "https://localhost:8080/"
    },
    "id": "UPAGcj3v2tgM",
    "outputId": "5b7778c1-4d17-42ae-ce68-2398d102a4fd"
   },
   "outputs": [
    {
     "data": {
      "text/plain": [
       "(301, 62)"
      ]
     },
     "execution_count": 11,
     "metadata": {},
     "output_type": "execute_result"
    }
   ],
   "source": [
    "df_normaux.shape"
   ]
  },
  {
   "cell_type": "code",
   "execution_count": 12,
   "metadata": {
    "colab": {
     "base_uri": "https://localhost:8080/"
    },
    "id": "3yzXufp9xZII",
    "outputId": "aded0fc2-1e08-4824-d505-2441b2182bc4"
   },
   "outputs": [
    {
     "data": {
      "text/plain": [
       "(56, 62)"
      ]
     },
     "execution_count": 12,
     "metadata": {},
     "output_type": "execute_result"
    }
   ],
   "source": [
    "df_obs.shape"
   ]
  },
  {
   "cell_type": "code",
   "execution_count": 13,
   "metadata": {
    "colab": {
     "base_uri": "https://localhost:8080/"
    },
    "id": "mMSofp-k2tkZ",
    "outputId": "5af03f07-8c86-44c0-9c3e-15817515d97a"
   },
   "outputs": [
    {
     "name": "stderr",
     "output_type": "stream",
     "text": [
      "C:\\Users\\AZIMUT Info\\AppData\\Local\\Temp\\ipykernel_12324\\2781879157.py:1: SettingWithCopyWarning: \n",
      "A value is trying to be set on a copy of a slice from a DataFrame.\n",
      "Try using .loc[row_indexer,col_indexer] = value instead\n",
      "\n",
      "See the caveats in the documentation: https://pandas.pydata.org/pandas-docs/stable/user_guide/indexing.html#returning-a-view-versus-a-copy\n",
      "  df_normaux[\"type_trouble\"] = 0\n",
      "C:\\Users\\AZIMUT Info\\AppData\\Local\\Temp\\ipykernel_12324\\2781879157.py:2: SettingWithCopyWarning: \n",
      "A value is trying to be set on a copy of a slice from a DataFrame.\n",
      "Try using .loc[row_indexer,col_indexer] = value instead\n",
      "\n",
      "See the caveats in the documentation: https://pandas.pydata.org/pandas-docs/stable/user_guide/indexing.html#returning-a-view-versus-a-copy\n",
      "  df_obs[\"type_trouble\"] = 1\n",
      "C:\\Users\\AZIMUT Info\\AppData\\Local\\Temp\\ipykernel_12324\\2781879157.py:3: SettingWithCopyWarning: \n",
      "A value is trying to be set on a copy of a slice from a DataFrame.\n",
      "Try using .loc[row_indexer,col_indexer] = value instead\n",
      "\n",
      "See the caveats in the documentation: https://pandas.pydata.org/pandas-docs/stable/user_guide/indexing.html#returning-a-view-versus-a-copy\n",
      "  df_rest[\"type_trouble\"] = 2\n",
      "C:\\Users\\AZIMUT Info\\AppData\\Local\\Temp\\ipykernel_12324\\2781879157.py:4: SettingWithCopyWarning: \n",
      "A value is trying to be set on a copy of a slice from a DataFrame.\n",
      "Try using .loc[row_indexer,col_indexer] = value instead\n",
      "\n",
      "See the caveats in the documentation: https://pandas.pydata.org/pandas-docs/stable/user_guide/indexing.html#returning-a-view-versus-a-copy\n",
      "  df_mixt[\"type_trouble\"] = 3\n"
     ]
    }
   ],
   "source": [
    "df_normaux[\"type_trouble\"] = 0\n",
    "df_obs[\"type_trouble\"] = 1\n",
    "df_rest[\"type_trouble\"] = 2\n",
    "df_mixt[\"type_trouble\"] = 3"
   ]
  },
  {
   "cell_type": "code",
   "execution_count": 14,
   "metadata": {
    "id": "_cewK98dJP5x"
   },
   "outputs": [
    {
     "data": {
      "text/plain": [
       "(387, 63)"
      ]
     },
     "execution_count": 14,
     "metadata": {},
     "output_type": "execute_result"
    }
   ],
   "source": [
    "df_all = pd.concat([df_normaux, df_obs, df_rest, df_mixt], axis = 0)\n",
    "df_all.shape"
   ]
  },
  {
   "cell_type": "code",
   "execution_count": 15,
   "metadata": {
    "colab": {
     "base_uri": "https://localhost:8080/"
    },
    "id": "W4UgBTajK9WU",
    "outputId": "7e95f6c0-e0c7-4816-ac03-2705391fe2dd"
   },
   "outputs": [
    {
     "data": {
      "text/plain": [
       "type_trouble\n",
       "0    77.777778\n",
       "1    14.470284\n",
       "2     6.201550\n",
       "3     1.550388\n",
       "Name: proportion, dtype: float64"
      ]
     },
     "execution_count": 15,
     "metadata": {},
     "output_type": "execute_result"
    }
   ],
   "source": [
    "df_all[\"type_trouble\"].value_counts(normalize = True)*100"
   ]
  },
  {
   "cell_type": "code",
   "execution_count": 16,
   "metadata": {
    "colab": {
     "base_uri": "https://localhost:8080/"
    },
    "id": "BYo-nxDj2l50",
    "outputId": "995e53da-d9c6-453e-80ce-0ca4c6776b62"
   },
   "outputs": [
    {
     "name": "stdout",
     "output_type": "stream",
     "text": [
      "(381, 63)\n"
     ]
    },
    {
     "data": {
      "text/plain": [
       "type_trouble\n",
       "0    0.790026\n",
       "1    0.146982\n",
       "2    0.062992\n",
       "Name: proportion, dtype: float64"
      ]
     },
     "execution_count": 16,
     "metadata": {},
     "output_type": "execute_result"
    }
   ],
   "source": [
    "df_analysis = pd.concat([df_normaux, df_obs, df_rest], axis = 0)\n",
    "print(df_analysis.shape)\n",
    "df_analysis[\"type_trouble\"].value_counts(normalize=True)"
   ]
  },
  {
   "cell_type": "code",
   "execution_count": 17,
   "metadata": {},
   "outputs": [],
   "source": [
    "#df_analysis.to_csv('C:/Users/AZIMUT Info/OneDrive/Desktop/repos/base_donnees_article_guy.csv')"
   ]
  },
  {
   "cell_type": "code",
   "execution_count": 18,
   "metadata": {},
   "outputs": [
    {
     "name": "stdout",
     "output_type": "stream",
     "text": [
      "                lieu       date       modercueil   enqueteur enquete  num  \\\n",
      "0  CLINIQUE POLYMERE 2023-04-04   FICHE RESULTAT  Dr BELINGA  JEANZU    1   \n",
      "1  CLINIQUE POLYMERE 2023-04-05   FICHE RESULTAT  Dr BELINGA  MadBIM    2   \n",
      "2  CLINIQUE POLYMERE 2023-04-03  FICHE RESULTATS  Dr BELINGA  DorNGU    3   \n",
      "\n",
      "   age  sexe  taille  vem1  ...  FEV1FVC_zscore  FVC_zscore  FEF2575_zscore  \\\n",
      "0   80     1     167  2.19  ...            0.94        0.21           -0.61   \n",
      "1   88     2     159  1.01  ...            0.08       -1.36           -4.15   \n",
      "2   66     2     167  2.31  ...            1.12        0.59            0.20   \n",
      "\n",
      "   FEV1_LLN  FEV1FVC_LLN  FEV1FVC_ULN  FVC_LLN  FEF2575_LLN  CPT_pred  LLN_CPT  \n",
      "0      1.04         0.65         0.90     1.57         2.03     6.111  4.17912  \n",
      "1      0.89         0.65         0.92     1.18         2.33       NaN      NaN  \n",
      "2      1.24         0.68         0.93     1.56         1.73     5.346  3.76288  \n",
      "\n",
      "[3 rows x 62 columns]\n"
     ]
    }
   ],
   "source": [
    "df.shape\n",
    "print(df.head(3))"
   ]
  },
  {
   "cell_type": "code",
   "execution_count": 19,
   "metadata": {},
   "outputs": [
    {
     "data": {
      "text/html": [
       "<div>\n",
       "<style scoped>\n",
       "    .dataframe tbody tr th:only-of-type {\n",
       "        vertical-align: middle;\n",
       "    }\n",
       "\n",
       "    .dataframe tbody tr th {\n",
       "        vertical-align: top;\n",
       "    }\n",
       "\n",
       "    .dataframe thead th {\n",
       "        text-align: right;\n",
       "    }\n",
       "</style>\n",
       "<table border=\"1\" class=\"dataframe\">\n",
       "  <thead>\n",
       "    <tr style=\"text-align: right;\">\n",
       "      <th></th>\n",
       "      <th>lieu</th>\n",
       "      <th>date</th>\n",
       "      <th>modercueil</th>\n",
       "      <th>enqueteur</th>\n",
       "      <th>enquete</th>\n",
       "      <th>num</th>\n",
       "      <th>age</th>\n",
       "      <th>sexe</th>\n",
       "      <th>taille</th>\n",
       "      <th>vem1</th>\n",
       "      <th>...</th>\n",
       "      <th>FEV1FVC_zscore</th>\n",
       "      <th>FVC_zscore</th>\n",
       "      <th>FEF2575_zscore</th>\n",
       "      <th>FEV1_LLN</th>\n",
       "      <th>FEV1FVC_LLN</th>\n",
       "      <th>FEV1FVC_ULN</th>\n",
       "      <th>FVC_LLN</th>\n",
       "      <th>FEF2575_LLN</th>\n",
       "      <th>CPT_pred</th>\n",
       "      <th>LLN_CPT</th>\n",
       "    </tr>\n",
       "  </thead>\n",
       "  <tbody>\n",
       "    <tr>\n",
       "      <th>0</th>\n",
       "      <td>CLINIQUE POLYMERE</td>\n",
       "      <td>2023-04-04</td>\n",
       "      <td>FICHE RESULTAT</td>\n",
       "      <td>Dr BELINGA</td>\n",
       "      <td>JEANZU</td>\n",
       "      <td>1</td>\n",
       "      <td>80</td>\n",
       "      <td>1</td>\n",
       "      <td>167</td>\n",
       "      <td>2.19</td>\n",
       "      <td>...</td>\n",
       "      <td>0.94</td>\n",
       "      <td>0.21</td>\n",
       "      <td>-0.61</td>\n",
       "      <td>1.04</td>\n",
       "      <td>0.65</td>\n",
       "      <td>0.90</td>\n",
       "      <td>1.57</td>\n",
       "      <td>2.03</td>\n",
       "      <td>6.111</td>\n",
       "      <td>4.17912</td>\n",
       "    </tr>\n",
       "    <tr>\n",
       "      <th>1</th>\n",
       "      <td>CLINIQUE POLYMERE</td>\n",
       "      <td>2023-04-05</td>\n",
       "      <td>FICHE RESULTAT</td>\n",
       "      <td>Dr BELINGA</td>\n",
       "      <td>MadBIM</td>\n",
       "      <td>2</td>\n",
       "      <td>88</td>\n",
       "      <td>2</td>\n",
       "      <td>159</td>\n",
       "      <td>1.01</td>\n",
       "      <td>...</td>\n",
       "      <td>0.08</td>\n",
       "      <td>-1.36</td>\n",
       "      <td>-4.15</td>\n",
       "      <td>0.89</td>\n",
       "      <td>0.65</td>\n",
       "      <td>0.92</td>\n",
       "      <td>1.18</td>\n",
       "      <td>2.33</td>\n",
       "      <td>NaN</td>\n",
       "      <td>NaN</td>\n",
       "    </tr>\n",
       "    <tr>\n",
       "      <th>2</th>\n",
       "      <td>CLINIQUE POLYMERE</td>\n",
       "      <td>2023-04-03</td>\n",
       "      <td>FICHE RESULTATS</td>\n",
       "      <td>Dr BELINGA</td>\n",
       "      <td>DorNGU</td>\n",
       "      <td>3</td>\n",
       "      <td>66</td>\n",
       "      <td>2</td>\n",
       "      <td>167</td>\n",
       "      <td>2.31</td>\n",
       "      <td>...</td>\n",
       "      <td>1.12</td>\n",
       "      <td>0.59</td>\n",
       "      <td>0.20</td>\n",
       "      <td>1.24</td>\n",
       "      <td>0.68</td>\n",
       "      <td>0.93</td>\n",
       "      <td>1.56</td>\n",
       "      <td>1.73</td>\n",
       "      <td>5.346</td>\n",
       "      <td>3.76288</td>\n",
       "    </tr>\n",
       "    <tr>\n",
       "      <th>3</th>\n",
       "      <td>CLINIQUE POLYMERE</td>\n",
       "      <td>2023-04-03</td>\n",
       "      <td>FICHE RESULTATS</td>\n",
       "      <td>Dr BELINGA</td>\n",
       "      <td>CloAMI</td>\n",
       "      <td>4</td>\n",
       "      <td>35</td>\n",
       "      <td>1</td>\n",
       "      <td>187</td>\n",
       "      <td>3.00</td>\n",
       "      <td>...</td>\n",
       "      <td>0.73</td>\n",
       "      <td>-1.61</td>\n",
       "      <td>0.65</td>\n",
       "      <td>2.80</td>\n",
       "      <td>0.75</td>\n",
       "      <td>0.94</td>\n",
       "      <td>3.34</td>\n",
       "      <td>2.36</td>\n",
       "      <td>8.037</td>\n",
       "      <td>5.70152</td>\n",
       "    </tr>\n",
       "    <tr>\n",
       "      <th>4</th>\n",
       "      <td>CLINIQUE POLYMERE</td>\n",
       "      <td>2023-04-08</td>\n",
       "      <td>FICHE RESULTATS</td>\n",
       "      <td>Dr BELINGA</td>\n",
       "      <td>JulOKO</td>\n",
       "      <td>5</td>\n",
       "      <td>50</td>\n",
       "      <td>1</td>\n",
       "      <td>168</td>\n",
       "      <td>3.08</td>\n",
       "      <td>...</td>\n",
       "      <td>-0.32</td>\n",
       "      <td>0.94</td>\n",
       "      <td>-0.32</td>\n",
       "      <td>1.79</td>\n",
       "      <td>0.71</td>\n",
       "      <td>0.93</td>\n",
       "      <td>2.28</td>\n",
       "      <td>1.51</td>\n",
       "      <td>6.326</td>\n",
       "      <td>4.49944</td>\n",
       "    </tr>\n",
       "  </tbody>\n",
       "</table>\n",
       "<p>5 rows × 62 columns</p>\n",
       "</div>"
      ],
      "text/plain": [
       "                lieu       date       modercueil   enqueteur enquete  num  \\\n",
       "0  CLINIQUE POLYMERE 2023-04-04   FICHE RESULTAT  Dr BELINGA  JEANZU    1   \n",
       "1  CLINIQUE POLYMERE 2023-04-05   FICHE RESULTAT  Dr BELINGA  MadBIM    2   \n",
       "2  CLINIQUE POLYMERE 2023-04-03  FICHE RESULTATS  Dr BELINGA  DorNGU    3   \n",
       "3  CLINIQUE POLYMERE 2023-04-03  FICHE RESULTATS  Dr BELINGA  CloAMI    4   \n",
       "4  CLINIQUE POLYMERE 2023-04-08  FICHE RESULTATS  Dr BELINGA  JulOKO    5   \n",
       "\n",
       "   age  sexe  taille  vem1  ...  FEV1FVC_zscore  FVC_zscore  FEF2575_zscore  \\\n",
       "0   80     1     167  2.19  ...            0.94        0.21           -0.61   \n",
       "1   88     2     159  1.01  ...            0.08       -1.36           -4.15   \n",
       "2   66     2     167  2.31  ...            1.12        0.59            0.20   \n",
       "3   35     1     187  3.00  ...            0.73       -1.61            0.65   \n",
       "4   50     1     168  3.08  ...           -0.32        0.94           -0.32   \n",
       "\n",
       "   FEV1_LLN  FEV1FVC_LLN  FEV1FVC_ULN  FVC_LLN  FEF2575_LLN  CPT_pred  LLN_CPT  \n",
       "0      1.04         0.65         0.90     1.57         2.03     6.111  4.17912  \n",
       "1      0.89         0.65         0.92     1.18         2.33       NaN      NaN  \n",
       "2      1.24         0.68         0.93     1.56         1.73     5.346  3.76288  \n",
       "3      2.80         0.75         0.94     3.34         2.36     8.037  5.70152  \n",
       "4      1.79         0.71         0.93     2.28         1.51     6.326  4.49944  \n",
       "\n",
       "[5 rows x 62 columns]"
      ]
     },
     "execution_count": 19,
     "metadata": {},
     "output_type": "execute_result"
    }
   ],
   "source": [
    "df.head()"
   ]
  },
  {
   "cell_type": "code",
   "execution_count": 20,
   "metadata": {},
   "outputs": [
    {
     "data": {
      "text/html": [
       "<div>\n",
       "<style scoped>\n",
       "    .dataframe tbody tr th:only-of-type {\n",
       "        vertical-align: middle;\n",
       "    }\n",
       "\n",
       "    .dataframe tbody tr th {\n",
       "        vertical-align: top;\n",
       "    }\n",
       "\n",
       "    .dataframe thead th {\n",
       "        text-align: right;\n",
       "    }\n",
       "</style>\n",
       "<table border=\"1\" class=\"dataframe\">\n",
       "  <thead>\n",
       "    <tr style=\"text-align: right;\">\n",
       "      <th></th>\n",
       "      <th>Unnamed: 0</th>\n",
       "      <th>lieu</th>\n",
       "      <th>date</th>\n",
       "      <th>modercueil</th>\n",
       "      <th>enqueteur</th>\n",
       "      <th>enquete</th>\n",
       "      <th>num</th>\n",
       "      <th>age</th>\n",
       "      <th>sexe</th>\n",
       "      <th>taille</th>\n",
       "      <th>...</th>\n",
       "      <th>FVC_zscore</th>\n",
       "      <th>FEF2575_zscore</th>\n",
       "      <th>FEV1_LLN</th>\n",
       "      <th>FEV1FVC_LLN</th>\n",
       "      <th>FEV1FVC_ULN</th>\n",
       "      <th>FVC_LLN</th>\n",
       "      <th>FEF2575_LLN</th>\n",
       "      <th>CPT_pred</th>\n",
       "      <th>LLN_CPT</th>\n",
       "      <th>type_trouble</th>\n",
       "    </tr>\n",
       "  </thead>\n",
       "  <tbody>\n",
       "    <tr>\n",
       "      <th>0</th>\n",
       "      <td>0</td>\n",
       "      <td>CLINIQUE POLYMERE</td>\n",
       "      <td>2023-04-04</td>\n",
       "      <td>FICHE RESULTAT</td>\n",
       "      <td>Dr BELINGA</td>\n",
       "      <td>JEANZU</td>\n",
       "      <td>1</td>\n",
       "      <td>80</td>\n",
       "      <td>1</td>\n",
       "      <td>167</td>\n",
       "      <td>...</td>\n",
       "      <td>0.21</td>\n",
       "      <td>-0.61</td>\n",
       "      <td>1.04</td>\n",
       "      <td>0.65</td>\n",
       "      <td>0.90</td>\n",
       "      <td>1.57</td>\n",
       "      <td>2.03</td>\n",
       "      <td>6.111</td>\n",
       "      <td>4.17912</td>\n",
       "      <td>0</td>\n",
       "    </tr>\n",
       "    <tr>\n",
       "      <th>1</th>\n",
       "      <td>1</td>\n",
       "      <td>CLINIQUE POLYMERE</td>\n",
       "      <td>2023-04-05</td>\n",
       "      <td>FICHE RESULTAT</td>\n",
       "      <td>Dr BELINGA</td>\n",
       "      <td>MadBIM</td>\n",
       "      <td>2</td>\n",
       "      <td>88</td>\n",
       "      <td>2</td>\n",
       "      <td>159</td>\n",
       "      <td>...</td>\n",
       "      <td>-1.36</td>\n",
       "      <td>-4.15</td>\n",
       "      <td>0.89</td>\n",
       "      <td>0.65</td>\n",
       "      <td>0.92</td>\n",
       "      <td>1.18</td>\n",
       "      <td>2.33</td>\n",
       "      <td>NaN</td>\n",
       "      <td>NaN</td>\n",
       "      <td>0</td>\n",
       "    </tr>\n",
       "  </tbody>\n",
       "</table>\n",
       "<p>2 rows × 64 columns</p>\n",
       "</div>"
      ],
      "text/plain": [
       "   Unnamed: 0               lieu        date      modercueil   enqueteur  \\\n",
       "0           0  CLINIQUE POLYMERE  2023-04-04  FICHE RESULTAT  Dr BELINGA   \n",
       "1           1  CLINIQUE POLYMERE  2023-04-05  FICHE RESULTAT  Dr BELINGA   \n",
       "\n",
       "  enquete  num  age  sexe  taille  ...  FVC_zscore  FEF2575_zscore  FEV1_LLN  \\\n",
       "0  JEANZU    1   80     1     167  ...        0.21           -0.61      1.04   \n",
       "1  MadBIM    2   88     2     159  ...       -1.36           -4.15      0.89   \n",
       "\n",
       "   FEV1FVC_LLN  FEV1FVC_ULN  FVC_LLN  FEF2575_LLN  CPT_pred  LLN_CPT  \\\n",
       "0         0.65         0.90     1.57         2.03     6.111  4.17912   \n",
       "1         0.65         0.92     1.18         2.33       NaN      NaN   \n",
       "\n",
       "   type_trouble  \n",
       "0             0  \n",
       "1             0  \n",
       "\n",
       "[2 rows x 64 columns]"
      ]
     },
     "execution_count": 20,
     "metadata": {},
     "output_type": "execute_result"
    }
   ],
   "source": [
    "df = pd.read_csv('C:/Users/AZIMUT Info/OneDrive/Desktop/repos/base_donnees_article_guy.csv')\n",
    "df.head(2)"
   ]
  },
  {
   "cell_type": "code",
   "execution_count": 21,
   "metadata": {},
   "outputs": [],
   "source": [
    "# Renommer les colonnes\n",
    "df['type_trouble'] = df['type_trouble'].astype('category')\n",
    "df = df.rename(columns={'vem1': 'vems', 'cvf1': 'cvf', 'vemscvf1': 'vems/cvf', 'aex1': 'aex'})"
   ]
  },
  {
   "cell_type": "code",
   "execution_count": 22,
   "metadata": {},
   "outputs": [],
   "source": [
    "#print(df.head(2))"
   ]
  },
  {
   "cell_type": "code",
   "execution_count": 23,
   "metadata": {},
   "outputs": [
    {
     "data": {
      "text/plain": [
       "vems             float64\n",
       "cvf              float64\n",
       "vems/cvf         float64\n",
       "aex              float64\n",
       "type_trouble    category\n",
       "dtype: object"
      ]
     },
     "execution_count": 23,
     "metadata": {},
     "output_type": "execute_result"
    }
   ],
   "source": [
    "df = df[['vems', 'cvf', 'vems/cvf', 'aex', 'type_trouble']]\n",
    "df.dtypes"
   ]
  },
  {
   "cell_type": "markdown",
   "metadata": {},
   "source": [
    "numerical_features = selector(dtype_exclude=\"category\")(X)"
   ]
  },
  {
   "cell_type": "code",
   "execution_count": 24,
   "metadata": {},
   "outputs": [
    {
     "data": {
      "text/plain": [
       "<Axes: >"
      ]
     },
     "execution_count": 24,
     "metadata": {},
     "output_type": "execute_result"
    },
    {
     "data": {
      "image/png": "[encoded data removed]",
      "text/plain": [
       "<Figure size 640x480 with 1 Axes>"
      ]
     },
     "metadata": {},
     "output_type": "display_data"
    }
   ],
   "source": [
    "sns.boxenplot(df.select_dtypes(include=['float64']))"
   ]
  },
  {
   "cell_type": "code",
   "execution_count": 25,
   "metadata": {
    "id": "c65SZ_zy8yPw"
   },
   "outputs": [],
   "source": [
    "from sklearn.ensemble import RandomForestClassifier\n",
    "from sklearn.metrics import make_scorer, roc_auc_score\n",
    "from sklearn.metrics import f1_score, confusion_matrix, classification_report, roc_auc_score\n",
    "from sklearn.model_selection import train_test_split, cross_val_score, learning_curve\n",
    "from sklearn.preprocessing import RobustScaler\n",
    "from sklearn.preprocessing import OneHotEncoder\n",
    "from sklearn.model_selection import cross_validate\n",
    "from sklearn.model_selection import StratifiedKFold"
   ]
  },
  {
   "cell_type": "code",
   "execution_count": 26,
   "metadata": {},
   "outputs": [],
   "source": [
    "# Fonction d'évaluation\n",
    "def evaluation(model):\n",
    "    ypred = model.predict(X_test)\n",
    "    y_score = model.predict_proba(X_test)\n",
    "\n",
    "    print(confusion_matrix(y_test, ypred))\n",
    "    print(classification_report(y_test, ypred))"
   ]
  },
  {
   "cell_type": "code",
   "execution_count": 27,
   "metadata": {
    "colab": {
     "base_uri": "https://localhost:8080/",
     "height": 75
    },
    "id": "gVqgzEr73LJp",
    "outputId": "b1483c2d-27fa-421a-8265-3a3cd1c4a601"
   },
   "outputs": [],
   "source": [
    "X = df[['vems','cvf','vems/cvf','aex']]\n",
    "y = df['type_trouble']\n",
    "X_train, X_test, y_train, y_test = train_test_split(X, y,test_size=0.5, random_state=0)"
   ]
  },
  {
   "cell_type": "code",
   "execution_count": 28,
   "metadata": {},
   "outputs": [],
   "source": [
    "preprocessor = RobustScaler()"
   ]
  },
  {
   "cell_type": "code",
   "execution_count": 29,
   "metadata": {},
   "outputs": [],
   "source": [
    "X_train = preprocessor.fit_transform(X_train)"
   ]
  },
  {
   "cell_type": "code",
   "execution_count": 30,
   "metadata": {
    "id": "6Pqso7lA3LNL"
   },
   "outputs": [],
   "source": [
    "RF = RandomForestClassifier (random_state=0)\n",
    "RF = RF.fit(X_train, y_train)"
   ]
  },
  {
   "cell_type": "code",
   "execution_count": 31,
   "metadata": {
    "id": "E7fowV9gNdy2"
   },
   "outputs": [],
   "source": [
    "scoring = {'f1': make_scorer(f1_score, average='weighted')}\n",
    "cv = StratifiedKFold(n_splits = 3)\n",
    "\n",
    "def average_score_on_cross_val_classification(clf, X, y, scoring=scoring, cv=cv):\n",
    "    \"\"\"\n",
    "    Evaluates a given model/estimator using cross-validation\n",
    "    and returns a dict containing the absolute vlues of the average (mean) scores\n",
    "    for classification models.\n",
    "\n",
    "    clf: scikit-learn classification model\n",
    "    X: features (no labels)\n",
    "    y: labels\n",
    "    scoring: a dictionary of scoring metrics\n",
    "    cv: cross-validation strategy\n",
    "    \"\"\"\n",
    "    # Score metrics on cross-validated dataset\n",
    "    scores_dict = cross_validate(clf, X, y, scoring=scoring, cv=cv, n_jobs=-1)\n",
    "\n",
    "    # return the average scores for each metric\n",
    "    return {metric: round(np.mean(scores), 3) for metric, scores in scores_dict.items()}, pd.DataFrame(scores_dict)[\"test_f1\"]"
   ]
  },
  {
   "cell_type": "code",
   "execution_count": 32,
   "metadata": {
    "colab": {
     "base_uri": "https://localhost:8080/"
    },
    "id": "8tHdsjTiOAht",
    "outputId": "6adda999-3d12-4912-c6cf-dda909ff173d"
   },
   "outputs": [
    {
     "data": {
      "text/plain": [
       "({'fit_time': 0.112, 'score_time': 0.011, 'test_f1': 0.796},\n",
       " 0    0.767815\n",
       " 1    0.836095\n",
       " 2    0.782898\n",
       " Name: test_f1, dtype: float64)"
      ]
     },
     "execution_count": 32,
     "metadata": {},
     "output_type": "execute_result"
    }
   ],
   "source": [
    "average_score_on_cross_val_classification(RF, X=X_train, y=y_train)"
   ]
  },
  {
   "cell_type": "code",
   "execution_count": 33,
   "metadata": {},
   "outputs": [],
   "source": [
    "X_test = preprocessor.transform(X_test)"
   ]
  },
  {
   "cell_type": "code",
   "execution_count": 34,
   "metadata": {},
   "outputs": [
    {
     "data": {
      "text/plain": [
       "({'fit_time': 0.116, 'score_time': 0.009, 'test_f1': 0.81},\n",
       " 0    0.845457\n",
       " 1    0.737898\n",
       " 2    0.846297\n",
       " Name: test_f1, dtype: float64)"
      ]
     },
     "execution_count": 34,
     "metadata": {},
     "output_type": "execute_result"
    }
   ],
   "source": [
    "average_score_on_cross_val_classification(RF, X=X_test, y=y_test)"
   ]
  },
  {
   "cell_type": "code",
   "execution_count": 35,
   "metadata": {},
   "outputs": [
    {
     "name": "stdout",
     "output_type": "stream",
     "text": [
      "[  1   7  14  20  26  32  39  45  51  57  64  70  76  83  89  95 101 108\n",
      " 114 120 126 133 139 145 152]\n"
     ]
    },
    {
     "data": {
      "text/plain": [
       "<matplotlib.legend.Legend at 0x2abcb4c9890>"
      ]
     },
     "execution_count": 35,
     "metadata": {},
     "output_type": "execute_result"
    },
    {
     "data": {
      "image/png": "[encoded data removed]",
      "text/plain": [
       "<Figure size 1000x600 with 1 Axes>"
      ]
     },
     "metadata": {},
     "output_type": "display_data"
    }
   ],
   "source": [
    "fig = plt.figure(figsize=(10,6))\n",
    "plt.subplot(3,2,1)\n",
    "N, train_score, val_score = learning_curve(RF, X_train, y_train,\n",
    "                                           train_sizes = np.linspace(0.01, 1.0, 25), cv = 5)\n",
    "print(N)\n",
    "plt.plot(N,train_score.mean(axis=1), label='train')\n",
    "plt.plot(N,val_score.mean(axis=1), label='validation')\n",
    "plt.xlabel('Foêt aléatoire', color = 'b', fontsize = 13)\n",
    "plt.legend(fontsize = 11)"
   ]
  },
  {
   "cell_type": "code",
   "execution_count": 42,
   "metadata": {},
   "outputs": [],
   "source": [
    "import pickle\n",
    "import joblib"
   ]
  },
  {
   "cell_type": "code",
   "execution_count": 44,
   "metadata": {},
   "outputs": [
    {
     "ename": "NameError",
     "evalue": "name 'Trouble_ventilatoire_predict' is not defined",
     "output_type": "error",
     "traceback": [
      "\u001b[1;31m---------------------------------------------------------------------------\u001b[0m",
      "\u001b[1;31mNameError\u001b[0m                                 Traceback (most recent call last)",
      "Cell \u001b[1;32mIn[44], line 3\u001b[0m\n\u001b[0;32m      1\u001b[0m \u001b[38;5;66;03m# Sauvegarde du modèle\u001b[39;00m\n\u001b[0;32m      2\u001b[0m \u001b[38;5;28;01mwith\u001b[39;00m \u001b[38;5;28mopen\u001b[39m(\u001b[38;5;124m'\u001b[39m\u001b[38;5;124mRF.pkl\u001b[39m\u001b[38;5;124m'\u001b[39m, \u001b[38;5;124m'\u001b[39m\u001b[38;5;124mwb\u001b[39m\u001b[38;5;124m'\u001b[39m) \u001b[38;5;28;01mas\u001b[39;00m file:\n\u001b[1;32m----> 3\u001b[0m     pickle\u001b[38;5;241m.\u001b[39mdump(Trouble_ventilatoire_predict, file)\n",
      "\u001b[1;31mNameError\u001b[0m: name 'Trouble_ventilatoire_predict' is not defined"
     ]
    }
   ],
   "source": [
    "# Sauvegarde du modèle\n",
    "with open('Trouble_ventilatoire_predict.pkl', 'wb') as file:\n",
    "    pickle.dump(Trouble_ventilatoire_predict, file)"
   ]
  },
  {
   "cell_type": "code",
   "execution_count": 38,
   "metadata": {},
   "outputs": [],
   "source": [
    "# Charger le modèle\n",
    "model = joblib.load('RF.pkl')"
   ]
  },
  {
   "cell_type": "code",
   "execution_count": 39,
   "metadata": {},
   "outputs": [],
   "source": [
    "def predict(features):\n",
    "    prediction = model.predict([features])\n",
    "    return prediction"
   ]
  },
  {
   "cell_type": "code",
   "execution_count": 41,
   "metadata": {},
   "outputs": [
    {
     "name": "stderr",
     "output_type": "stream",
     "text": [
      "2024-12-11 14:57:42.693 Thread 'MainThread': missing ScriptRunContext! This warning can be ignored when running in bare mode.\n",
      "2024-12-11 14:57:42.694 Thread 'MainThread': missing ScriptRunContext! This warning can be ignored when running in bare mode.\n"
     ]
    },
    {
     "data": {
      "text/plain": [
       "DeltaGenerator()"
      ]
     },
     "execution_count": 41,
     "metadata": {},
     "output_type": "execute_result"
    }
   ],
   "source": [
    "st.title('Model Prediction')"
   ]
  }
 ],
 "metadata": {
  "colab": {
   "provenance": []
  },
  "kernelspec": {
   "display_name": "Python 3 (ipykernel)",
   "language": "python",
   "name": "python3"
  },
  "language_info": {
   "codemirror_mode": {
    "name": "ipython",
    "version": 3
   },
   "file_extension": ".py",
   "mimetype": "text/x-python",
   "name": "python",
   "nbconvert_exporter": "python",
   "pygments_lexer": "ipython3",
   "version": "3.11.5"
  }
 },
 "nbformat": 4,
 "nbformat_minor": 1
}
