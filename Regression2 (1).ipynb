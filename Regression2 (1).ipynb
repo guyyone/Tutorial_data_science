{
 "cells": [
  {
   "cell_type": "markdown",
   "id": "6603519c",
   "metadata": {},
   "source": [
    "Regression2"
   ]
  },
  {
   "cell_type": "markdown",
   "id": "06d29116",
   "metadata": {},
   "source": [
    "Questions\n",
    "Consignes : Les 4 modèles de machine learning à entrainer sont : la régression logistique, le KNN, le Random Forest et la machine à vecteurs de support (SVM).\n",
    "1.\tFaire une analyse exploratoire des données (10 pts).\n"
   ]
  },
  {
   "cell_type": "code",
   "execution_count": 8,
   "id": "20af8391",
   "metadata": {},
   "outputs": [],
   "source": [
    "import pandas as pd"
   ]
  },
  {
   "cell_type": "code",
   "execution_count": 25,
   "id": "af597c45",
   "metadata": {},
   "outputs": [],
   "source": [
    "data = pd.read_csv('https://raw.githubusercontent.com/pefura/IFPERA/main/cohort_TB_death.csv', sep = ',')"
   ]
  },
  {
   "cell_type": "code",
   "execution_count": 26,
   "id": "3d8a4cde",
   "metadata": {},
   "outputs": [
    {
     "data": {
      "text/html": [
       "<div>\n",
       "<style scoped>\n",
       "    .dataframe tbody tr th:only-of-type {\n",
       "        vertical-align: middle;\n",
       "    }\n",
       "\n",
       "    .dataframe tbody tr th {\n",
       "        vertical-align: top;\n",
       "    }\n",
       "\n",
       "    .dataframe thead th {\n",
       "        text-align: right;\n",
       "    }\n",
       "</style>\n",
       "<table border=\"1\" class=\"dataframe\">\n",
       "  <thead>\n",
       "    <tr style=\"text-align: right;\">\n",
       "      <th></th>\n",
       "      <th>GENDER</th>\n",
       "      <th>AGE</th>\n",
       "      <th>weight</th>\n",
       "      <th>TB_FORM</th>\n",
       "      <th>VIH</th>\n",
       "      <th>TYPEPATI</th>\n",
       "      <th>HOSPINIT</th>\n",
       "      <th>FOLLOW_UP_DURATION</th>\n",
       "      <th>status</th>\n",
       "      <th>status_rec</th>\n",
       "    </tr>\n",
       "  </thead>\n",
       "  <tbody>\n",
       "    <tr>\n",
       "      <th>0</th>\n",
       "      <td>1</td>\n",
       "      <td>65</td>\n",
       "      <td>missing</td>\n",
       "      <td>2</td>\n",
       "      <td>2</td>\n",
       "      <td>1</td>\n",
       "      <td>2.0</td>\n",
       "      <td>30</td>\n",
       "      <td>2</td>\n",
       "      <td>0</td>\n",
       "    </tr>\n",
       "    <tr>\n",
       "      <th>1</th>\n",
       "      <td>1</td>\n",
       "      <td>36</td>\n",
       "      <td>missing</td>\n",
       "      <td>2</td>\n",
       "      <td>1</td>\n",
       "      <td>1</td>\n",
       "      <td>2.0</td>\n",
       "      <td>30</td>\n",
       "      <td>2</td>\n",
       "      <td>0</td>\n",
       "    </tr>\n",
       "    <tr>\n",
       "      <th>2</th>\n",
       "      <td>2</td>\n",
       "      <td>32</td>\n",
       "      <td>missing</td>\n",
       "      <td>2</td>\n",
       "      <td>1</td>\n",
       "      <td>1</td>\n",
       "      <td>2.0</td>\n",
       "      <td>30</td>\n",
       "      <td>2</td>\n",
       "      <td>0</td>\n",
       "    </tr>\n",
       "    <tr>\n",
       "      <th>3</th>\n",
       "      <td>2</td>\n",
       "      <td>32</td>\n",
       "      <td>missing</td>\n",
       "      <td>2</td>\n",
       "      <td>1</td>\n",
       "      <td>1</td>\n",
       "      <td>2.0</td>\n",
       "      <td>30</td>\n",
       "      <td>2</td>\n",
       "      <td>0</td>\n",
       "    </tr>\n",
       "    <tr>\n",
       "      <th>4</th>\n",
       "      <td>2</td>\n",
       "      <td>30</td>\n",
       "      <td>missing</td>\n",
       "      <td>2</td>\n",
       "      <td>1</td>\n",
       "      <td>1</td>\n",
       "      <td>2.0</td>\n",
       "      <td>30</td>\n",
       "      <td>2</td>\n",
       "      <td>0</td>\n",
       "    </tr>\n",
       "    <tr>\n",
       "      <th>5</th>\n",
       "      <td>2</td>\n",
       "      <td>30</td>\n",
       "      <td>&lt; 50 Kg</td>\n",
       "      <td>2</td>\n",
       "      <td>1</td>\n",
       "      <td>1</td>\n",
       "      <td>2.0</td>\n",
       "      <td>30</td>\n",
       "      <td>2</td>\n",
       "      <td>0</td>\n",
       "    </tr>\n",
       "    <tr>\n",
       "      <th>6</th>\n",
       "      <td>2</td>\n",
       "      <td>25</td>\n",
       "      <td>missing</td>\n",
       "      <td>2</td>\n",
       "      <td>2</td>\n",
       "      <td>1</td>\n",
       "      <td>2.0</td>\n",
       "      <td>30</td>\n",
       "      <td>2</td>\n",
       "      <td>0</td>\n",
       "    </tr>\n",
       "    <tr>\n",
       "      <th>7</th>\n",
       "      <td>1</td>\n",
       "      <td>22</td>\n",
       "      <td>missing</td>\n",
       "      <td>2</td>\n",
       "      <td>2</td>\n",
       "      <td>1</td>\n",
       "      <td>1.0</td>\n",
       "      <td>30</td>\n",
       "      <td>2</td>\n",
       "      <td>0</td>\n",
       "    </tr>\n",
       "    <tr>\n",
       "      <th>8</th>\n",
       "      <td>1</td>\n",
       "      <td>18</td>\n",
       "      <td>missing</td>\n",
       "      <td>2</td>\n",
       "      <td>2</td>\n",
       "      <td>1</td>\n",
       "      <td>2.0</td>\n",
       "      <td>30</td>\n",
       "      <td>2</td>\n",
       "      <td>0</td>\n",
       "    </tr>\n",
       "    <tr>\n",
       "      <th>9</th>\n",
       "      <td>2</td>\n",
       "      <td>15</td>\n",
       "      <td>missing</td>\n",
       "      <td>2</td>\n",
       "      <td>2</td>\n",
       "      <td>1</td>\n",
       "      <td>NaN</td>\n",
       "      <td>30</td>\n",
       "      <td>2</td>\n",
       "      <td>0</td>\n",
       "    </tr>\n",
       "    <tr>\n",
       "      <th>10</th>\n",
       "      <td>1</td>\n",
       "      <td>43</td>\n",
       "      <td>missing</td>\n",
       "      <td>2</td>\n",
       "      <td>3</td>\n",
       "      <td>1</td>\n",
       "      <td>2.0</td>\n",
       "      <td>60</td>\n",
       "      <td>2</td>\n",
       "      <td>0</td>\n",
       "    </tr>\n",
       "    <tr>\n",
       "      <th>11</th>\n",
       "      <td>1</td>\n",
       "      <td>39</td>\n",
       "      <td>missing</td>\n",
       "      <td>2</td>\n",
       "      <td>1</td>\n",
       "      <td>1</td>\n",
       "      <td>2.0</td>\n",
       "      <td>60</td>\n",
       "      <td>2</td>\n",
       "      <td>0</td>\n",
       "    </tr>\n",
       "    <tr>\n",
       "      <th>12</th>\n",
       "      <td>1</td>\n",
       "      <td>45</td>\n",
       "      <td>50-69 Kg</td>\n",
       "      <td>2</td>\n",
       "      <td>1</td>\n",
       "      <td>1</td>\n",
       "      <td>2.0</td>\n",
       "      <td>90</td>\n",
       "      <td>2</td>\n",
       "      <td>0</td>\n",
       "    </tr>\n",
       "  </tbody>\n",
       "</table>\n",
       "</div>"
      ],
      "text/plain": [
       "    GENDER  AGE    weight  TB_FORM  VIH  TYPEPATI  HOSPINIT  \\\n",
       "0        1   65   missing        2    2         1       2.0   \n",
       "1        1   36   missing        2    1         1       2.0   \n",
       "2        2   32   missing        2    1         1       2.0   \n",
       "3        2   32   missing        2    1         1       2.0   \n",
       "4        2   30   missing        2    1         1       2.0   \n",
       "5        2   30   < 50 Kg        2    1         1       2.0   \n",
       "6        2   25   missing        2    2         1       2.0   \n",
       "7        1   22   missing        2    2         1       1.0   \n",
       "8        1   18   missing        2    2         1       2.0   \n",
       "9        2   15   missing        2    2         1       NaN   \n",
       "10       1   43   missing        2    3         1       2.0   \n",
       "11       1   39   missing        2    1         1       2.0   \n",
       "12       1   45  50-69 Kg        2    1         1       2.0   \n",
       "\n",
       "    FOLLOW_UP_DURATION  status  status_rec  \n",
       "0                   30       2           0  \n",
       "1                   30       2           0  \n",
       "2                   30       2           0  \n",
       "3                   30       2           0  \n",
       "4                   30       2           0  \n",
       "5                   30       2           0  \n",
       "6                   30       2           0  \n",
       "7                   30       2           0  \n",
       "8                   30       2           0  \n",
       "9                   30       2           0  \n",
       "10                  60       2           0  \n",
       "11                  60       2           0  \n",
       "12                  90       2           0  "
      ]
     },
     "execution_count": 26,
     "metadata": {},
     "output_type": "execute_result"
    }
   ],
   "source": [
    "data.head(13)"
   ]
  },
  {
   "cell_type": "markdown",
   "id": "18e44e78",
   "metadata": {},
   "source": [
    "Importation des librairies"
   ]
  },
  {
   "cell_type": "code",
   "execution_count": 27,
   "id": "467d0940",
   "metadata": {},
   "outputs": [],
   "source": [
    "import pandas as pd\n",
    "import numpy as np\n",
    "import matplotlib.pyplot as plt\n",
    "import seaborn as sns\n",
    "#to ignore warnings\n",
    "import warnings\n",
    "warnings.filterwarnings('ignore')"
   ]
  },
  {
   "cell_type": "markdown",
   "id": "4eeb5cfb",
   "metadata": {},
   "source": [
    ">  1.Faire une analyse exploratoire des données (10 pts)."
   ]
  },
  {
   "cell_type": "code",
   "execution_count": 28,
   "id": "7d4db159",
   "metadata": {},
   "outputs": [
    {
     "name": "stdout",
     "output_type": "stream",
     "text": [
      "       GENDER  AGE    weight  TB_FORM  VIH  TYPEPATI  HOSPINIT  \\\n",
      "19678       2   17  50-69 Kg        1    2         1       1.0   \n",
      "19679       1   16   < 50 Kg        1    2         1       2.0   \n",
      "19680       1   49  50-69 Kg        1    1         3       1.0   \n",
      "\n",
      "       FOLLOW_UP_DURATION  status  status_rec  \n",
      "19678                 180       0           0  \n",
      "19679                 180       0           0  \n",
      "19680                 240       0           0  \n",
      "<class 'pandas.core.frame.DataFrame'>\n",
      "RangeIndex: 19681 entries, 0 to 19680\n",
      "Data columns (total 10 columns):\n",
      " #   Column              Non-Null Count  Dtype  \n",
      "---  ------              --------------  -----  \n",
      " 0   GENDER              19681 non-null  int64  \n",
      " 1   AGE                 19681 non-null  int64  \n",
      " 2   weight              19681 non-null  object \n",
      " 3   TB_FORM             19681 non-null  int64  \n",
      " 4   VIH                 19681 non-null  int64  \n",
      " 5   TYPEPATI            19681 non-null  int64  \n",
      " 6   HOSPINIT            18627 non-null  float64\n",
      " 7   FOLLOW_UP_DURATION  19681 non-null  int64  \n",
      " 8   status              19681 non-null  int64  \n",
      " 9   status_rec          19681 non-null  int64  \n",
      "dtypes: float64(1), int64(8), object(1)\n",
      "memory usage: 1.5+ MB\n"
     ]
    }
   ],
   "source": [
    "print(data.tail(3)); data.info()"
   ]
  },
  {
   "cell_type": "code",
   "execution_count": 29,
   "id": "1ba21d8e",
   "metadata": {},
   "outputs": [
    {
     "data": {
      "text/plain": [
       "GENDER                  2\n",
       "AGE                    86\n",
       "weight                  4\n",
       "TB_FORM                 3\n",
       "VIH                     3\n",
       "TYPEPATI                3\n",
       "HOSPINIT                2\n",
       "FOLLOW_UP_DURATION    151\n",
       "status                  3\n",
       "status_rec              2\n",
       "dtype: int64"
      ]
     },
     "execution_count": 29,
     "metadata": {},
     "output_type": "execute_result"
    }
   ],
   "source": [
    "data.nunique()"
   ]
  },
  {
   "cell_type": "code",
   "execution_count": 30,
   "id": "a0d92948",
   "metadata": {},
   "outputs": [
    {
     "data": {
      "text/plain": [
       "GENDER                   0\n",
       "AGE                      0\n",
       "weight                   0\n",
       "TB_FORM                  0\n",
       "VIH                      0\n",
       "TYPEPATI                 0\n",
       "HOSPINIT              1054\n",
       "FOLLOW_UP_DURATION       0\n",
       "status                   0\n",
       "status_rec               0\n",
       "dtype: int64"
      ]
     },
     "execution_count": 30,
     "metadata": {},
     "output_type": "execute_result"
    }
   ],
   "source": [
    "data.isnull().sum()"
   ]
  },
  {
   "cell_type": "code",
   "execution_count": 31,
   "id": "7f0d87bf",
   "metadata": {},
   "outputs": [
    {
     "data": {
      "text/plain": [
       "GENDER                0.00\n",
       "AGE                   0.00\n",
       "weight                0.00\n",
       "TB_FORM               0.00\n",
       "VIH                   0.00\n",
       "TYPEPATI              0.00\n",
       "HOSPINIT              5.36\n",
       "FOLLOW_UP_DURATION    0.00\n",
       "status                0.00\n",
       "status_rec            0.00\n",
       "dtype: float64"
      ]
     },
     "execution_count": 31,
     "metadata": {},
     "output_type": "execute_result"
    }
   ],
   "source": [
    "((data.isnull().sum()/(len(data)))*100).round(2)"
   ]
  },
  {
   "cell_type": "code",
   "execution_count": 32,
   "id": "cb69de63",
   "metadata": {},
   "outputs": [],
   "source": [
    "# Remove S.No. column from data\n",
    "#data = data.drop(['S.No.'], axis = 1)\n",
    "#data.info()"
   ]
  },
  {
   "cell_type": "code",
   "execution_count": 33,
   "id": "cbdef24e",
   "metadata": {},
   "outputs": [],
   "source": [
    "# Affichage des valeurs nulles\n",
    "#print(data.shape)"
   ]
  },
  {
   "cell_type": "code",
   "execution_count": 34,
   "id": "c38d5901",
   "metadata": {},
   "outputs": [],
   "source": [
    "# Faire une liste de types de valeurs manquantes\n",
    "missing_values = ['missing']\n",
    "df = pd.read_csv('https://raw.githubusercontent.com/pefura/IFPERA/main/cohort_TB_death.csv', sep = ',', na_values = missing_values)"
   ]
  },
  {
   "cell_type": "code",
   "execution_count": 35,
   "id": "4cbcd71b",
   "metadata": {},
   "outputs": [
    {
     "data": {
      "text/plain": [
       "(19681, 10)"
      ]
     },
     "execution_count": 35,
     "metadata": {},
     "output_type": "execute_result"
    }
   ],
   "source": [
    "df.shape"
   ]
  },
  {
   "cell_type": "code",
   "execution_count": 36,
   "id": "f46254b8",
   "metadata": {},
   "outputs": [
    {
     "data": {
      "text/plain": [
       "GENDER                    0\n",
       "AGE                       0\n",
       "weight                11454\n",
       "TB_FORM                   0\n",
       "VIH                       0\n",
       "TYPEPATI                  0\n",
       "HOSPINIT               1054\n",
       "FOLLOW_UP_DURATION        0\n",
       "status                    0\n",
       "status_rec                0\n",
       "dtype: int64"
      ]
     },
     "execution_count": 36,
     "metadata": {},
     "output_type": "execute_result"
    }
   ],
   "source": [
    "df.isnull().sum()"
   ]
  },
  {
   "cell_type": "code",
   "execution_count": 37,
   "id": "c7a52d1a",
   "metadata": {},
   "outputs": [
    {
     "data": {
      "text/plain": [
       "(19681, 10)"
      ]
     },
     "execution_count": 37,
     "metadata": {},
     "output_type": "execute_result"
    }
   ],
   "source": [
    "df.shape"
   ]
  },
  {
   "cell_type": "code",
   "execution_count": 38,
   "id": "93d14b50",
   "metadata": {},
   "outputs": [],
   "source": [
    "df.dropna(inplace=True)"
   ]
  },
  {
   "cell_type": "code",
   "execution_count": 39,
   "id": "95164d3a",
   "metadata": {},
   "outputs": [
    {
     "data": {
      "text/plain": [
       "(8160, 10)"
      ]
     },
     "execution_count": 39,
     "metadata": {},
     "output_type": "execute_result"
    }
   ],
   "source": [
    "df.shape"
   ]
  },
  {
   "cell_type": "code",
   "execution_count": 40,
   "id": "880890ae",
   "metadata": {},
   "outputs": [],
   "source": [
    "df[\"GENDER\"] = df[\"GENDER\"].astype(str)\n",
    "df[\"TB_FORM\"] = df[\"TB_FORM\"].astype(str)\n",
    "df[\"VIH\"] = df[\"VIH\"].astype(str)\n",
    "df[\"TYPEPATI\"] = df[\"TYPEPATI\"].astype(str)\n",
    "df[\"HOSPINIT\"] = df[\"HOSPINIT\"].astype(str)\n",
    "df[\"status\"] = df[\"status\"].astype(str)\n",
    "df[\"status_rec\"] = df[\"status_rec\"].astype(str)\n",
    "df[\"AGE\"] = df[\"AGE\"].astype(float)\n",
    "df[\"FOLLOW_UP_DURATION\"] = df[\"FOLLOW_UP_DURATION\"].astype(float)"
   ]
  },
  {
   "cell_type": "code",
   "execution_count": 41,
   "id": "f6a1920d",
   "metadata": {},
   "outputs": [
    {
     "data": {
      "text/plain": [
       "GENDER                 object\n",
       "AGE                   float64\n",
       "weight                 object\n",
       "TB_FORM                object\n",
       "VIH                    object\n",
       "TYPEPATI               object\n",
       "HOSPINIT               object\n",
       "FOLLOW_UP_DURATION    float64\n",
       "status                 object\n",
       "status_rec             object\n",
       "dtype: object"
      ]
     },
     "execution_count": 41,
     "metadata": {},
     "output_type": "execute_result"
    }
   ],
   "source": [
    "df.dtypes"
   ]
  },
  {
   "cell_type": "code",
   "execution_count": 42,
   "id": "41d7fa98",
   "metadata": {},
   "outputs": [
    {
     "data": {
      "text/plain": [
       "41.46130786037295"
      ]
     },
     "execution_count": 42,
     "metadata": {},
     "output_type": "execute_result"
    }
   ],
   "source": [
    "x = (8160/19681)*100\n",
    "x"
   ]
  },
  {
   "cell_type": "code",
   "execution_count": 43,
   "id": "ec0c1103",
   "metadata": {},
   "outputs": [],
   "source": [
    "# Suprimer la colonne weight qui a 42% de valeurs manquante\n",
    "df.drop('weight', axis=1, inplace=True)"
   ]
  },
  {
   "cell_type": "code",
   "execution_count": 44,
   "id": "8f00102a",
   "metadata": {},
   "outputs": [
    {
     "data": {
      "text/html": [
       "<div>\n",
       "<style scoped>\n",
       "    .dataframe tbody tr th:only-of-type {\n",
       "        vertical-align: middle;\n",
       "    }\n",
       "\n",
       "    .dataframe tbody tr th {\n",
       "        vertical-align: top;\n",
       "    }\n",
       "\n",
       "    .dataframe thead th {\n",
       "        text-align: right;\n",
       "    }\n",
       "</style>\n",
       "<table border=\"1\" class=\"dataframe\">\n",
       "  <thead>\n",
       "    <tr style=\"text-align: right;\">\n",
       "      <th></th>\n",
       "      <th>GENDER</th>\n",
       "      <th>AGE</th>\n",
       "      <th>TB_FORM</th>\n",
       "      <th>VIH</th>\n",
       "      <th>TYPEPATI</th>\n",
       "      <th>HOSPINIT</th>\n",
       "      <th>FOLLOW_UP_DURATION</th>\n",
       "      <th>status</th>\n",
       "      <th>status_rec</th>\n",
       "    </tr>\n",
       "  </thead>\n",
       "  <tbody>\n",
       "    <tr>\n",
       "      <th>5</th>\n",
       "      <td>2</td>\n",
       "      <td>30.0</td>\n",
       "      <td>2</td>\n",
       "      <td>1</td>\n",
       "      <td>1</td>\n",
       "      <td>2.0</td>\n",
       "      <td>30.0</td>\n",
       "      <td>2</td>\n",
       "      <td>0</td>\n",
       "    </tr>\n",
       "    <tr>\n",
       "      <th>12</th>\n",
       "      <td>1</td>\n",
       "      <td>45.0</td>\n",
       "      <td>2</td>\n",
       "      <td>1</td>\n",
       "      <td>1</td>\n",
       "      <td>2.0</td>\n",
       "      <td>90.0</td>\n",
       "      <td>2</td>\n",
       "      <td>0</td>\n",
       "    </tr>\n",
       "    <tr>\n",
       "      <th>14</th>\n",
       "      <td>2</td>\n",
       "      <td>28.0</td>\n",
       "      <td>2</td>\n",
       "      <td>1</td>\n",
       "      <td>1</td>\n",
       "      <td>2.0</td>\n",
       "      <td>90.0</td>\n",
       "      <td>2</td>\n",
       "      <td>0</td>\n",
       "    </tr>\n",
       "  </tbody>\n",
       "</table>\n",
       "</div>"
      ],
      "text/plain": [
       "   GENDER   AGE TB_FORM VIH TYPEPATI HOSPINIT  FOLLOW_UP_DURATION status  \\\n",
       "5       2  30.0       2   1        1      2.0                30.0      2   \n",
       "12      1  45.0       2   1        1      2.0                90.0      2   \n",
       "14      2  28.0       2   1        1      2.0                90.0      2   \n",
       "\n",
       "   status_rec  \n",
       "5           0  \n",
       "12          0  \n",
       "14          0  "
      ]
     },
     "execution_count": 44,
     "metadata": {},
     "output_type": "execute_result"
    }
   ],
   "source": [
    "df.head(3)"
   ]
  },
  {
   "cell_type": "markdown",
   "id": "7b278635",
   "metadata": {},
   "source": [
    "> 2.\tDéfinir un pipeline permettant de traiter simultanément toutes les colonnes des variables explicatives en appliquant  un encodage one hot sur les variables qualitatives et une normalisation robuste sur les variables quantitatives (10pts)."
   ]
  },
  {
   "cell_type": "code",
   "execution_count": 45,
   "id": "da7e5ed2",
   "metadata": {},
   "outputs": [],
   "source": [
    "var_cat = ['GENDER', 'TB_FORM', 'VIH', 'TYPEPATI', 'FOLLOW_UP_DURATION', 'status', 'status_rec']\n",
    "var_num = ['AGE', 'FOLLOW_UP_DURATION']"
   ]
  },
  {
   "cell_type": "code",
   "execution_count": 46,
   "id": "726555cf",
   "metadata": {},
   "outputs": [],
   "source": [
    "from sklearn.preprocessing import OneHotEncoder\n",
    "from sklearn.preprocessing import RobustScaler\n",
    "from sklearn.pipeline import Pipeline\n",
    "from sklearn.pipeline import make_pipeline\n",
    "from sklearn.compose import make_column_transformer"
   ]
  },
  {
   "cell_type": "code",
   "execution_count": 47,
   "id": "46f1cfb7",
   "metadata": {},
   "outputs": [
    {
     "data": {
      "text/html": [
       "<style>#sk-container-id-1 {color: black;}#sk-container-id-1 pre{padding: 0;}#sk-container-id-1 div.sk-toggleable {background-color: white;}#sk-container-id-1 label.sk-toggleable__label {cursor: pointer;display: block;width: 100%;margin-bottom: 0;padding: 0.3em;box-sizing: border-box;text-align: center;}#sk-container-id-1 label.sk-toggleable__label-arrow:before {content: \"▸\";float: left;margin-right: 0.25em;color: #696969;}#sk-container-id-1 label.sk-toggleable__label-arrow:hover:before {color: black;}#sk-container-id-1 div.sk-estimator:hover label.sk-toggleable__label-arrow:before {color: black;}#sk-container-id-1 div.sk-toggleable__content {max-height: 0;max-width: 0;overflow: hidden;text-align: left;background-color: #f0f8ff;}#sk-container-id-1 div.sk-toggleable__content pre {margin: 0.2em;color: black;border-radius: 0.25em;background-color: #f0f8ff;}#sk-container-id-1 input.sk-toggleable__control:checked~div.sk-toggleable__content {max-height: 200px;max-width: 100%;overflow: auto;}#sk-container-id-1 input.sk-toggleable__control:checked~label.sk-toggleable__label-arrow:before {content: \"▾\";}#sk-container-id-1 div.sk-estimator input.sk-toggleable__control:checked~label.sk-toggleable__label {background-color: #d4ebff;}#sk-container-id-1 div.sk-label input.sk-toggleable__control:checked~label.sk-toggleable__label {background-color: #d4ebff;}#sk-container-id-1 input.sk-hidden--visually {border: 0;clip: rect(1px 1px 1px 1px);clip: rect(1px, 1px, 1px, 1px);height: 1px;margin: -1px;overflow: hidden;padding: 0;position: absolute;width: 1px;}#sk-container-id-1 div.sk-estimator {font-family: monospace;background-color: #f0f8ff;border: 1px dotted black;border-radius: 0.25em;box-sizing: border-box;margin-bottom: 0.5em;}#sk-container-id-1 div.sk-estimator:hover {background-color: #d4ebff;}#sk-container-id-1 div.sk-parallel-item::after {content: \"\";width: 100%;border-bottom: 1px solid gray;flex-grow: 1;}#sk-container-id-1 div.sk-label:hover label.sk-toggleable__label {background-color: #d4ebff;}#sk-container-id-1 div.sk-serial::before {content: \"\";position: absolute;border-left: 1px solid gray;box-sizing: border-box;top: 0;bottom: 0;left: 50%;z-index: 0;}#sk-container-id-1 div.sk-serial {display: flex;flex-direction: column;align-items: center;background-color: white;padding-right: 0.2em;padding-left: 0.2em;position: relative;}#sk-container-id-1 div.sk-item {position: relative;z-index: 1;}#sk-container-id-1 div.sk-parallel {display: flex;align-items: stretch;justify-content: center;background-color: white;position: relative;}#sk-container-id-1 div.sk-item::before, #sk-container-id-1 div.sk-parallel-item::before {content: \"\";position: absolute;border-left: 1px solid gray;box-sizing: border-box;top: 0;bottom: 0;left: 50%;z-index: -1;}#sk-container-id-1 div.sk-parallel-item {display: flex;flex-direction: column;z-index: 1;position: relative;background-color: white;}#sk-container-id-1 div.sk-parallel-item:first-child::after {align-self: flex-end;width: 50%;}#sk-container-id-1 div.sk-parallel-item:last-child::after {align-self: flex-start;width: 50%;}#sk-container-id-1 div.sk-parallel-item:only-child::after {width: 0;}#sk-container-id-1 div.sk-dashed-wrapped {border: 1px dashed gray;margin: 0 0.4em 0.5em 0.4em;box-sizing: border-box;padding-bottom: 0.4em;background-color: white;}#sk-container-id-1 div.sk-label label {font-family: monospace;font-weight: bold;display: inline-block;line-height: 1.2em;}#sk-container-id-1 div.sk-label-container {text-align: center;}#sk-container-id-1 div.sk-container {/* jupyter's `normalize.less` sets `[hidden] { display: none; }` but bootstrap.min.css set `[hidden] { display: none !important; }` so we also need the `!important` here to be able to override the default hidden behavior on the sphinx rendered scikit-learn.org. See: https://github.com/scikit-learn/scikit-learn/issues/21755 */display: inline-block !important;position: relative;}#sk-container-id-1 div.sk-text-repr-fallback {display: none;}</style><div id=\"sk-container-id-1\" class=\"sk-top-container\"><div class=\"sk-text-repr-fallback\"><pre>ColumnTransformer(transformers=[(&#x27;pipeline-1&#x27;,\n",
       "                                 Pipeline(steps=[(&#x27;onehotencoder&#x27;,\n",
       "                                                  OneHotEncoder())]),\n",
       "                                 [&#x27;GENDER&#x27;, &#x27;TB_FORM&#x27;, &#x27;VIH&#x27;, &#x27;TYPEPATI&#x27;,\n",
       "                                  &#x27;FOLLOW_UP_DURATION&#x27;, &#x27;status&#x27;,\n",
       "                                  &#x27;status_rec&#x27;]),\n",
       "                                (&#x27;pipeline-2&#x27;,\n",
       "                                 Pipeline(steps=[(&#x27;robustscaler&#x27;,\n",
       "                                                  RobustScaler())]),\n",
       "                                 [&#x27;AGE&#x27;, &#x27;FOLLOW_UP_DURATION&#x27;])])</pre><b>In a Jupyter environment, please rerun this cell to show the HTML representation or trust the notebook. <br />On GitHub, the HTML representation is unable to render, please try loading this page with nbviewer.org.</b></div><div class=\"sk-container\" hidden><div class=\"sk-item sk-dashed-wrapped\"><div class=\"sk-label-container\"><div class=\"sk-label sk-toggleable\"><input class=\"sk-toggleable__control sk-hidden--visually\" id=\"sk-estimator-id-1\" type=\"checkbox\" ><label for=\"sk-estimator-id-1\" class=\"sk-toggleable__label sk-toggleable__label-arrow\">ColumnTransformer</label><div class=\"sk-toggleable__content\"><pre>ColumnTransformer(transformers=[(&#x27;pipeline-1&#x27;,\n",
       "                                 Pipeline(steps=[(&#x27;onehotencoder&#x27;,\n",
       "                                                  OneHotEncoder())]),\n",
       "                                 [&#x27;GENDER&#x27;, &#x27;TB_FORM&#x27;, &#x27;VIH&#x27;, &#x27;TYPEPATI&#x27;,\n",
       "                                  &#x27;FOLLOW_UP_DURATION&#x27;, &#x27;status&#x27;,\n",
       "                                  &#x27;status_rec&#x27;]),\n",
       "                                (&#x27;pipeline-2&#x27;,\n",
       "                                 Pipeline(steps=[(&#x27;robustscaler&#x27;,\n",
       "                                                  RobustScaler())]),\n",
       "                                 [&#x27;AGE&#x27;, &#x27;FOLLOW_UP_DURATION&#x27;])])</pre></div></div></div><div class=\"sk-parallel\"><div class=\"sk-parallel-item\"><div class=\"sk-item\"><div class=\"sk-label-container\"><div class=\"sk-label sk-toggleable\"><input class=\"sk-toggleable__control sk-hidden--visually\" id=\"sk-estimator-id-2\" type=\"checkbox\" ><label for=\"sk-estimator-id-2\" class=\"sk-toggleable__label sk-toggleable__label-arrow\">pipeline-1</label><div class=\"sk-toggleable__content\"><pre>[&#x27;GENDER&#x27;, &#x27;TB_FORM&#x27;, &#x27;VIH&#x27;, &#x27;TYPEPATI&#x27;, &#x27;FOLLOW_UP_DURATION&#x27;, &#x27;status&#x27;, &#x27;status_rec&#x27;]</pre></div></div></div><div class=\"sk-serial\"><div class=\"sk-item\"><div class=\"sk-serial\"><div class=\"sk-item\"><div class=\"sk-estimator sk-toggleable\"><input class=\"sk-toggleable__control sk-hidden--visually\" id=\"sk-estimator-id-3\" type=\"checkbox\" ><label for=\"sk-estimator-id-3\" class=\"sk-toggleable__label sk-toggleable__label-arrow\">OneHotEncoder</label><div class=\"sk-toggleable__content\"><pre>OneHotEncoder()</pre></div></div></div></div></div></div></div></div><div class=\"sk-parallel-item\"><div class=\"sk-item\"><div class=\"sk-label-container\"><div class=\"sk-label sk-toggleable\"><input class=\"sk-toggleable__control sk-hidden--visually\" id=\"sk-estimator-id-4\" type=\"checkbox\" ><label for=\"sk-estimator-id-4\" class=\"sk-toggleable__label sk-toggleable__label-arrow\">pipeline-2</label><div class=\"sk-toggleable__content\"><pre>[&#x27;AGE&#x27;, &#x27;FOLLOW_UP_DURATION&#x27;]</pre></div></div></div><div class=\"sk-serial\"><div class=\"sk-item\"><div class=\"sk-serial\"><div class=\"sk-item\"><div class=\"sk-estimator sk-toggleable\"><input class=\"sk-toggleable__control sk-hidden--visually\" id=\"sk-estimator-id-5\" type=\"checkbox\" ><label for=\"sk-estimator-id-5\" class=\"sk-toggleable__label sk-toggleable__label-arrow\">RobustScaler</label><div class=\"sk-toggleable__content\"><pre>RobustScaler()</pre></div></div></div></div></div></div></div></div></div></div></div></div>"
      ],
      "text/plain": [
       "ColumnTransformer(transformers=[('pipeline-1',\n",
       "                                 Pipeline(steps=[('onehotencoder',\n",
       "                                                  OneHotEncoder())]),\n",
       "                                 ['GENDER', 'TB_FORM', 'VIH', 'TYPEPATI',\n",
       "                                  'FOLLOW_UP_DURATION', 'status',\n",
       "                                  'status_rec']),\n",
       "                                ('pipeline-2',\n",
       "                                 Pipeline(steps=[('robustscaler',\n",
       "                                                  RobustScaler())]),\n",
       "                                 ['AGE', 'FOLLOW_UP_DURATION'])])"
      ]
     },
     "execution_count": 47,
     "metadata": {},
     "output_type": "execute_result"
    }
   ],
   "source": [
    "cat_pipeline = make_pipeline(OneHotEncoder())\n",
    "num_pipeline = make_pipeline(RobustScaler())\n",
    "\n",
    "pipeline = make_column_transformer((cat_pipeline, var_cat),\n",
    "                                       (num_pipeline, var_num))\n",
    "pipeline"
   ]
  },
  {
   "cell_type": "markdown",
   "id": "f5f516c1",
   "metadata": {},
   "source": [
    "> Questions\n",
    "Consignes : Les 4 modèles de machine learning à entrainer sont : la régression logistique, le KNN, le Random Forest et la machine à vecteurs de support (SVM).\n"
   ]
  },
  {
   "cell_type": "markdown",
   "id": "d3d15dd0",
   "metadata": {},
   "source": [
    "> 3.\tUtiliser une technique de validation croisée pour choisir les hyperparamètres optimaux (le score F1 sera choisi pour l’optimisation) des différents modèles le cas échéant (10 pts)"
   ]
  },
  {
   "cell_type": "code",
   "execution_count": 58,
   "id": "036e5db6",
   "metadata": {},
   "outputs": [],
   "source": [
    "from sklearn.linear_model import LogisticRegression\n",
    "from sklearn.svm import SVC\n",
    "from sklearn.neighbors import KNeighborsClassifier\n",
    "from sklearn.ensemble import RandomForestClassifier, AdaBoostClassifier\n",
    "from sklearn.pipeline import make_pipeline\n",
    "from sklearn.feature_selection import SelectKBest, f_classif\n",
    "from sklearn.preprocessing import PolynomialFeatures"
   ]
  },
  {
   "cell_type": "code",
   "execution_count": 49,
   "id": "3834a252",
   "metadata": {},
   "outputs": [],
   "source": [
    "# Selectionne des prédicteurs et la variable réponse\n",
    "# Diviser le dataset en train et test set (il faut avoir un module pouvant le faire)\n",
    "\n",
    "y = df['status']\n",
    "X = df.drop(columns =['GENDER', 'status', 'status_rec'])\n",
    "\n",
    "from sklearn.model_selection import train_test_split\n",
    "\n",
    "X_train, X_test, y_train, y_test = train_test_split(X, y,test_size=0.2, random_state=0)\n"
   ]
  },
  {
   "cell_type": "code",
   "execution_count": 59,
   "id": "04ec5906",
   "metadata": {},
   "outputs": [],
   "source": [
    "from sklearn.model_selection import RandomizedSearchCV\n",
    "from scipy.stats import randint\n",
    "from sklearn.model_selection import validation_curve"
   ]
  },
  {
   "cell_type": "code",
   "execution_count": 51,
   "id": "25cfca4c",
   "metadata": {},
   "outputs": [],
   "source": [
    "LR_pipe = make_pipeline(pipeline, LogisticRegression(random_state=0))\n",
    "KNN_pipe = make_pipeline(pipeline, KNeighborsClassifier())\n",
    "RF_pipe = make_pipeline(pipeline, RandomForestClassifier(random_state=0))\n",
    "SVM_pipe = make_pipeline(pipeline, SVC(random_state=0))"
   ]
  },
  {
   "cell_type": "code",
   "execution_count": 52,
   "id": "c5798fd7",
   "metadata": {},
   "outputs": [
    {
     "data": {
      "text/html": [
       "<style>#sk-container-id-2 {color: black;}#sk-container-id-2 pre{padding: 0;}#sk-container-id-2 div.sk-toggleable {background-color: white;}#sk-container-id-2 label.sk-toggleable__label {cursor: pointer;display: block;width: 100%;margin-bottom: 0;padding: 0.3em;box-sizing: border-box;text-align: center;}#sk-container-id-2 label.sk-toggleable__label-arrow:before {content: \"▸\";float: left;margin-right: 0.25em;color: #696969;}#sk-container-id-2 label.sk-toggleable__label-arrow:hover:before {color: black;}#sk-container-id-2 div.sk-estimator:hover label.sk-toggleable__label-arrow:before {color: black;}#sk-container-id-2 div.sk-toggleable__content {max-height: 0;max-width: 0;overflow: hidden;text-align: left;background-color: #f0f8ff;}#sk-container-id-2 div.sk-toggleable__content pre {margin: 0.2em;color: black;border-radius: 0.25em;background-color: #f0f8ff;}#sk-container-id-2 input.sk-toggleable__control:checked~div.sk-toggleable__content {max-height: 200px;max-width: 100%;overflow: auto;}#sk-container-id-2 input.sk-toggleable__control:checked~label.sk-toggleable__label-arrow:before {content: \"▾\";}#sk-container-id-2 div.sk-estimator input.sk-toggleable__control:checked~label.sk-toggleable__label {background-color: #d4ebff;}#sk-container-id-2 div.sk-label input.sk-toggleable__control:checked~label.sk-toggleable__label {background-color: #d4ebff;}#sk-container-id-2 input.sk-hidden--visually {border: 0;clip: rect(1px 1px 1px 1px);clip: rect(1px, 1px, 1px, 1px);height: 1px;margin: -1px;overflow: hidden;padding: 0;position: absolute;width: 1px;}#sk-container-id-2 div.sk-estimator {font-family: monospace;background-color: #f0f8ff;border: 1px dotted black;border-radius: 0.25em;box-sizing: border-box;margin-bottom: 0.5em;}#sk-container-id-2 div.sk-estimator:hover {background-color: #d4ebff;}#sk-container-id-2 div.sk-parallel-item::after {content: \"\";width: 100%;border-bottom: 1px solid gray;flex-grow: 1;}#sk-container-id-2 div.sk-label:hover label.sk-toggleable__label {background-color: #d4ebff;}#sk-container-id-2 div.sk-serial::before {content: \"\";position: absolute;border-left: 1px solid gray;box-sizing: border-box;top: 0;bottom: 0;left: 50%;z-index: 0;}#sk-container-id-2 div.sk-serial {display: flex;flex-direction: column;align-items: center;background-color: white;padding-right: 0.2em;padding-left: 0.2em;position: relative;}#sk-container-id-2 div.sk-item {position: relative;z-index: 1;}#sk-container-id-2 div.sk-parallel {display: flex;align-items: stretch;justify-content: center;background-color: white;position: relative;}#sk-container-id-2 div.sk-item::before, #sk-container-id-2 div.sk-parallel-item::before {content: \"\";position: absolute;border-left: 1px solid gray;box-sizing: border-box;top: 0;bottom: 0;left: 50%;z-index: -1;}#sk-container-id-2 div.sk-parallel-item {display: flex;flex-direction: column;z-index: 1;position: relative;background-color: white;}#sk-container-id-2 div.sk-parallel-item:first-child::after {align-self: flex-end;width: 50%;}#sk-container-id-2 div.sk-parallel-item:last-child::after {align-self: flex-start;width: 50%;}#sk-container-id-2 div.sk-parallel-item:only-child::after {width: 0;}#sk-container-id-2 div.sk-dashed-wrapped {border: 1px dashed gray;margin: 0 0.4em 0.5em 0.4em;box-sizing: border-box;padding-bottom: 0.4em;background-color: white;}#sk-container-id-2 div.sk-label label {font-family: monospace;font-weight: bold;display: inline-block;line-height: 1.2em;}#sk-container-id-2 div.sk-label-container {text-align: center;}#sk-container-id-2 div.sk-container {/* jupyter's `normalize.less` sets `[hidden] { display: none; }` but bootstrap.min.css set `[hidden] { display: none !important; }` so we also need the `!important` here to be able to override the default hidden behavior on the sphinx rendered scikit-learn.org. See: https://github.com/scikit-learn/scikit-learn/issues/21755 */display: inline-block !important;position: relative;}#sk-container-id-2 div.sk-text-repr-fallback {display: none;}</style><div id=\"sk-container-id-2\" class=\"sk-top-container\"><div class=\"sk-text-repr-fallback\"><pre>Pipeline(steps=[(&#x27;columntransformer&#x27;,\n",
       "                 ColumnTransformer(transformers=[(&#x27;pipeline-1&#x27;,\n",
       "                                                  Pipeline(steps=[(&#x27;onehotencoder&#x27;,\n",
       "                                                                   OneHotEncoder())]),\n",
       "                                                  [&#x27;GENDER&#x27;, &#x27;TB_FORM&#x27;, &#x27;VIH&#x27;,\n",
       "                                                   &#x27;TYPEPATI&#x27;,\n",
       "                                                   &#x27;FOLLOW_UP_DURATION&#x27;,\n",
       "                                                   &#x27;status&#x27;, &#x27;status_rec&#x27;]),\n",
       "                                                 (&#x27;pipeline-2&#x27;,\n",
       "                                                  Pipeline(steps=[(&#x27;robustscaler&#x27;,\n",
       "                                                                   RobustScaler())]),\n",
       "                                                  [&#x27;AGE&#x27;,\n",
       "                                                   &#x27;FOLLOW_UP_DURATION&#x27;])])),\n",
       "                (&#x27;kneighborsclassifier&#x27;, KNeighborsClassifier())])</pre><b>In a Jupyter environment, please rerun this cell to show the HTML representation or trust the notebook. <br />On GitHub, the HTML representation is unable to render, please try loading this page with nbviewer.org.</b></div><div class=\"sk-container\" hidden><div class=\"sk-item sk-dashed-wrapped\"><div class=\"sk-label-container\"><div class=\"sk-label sk-toggleable\"><input class=\"sk-toggleable__control sk-hidden--visually\" id=\"sk-estimator-id-6\" type=\"checkbox\" ><label for=\"sk-estimator-id-6\" class=\"sk-toggleable__label sk-toggleable__label-arrow\">Pipeline</label><div class=\"sk-toggleable__content\"><pre>Pipeline(steps=[(&#x27;columntransformer&#x27;,\n",
       "                 ColumnTransformer(transformers=[(&#x27;pipeline-1&#x27;,\n",
       "                                                  Pipeline(steps=[(&#x27;onehotencoder&#x27;,\n",
       "                                                                   OneHotEncoder())]),\n",
       "                                                  [&#x27;GENDER&#x27;, &#x27;TB_FORM&#x27;, &#x27;VIH&#x27;,\n",
       "                                                   &#x27;TYPEPATI&#x27;,\n",
       "                                                   &#x27;FOLLOW_UP_DURATION&#x27;,\n",
       "                                                   &#x27;status&#x27;, &#x27;status_rec&#x27;]),\n",
       "                                                 (&#x27;pipeline-2&#x27;,\n",
       "                                                  Pipeline(steps=[(&#x27;robustscaler&#x27;,\n",
       "                                                                   RobustScaler())]),\n",
       "                                                  [&#x27;AGE&#x27;,\n",
       "                                                   &#x27;FOLLOW_UP_DURATION&#x27;])])),\n",
       "                (&#x27;kneighborsclassifier&#x27;, KNeighborsClassifier())])</pre></div></div></div><div class=\"sk-serial\"><div class=\"sk-item sk-dashed-wrapped\"><div class=\"sk-label-container\"><div class=\"sk-label sk-toggleable\"><input class=\"sk-toggleable__control sk-hidden--visually\" id=\"sk-estimator-id-7\" type=\"checkbox\" ><label for=\"sk-estimator-id-7\" class=\"sk-toggleable__label sk-toggleable__label-arrow\">columntransformer: ColumnTransformer</label><div class=\"sk-toggleable__content\"><pre>ColumnTransformer(transformers=[(&#x27;pipeline-1&#x27;,\n",
       "                                 Pipeline(steps=[(&#x27;onehotencoder&#x27;,\n",
       "                                                  OneHotEncoder())]),\n",
       "                                 [&#x27;GENDER&#x27;, &#x27;TB_FORM&#x27;, &#x27;VIH&#x27;, &#x27;TYPEPATI&#x27;,\n",
       "                                  &#x27;FOLLOW_UP_DURATION&#x27;, &#x27;status&#x27;,\n",
       "                                  &#x27;status_rec&#x27;]),\n",
       "                                (&#x27;pipeline-2&#x27;,\n",
       "                                 Pipeline(steps=[(&#x27;robustscaler&#x27;,\n",
       "                                                  RobustScaler())]),\n",
       "                                 [&#x27;AGE&#x27;, &#x27;FOLLOW_UP_DURATION&#x27;])])</pre></div></div></div><div class=\"sk-parallel\"><div class=\"sk-parallel-item\"><div class=\"sk-item\"><div class=\"sk-label-container\"><div class=\"sk-label sk-toggleable\"><input class=\"sk-toggleable__control sk-hidden--visually\" id=\"sk-estimator-id-8\" type=\"checkbox\" ><label for=\"sk-estimator-id-8\" class=\"sk-toggleable__label sk-toggleable__label-arrow\">pipeline-1</label><div class=\"sk-toggleable__content\"><pre>[&#x27;GENDER&#x27;, &#x27;TB_FORM&#x27;, &#x27;VIH&#x27;, &#x27;TYPEPATI&#x27;, &#x27;FOLLOW_UP_DURATION&#x27;, &#x27;status&#x27;, &#x27;status_rec&#x27;]</pre></div></div></div><div class=\"sk-serial\"><div class=\"sk-item\"><div class=\"sk-serial\"><div class=\"sk-item\"><div class=\"sk-estimator sk-toggleable\"><input class=\"sk-toggleable__control sk-hidden--visually\" id=\"sk-estimator-id-9\" type=\"checkbox\" ><label for=\"sk-estimator-id-9\" class=\"sk-toggleable__label sk-toggleable__label-arrow\">OneHotEncoder</label><div class=\"sk-toggleable__content\"><pre>OneHotEncoder()</pre></div></div></div></div></div></div></div></div><div class=\"sk-parallel-item\"><div class=\"sk-item\"><div class=\"sk-label-container\"><div class=\"sk-label sk-toggleable\"><input class=\"sk-toggleable__control sk-hidden--visually\" id=\"sk-estimator-id-10\" type=\"checkbox\" ><label for=\"sk-estimator-id-10\" class=\"sk-toggleable__label sk-toggleable__label-arrow\">pipeline-2</label><div class=\"sk-toggleable__content\"><pre>[&#x27;AGE&#x27;, &#x27;FOLLOW_UP_DURATION&#x27;]</pre></div></div></div><div class=\"sk-serial\"><div class=\"sk-item\"><div class=\"sk-serial\"><div class=\"sk-item\"><div class=\"sk-estimator sk-toggleable\"><input class=\"sk-toggleable__control sk-hidden--visually\" id=\"sk-estimator-id-11\" type=\"checkbox\" ><label for=\"sk-estimator-id-11\" class=\"sk-toggleable__label sk-toggleable__label-arrow\">RobustScaler</label><div class=\"sk-toggleable__content\"><pre>RobustScaler()</pre></div></div></div></div></div></div></div></div></div></div><div class=\"sk-item\"><div class=\"sk-estimator sk-toggleable\"><input class=\"sk-toggleable__control sk-hidden--visually\" id=\"sk-estimator-id-12\" type=\"checkbox\" ><label for=\"sk-estimator-id-12\" class=\"sk-toggleable__label sk-toggleable__label-arrow\">KNeighborsClassifier</label><div class=\"sk-toggleable__content\"><pre>KNeighborsClassifier()</pre></div></div></div></div></div></div></div>"
      ],
      "text/plain": [
       "Pipeline(steps=[('columntransformer',\n",
       "                 ColumnTransformer(transformers=[('pipeline-1',\n",
       "                                                  Pipeline(steps=[('onehotencoder',\n",
       "                                                                   OneHotEncoder())]),\n",
       "                                                  ['GENDER', 'TB_FORM', 'VIH',\n",
       "                                                   'TYPEPATI',\n",
       "                                                   'FOLLOW_UP_DURATION',\n",
       "                                                   'status', 'status_rec']),\n",
       "                                                 ('pipeline-2',\n",
       "                                                  Pipeline(steps=[('robustscaler',\n",
       "                                                                   RobustScaler())]),\n",
       "                                                  ['AGE',\n",
       "                                                   'FOLLOW_UP_DURATION'])])),\n",
       "                ('kneighborsclassifier', KNeighborsClassifier())])"
      ]
     },
     "execution_count": 52,
     "metadata": {},
     "output_type": "execute_result"
    }
   ],
   "source": [
    "KNN_pipe"
   ]
  },
  {
   "cell_type": "code",
   "execution_count": 53,
   "id": "7c3e00b3",
   "metadata": {},
   "outputs": [
    {
     "name": "stdout",
     "output_type": "stream",
     "text": [
      "Fitting 5 folds for each of 5 candidates, totalling 25 fits\n"
     ]
    }
   ],
   "source": [
    "# Regression Logistique\n",
    "dist1 = {'max_iter' : range(300),\n",
    "              'solver' : ['newton-cg', 'lbfgs', 'liblinear', 'sag', 'saga']\n",
    "             }\n",
    "LR_search = RandomizedSearchCV(LR_pipe.steps[1][1], param_distributions=dist1, n_iter=5, cv=5, n_jobs=-1, verbose=5, scoring = \"f1\" , random_state = 0)\n",
    "search_LR=LR_search.fit(X_train,y_train)"
   ]
  },
  {
   "cell_type": "code",
   "execution_count": 54,
   "id": "64ba107d",
   "metadata": {},
   "outputs": [],
   "source": [
    "# Définir la plage des hyperparamètres pour le modèle KNN\n",
    "distributions = dict(n_neighbors=np.arange(1,100))\n",
    "# Configurer la recherche aléatoire\n",
    "KNN_search = RandomizedSearchCV(KNN_pipe.steps[1][1], distributions, random_state=1,  scoring = \"f1\")\n",
    "search_KNN =  KNN_search.fit(X_train, y_train)"
   ]
  },
  {
   "cell_type": "code",
   "execution_count": 55,
   "id": "191d83f5",
   "metadata": {},
   "outputs": [],
   "source": [
    "# Définir la plage des hyperparamètres pour le modèle Forêt aleatoire\n",
    "distributions = dict(max_depth=np.arange(1,10),\n",
    "                     n_estimators=np.arange(60,600))\n",
    "\n",
    "RF_search = RandomizedSearchCV(RF_pipe.steps[1][1], distributions, random_state=1, scoring = 'f1')\n",
    "search_RF = RF_search.fit(X_train, y_train)"
   ]
  },
  {
   "cell_type": "code",
   "execution_count": 61,
   "id": "bea31efc",
   "metadata": {},
   "outputs": [
    {
     "name": "stdout",
     "output_type": "stream",
     "text": [
      "Fitting 5 folds for each of 10 candidates, totalling 50 fits\n"
     ]
    }
   ],
   "source": [
    "# Définir la plage des hyperparamètres pour le model MVS\n",
    "params = {'C':[0.01,0.05,0.1,0.5,1,2,5],'gamma':[0.1,0.2,0.5,1]}\n",
    "# Configurer la recherche aléatoire\n",
    "MVS_search = RandomizedSearchCV(SVM_pipe.steps[1][1],param_distributions=params,cv=5,scoring='f1',verbose=1,return_train_score=True)\n",
    "search_MVS = MVS_search.fit(X_train,y_train)"
   ]
  },
  {
   "cell_type": "code",
   "execution_count": 62,
   "id": "a9f94712",
   "metadata": {},
   "outputs": [
    {
     "name": "stdout",
     "output_type": "stream",
     "text": [
      "meilleur parametres LR---{'solver': 'saga', 'max_iter': 136}\n",
      "meilleur parametres KNN---{'n_neighbors': 93}\n",
      "meilleur parametres RF---{'n_estimators': 295, 'max_depth': 1}\n",
      "meilleur parametres MVS---SVC(C=0.05, gamma=0.1, random_state=0)\n"
     ]
    }
   ],
   "source": [
    "print('meilleur parametres LR', search_LR.best_params_, sep = '---')\n",
    "print('meilleur parametres KNN', search_KNN.best_params_, sep = '---')\n",
    "print('meilleur parametres RF', search_RF.best_params_, sep = '---')\n",
    "print('meilleur parametres MVS' , search_MVS.best_estimator_, sep = '---')"
   ]
  },
  {
   "cell_type": "code",
   "execution_count": 71,
   "id": "fa537b88",
   "metadata": {},
   "outputs": [],
   "source": [
    "# définition du pipeline et de algorithmes de prédiction optimale\n",
    "\n",
    "# Gradient boosting\n",
    "LR_OP = make_pipeline(pipeline, LogisticRegression(solver='saga', max_iter= 136, random_state=0))\n",
    "\n",
    "# Plus proches voisins\n",
    "KNN_OP = make_pipeline(pipeline, KNeighborsClassifier(n_neighbors = 93))\n",
    "\n",
    "# Forêt aléatoire\n",
    "RF_OP = make_pipeline(pipeline, RandomForestClassifier(n_estimators = 295, max_depth = 1, random_state=0))\n",
    "\n",
    "# Machine à vecteur de support\n",
    "MVS_OP = make_pipeline(pipeline, SVC(C = 0.05, gamma = 0.1, random_state=0))"
   ]
  },
  {
   "cell_type": "markdown",
   "id": "c1635738",
   "metadata": {},
   "source": [
    "> 4.\tTracer les courbes d’apprentissage pour les différents modèles optimaux et interpréter ces courbes. Il est conseillé d’inclure les 4 courbes dans le même graphique (20 pts). "
   ]
  },
  {
   "cell_type": "code",
   "execution_count": 73,
   "id": "110492e8",
   "metadata": {},
   "outputs": [],
   "source": [
    "from sklearn.model_selection import learning_curve\n",
    "\n",
    "from sklearn.model_selection import cross_val_score\n",
    "from mpl_toolkits.mplot3d import Axes3D\n",
    "import matplotlib.colors"
   ]
  },
  {
   "cell_type": "code",
   "execution_count": 82,
   "id": "f9a89ce6",
   "metadata": {},
   "outputs": [
    {
     "name": "stdout",
     "output_type": "stream",
     "text": [
      "[  52  267  483  698  913 1129 1344 1560 1775 1990 2206 2421 2637 2852\n",
      " 3067 3283 3498 3714 3929 4144 4360 4575 4791 5006 5222]\n",
      "[  52  267  483  698  913 1129 1344 1560 1775 1990 2206 2421 2637 2852\n",
      " 3067 3283 3498 3714 3929 4144 4360 4575 4791 5006 5222]\n",
      "[  52  267  483  698  913 1129 1344 1560 1775 1990 2206 2421 2637 2852\n",
      " 3067 3283 3498 3714 3929 4144 4360 4575 4791 5006 5222]\n",
      "[  52  267  483  698  913 1129 1344 1560 1775 1990 2206 2421 2637 2852\n",
      " 3067 3283 3498 3714 3929 4144 4360 4575 4791 5006 5222]\n"
     ]
    },
    {
     "data": {
      "image/png": "[encoded data removed]",
      "text/plain": [
       "<Figure size 1000x600 with 4 Axes>"
      ]
     },
     "metadata": {},
     "output_type": "display_data"
    }
   ],
   "source": [
    "fig = plt.figure(figsize=(10,6))\n",
    "plt.subplot(3,2,1)\n",
    "N, train_score, val_score = learning_curve(LR_OP, X_train, y_train,\n",
    "                                           train_sizes = np.linspace(0.01, 1.0, 25), cv = 5)\n",
    "\n",
    "print(N)\n",
    "plt.plot(N,train_score.mean(axis=1), label='train')\n",
    "plt.plot(N,val_score.mean(axis=1), label='validation')\n",
    "plt.xlabel('regression logistique', color = 'b', fontsize = 13)\n",
    "plt.legend(fontsize = 11)\n",
    "\n",
    "#plt.figure(figsize=(10,6))\n",
    "plt.subplot(3,2,2)\n",
    "N, train_score, val_score = learning_curve(KNN_OP, X_train, y_train,\n",
    "                                           train_sizes = np.linspace(0.01, 1.0, 25), cv = 5)\n",
    "print(N)\n",
    "plt.plot(N,train_score.mean(axis=1), label='train')\n",
    "plt.plot(N,val_score.mean(axis=1), label='validation')\n",
    "plt.xlabel('K plus proches voisins', color = 'b', fontsize = 13)\n",
    "plt.legend(fontsize = 11)\n",
    "\n",
    "#plt.figure(figsize=(10,6))\n",
    "plt.subplot(3,2,3)\n",
    "N, train_score, val_score = learning_curve(RF_OP, X_train, y_train,\n",
    "                                           train_sizes = np.linspace(0.01, 1.0, 25), cv = 5)\n",
    "print(N)\n",
    "plt.plot(N,train_score.mean(axis=1), label='train')\n",
    "plt.plot(N,val_score.mean(axis=1), label='validation')\n",
    "plt.xlabel('Forêt aleatoire', color = 'b', fontsize = 13)\n",
    "plt.legend(fontsize = 11)\n",
    "\n",
    "#plt.figure(figsize=(10,6))\n",
    "plt.subplot(3,2,4)\n",
    "N, train_score, val_score = learning_curve(MVS_OP, X_train, y_train,\n",
    "\n",
    "                                           train_sizes = np.linspace(0.01, 1.0, 25), cv = 5)\n",
    "print(N)\n",
    "plt.plot(N,train_score.mean(axis=1), label='train')\n",
    "plt.plot(N,val_score.mean(axis=1), label='validation')\n",
    "plt.xlabel('Machine à vecteur de support', color = 'b', fontsize = 13)\n",
    "plt.legend(fontsize = 11)\n",
    "\n",
    "fig.tight_layout()"
   ]
  },
  {
   "cell_type": "markdown",
   "id": "38aefedf",
   "metadata": {},
   "source": [
    "> 5. Définir une fonction d’évaluation vous permettant de calculer les différentes métriques dans le test set (20 pts). "
   ]
  },
  {
   "cell_type": "code",
   "execution_count": null,
   "id": "e7cf4506",
   "metadata": {},
   "outputs": [],
   "source": [
    "def model(X, theta):\n",
    "    \"\"\"\n",
    "    Implémente y = X * theta.\n",
    "    \n",
    "    Parameters:\n",
    "    X (numpy.ndarray): Matrice des caractéristiques avec une colonne de biais de 1.\n",
    "    theta (numpy.ndarray): Vecteur des paramètres.\n",
    "    \n",
    "    Returns:\n",
    "    numpy.ndarray: Vecteur des prédictions.\n",
    "    \"\"\"\n",
    "    return np.dot(X, theta)\n",
    "\n",
    "# Exemple d'utilisation\n",
    "\n",
    "# Générer des données aléatoires pour illustrer\n",
    "np.random.seed(0)\n",
    "age = np.random.randint(20, 70, size=497).reshape(-1, 1)\n",
    "fev = np.random.rand(497).reshape(-1, 1) * 4\n",
    "\n",
    "# Ajouter une colonne de biais (1) à la matrice des caractéristiques\n",
    "X = np.concatenate((np.ones((age.shape[0], 1)), age), axis=1)\n",
    "\n",
    "# Initialiser theta avec des coefficients aléatoires (2, 1)\n",
    "theta = np.random.rand(2, 1)\n",
    "\n",
    "# Utiliser la fonction model pour prédire les valeurs de y\n",
    "y_pred = model(X_test, theta)\n",
    "\n",
    "print(\"Matrice des caractéristiques X avec biais:\\n\", X[:5])  # Afficher les 5 premières lignes\n",
    "print(\"Vecteur des paramètres theta:\\n\", theta)\n",
    "print(\"Prédictions y:\\n\", y_pred[:5])  # Afficher les 5 premières prédictions\n"
   ]
  },
  {
   "cell_type": "code",
   "execution_count": null,
   "id": "36a55f9f",
   "metadata": {},
   "outputs": [],
   "source": [
    "fonction non_fonction(paramètres):\n",
    "    var = fonction_taille_vecteur(y)\n",
    "    retourner 1/m * X.T.dot(model(X, theta) - y)"
   ]
  },
  {
   "cell_type": "code",
   "execution_count": null,
   "id": "26944df0",
   "metadata": {},
   "outputs": [],
   "source": []
  },
  {
   "cell_type": "code",
   "execution_count": null,
   "id": "6f03d95a",
   "metadata": {},
   "outputs": [],
   "source": []
  }
 ],
 "metadata": {
  "kernelspec": {
   "display_name": "Python 3 (ipykernel)",
   "language": "python",
   "name": "python3"
  },
  "language_info": {
   "codemirror_mode": {
    "name": "ipython",
    "version": 3
   },
   "file_extension": ".py",
   "mimetype": "text/x-python",
   "name": "python",
   "nbconvert_exporter": "python",
   "pygments_lexer": "ipython3",
   "version": "3.11.5"
  }
 },
 "nbformat": 4,
 "nbformat_minor": 5
}
