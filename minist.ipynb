{
 "cells": [
  {
   "cell_type": "markdown",
   "id": "a0074fbd",
   "metadata": {},
   "source": [
    "### MINIST\n",
    "- Date limite de soumission: Vendredi 2 juin à 10 H\n",
    "- Nous travaillerons sur la base des données de reconnaissance des nombres (base MNIST)\n",
    "- Utiliser ce nootebook pour répondre aux questions\n",
    "- La base des données en fichier compressé est disponible à l'adresse URL: https://github.com/pefura/IFPERA-data-science/blob/main/mnist-original.mat.zip \n",
    "OU à l'adresse URL: https://drive.google.com/file/d/1wlAi66jIkxzCy57hH15-SxdMQ7gvmmEu/view?usp=sharing\n",
    "- Chaque question est notée sur 10 points"
   ]
  },
  {
   "cell_type": "code",
   "execution_count": 1,
   "id": "c4d56e61",
   "metadata": {},
   "outputs": [],
   "source": [
    "# Installer scipy avec: pip install scipy\n",
    "# Importer loadmat comme ci-dessous\n",
    "from scipy.io import loadmat"
   ]
  },
  {
   "cell_type": "code",
   "execution_count": 4,
   "id": "6b8b955e",
   "metadata": {},
   "outputs": [],
   "source": [
    "import numpy as np\n",
    "import pandas as pd\n",
    "import matplotlib.pyplot as plt"
   ]
  },
  {
   "cell_type": "code",
   "execution_count": 3,
   "id": "962891aa",
   "metadata": {},
   "outputs": [
    {
     "name": "stdout",
     "output_type": "stream",
     "text": [
      "shape of mnist_data: (70000, 784)\n",
      "shape of mnist_label: (70000,)\n"
     ]
    }
   ],
   "source": [
    "# Exécuter cette cellule: url est le chémin du fichier dans votre ordinateur. Vous devez remplacer l'url ci-dessous \n",
    "# par l'adresse exacte du fichier décompressé dans votre ordinateur. \n",
    "\n",
    "url = \"C:/Users/DDD/Downloads/mnist-original.mat/mnist-original.mat\"\n",
    "mnist = loadmat(url)\n",
    "mnist_data = mnist[\"data\"].T\n",
    "mnist_label = mnist[\"label\"][0]\n",
    "print(\"shape of mnist_data:\", mnist_data.shape)\n",
    "print(\"shape of mnist_label:\", mnist_label.shape)"
   ]
  },
  {
   "cell_type": "code",
   "execution_count": 6,
   "id": "3490caaf",
   "metadata": {},
   "outputs": [
    {
     "data": {
      "text/plain": [
       "array([0., 0., 0., ..., 9., 9., 9.])"
      ]
     },
     "execution_count": 6,
     "metadata": {},
     "output_type": "execute_result"
    }
   ],
   "source": [
    "# Imprimer quelques exemples d'étiquettes (y)\n",
    "mnist_label"
   ]
  },
  {
   "cell_type": "code",
   "execution_count": 62,
   "id": "39eadb0f",
   "metadata": {},
   "outputs": [
    {
     "data": {
      "text/plain": [
       "1.0    0.112529\n",
       "7.0    0.104186\n",
       "3.0    0.102014\n",
       "2.0    0.099857\n",
       "9.0    0.099400\n",
       "0.0    0.098614\n",
       "6.0    0.098229\n",
       "8.0    0.097500\n",
       "4.0    0.097486\n",
       "5.0    0.090186\n",
       "Name: proportion, dtype: float64"
      ]
     },
     "execution_count": 62,
     "metadata": {},
     "output_type": "execute_result"
    }
   ],
   "source": [
    "pd.DataFrame(mnist_label).value_counts(normalize = True)"
   ]
  },
  {
   "cell_type": "code",
   "execution_count": 9,
   "id": "f11d2b60",
   "metadata": {},
   "outputs": [
    {
     "data": {
      "text/plain": [
       "array([[0, 0, 0, ..., 0, 0, 0],\n",
       "       [0, 0, 0, ..., 0, 0, 0],\n",
       "       [0, 0, 0, ..., 0, 0, 0],\n",
       "       ...,\n",
       "       [0, 0, 0, ..., 0, 0, 0],\n",
       "       [0, 0, 0, ..., 0, 0, 0],\n",
       "       [0, 0, 0, ..., 0, 0, 0]], dtype=uint8)"
      ]
     },
     "execution_count": 9,
     "metadata": {},
     "output_type": "execute_result"
    }
   ],
   "source": [
    "# Imprimer quelques exemples des caractéristiques(X)\n",
    "mnist_data"
   ]
  },
  {
   "cell_type": "markdown",
   "id": "a579f913",
   "metadata": {},
   "source": [
    "1. Question numéro 1: redimensionner les images au format 28 x 28 x 1 (10 pts).\n",
    "- NB: Cette base contient des images transformées en valeurs de pixel et consignées dans les tableaux numpy. nous devons refaire les dimensions des images. l'index 1 de la forme de \"mnist_data\" correspond aux dimensions des images. \n",
    "- Nommer la nouvelle base avec redimensionnement data et montrer la preuve de la reusite du changement de forme."
   ]
  },
  {
   "cell_type": "code",
   "execution_count": 12,
   "id": "c03fd2c7",
   "metadata": {},
   "outputs": [
    {
     "data": {
      "text/plain": [
       "(70000, 28, 28)"
      ]
     },
     "execution_count": 12,
     "metadata": {},
     "output_type": "execute_result"
    }
   ],
   "source": [
    "data = mnist_data.reshape(len(mnist_data), 28, 28)\n",
    "data.shape"
   ]
  },
  {
   "cell_type": "markdown",
   "id": "0f187db8",
   "metadata": {},
   "source": [
    "2. Question numéro 2: Imprimer à l'écran la première et la dernière image de data et donner la correspondance de ces images selon vous."
   ]
  },
  {
   "cell_type": "code",
   "execution_count": 19,
   "id": "fa534798",
   "metadata": {},
   "outputs": [
    {
     "name": "stdout",
     "output_type": "stream",
     "text": [
      "First image: AxesImage(size=(28, 28))\n"
     ]
    },
    {
     "data": {
      "image/png": "[encoded data removed]",
      "text/plain": [
       "<Figure size 640x480 with 1 Axes>"
      ]
     },
     "metadata": {},
     "output_type": "display_data"
    }
   ],
   "source": [
    "import matplotlib.pyplot as plt\n",
    "print(\"First image:\", plt.imshow(data[0]))"
   ]
  },
  {
   "cell_type": "code",
   "execution_count": 21,
   "id": "6334700e",
   "metadata": {},
   "outputs": [
    {
     "name": "stdout",
     "output_type": "stream",
     "text": [
      "Last image: AxesImage(size=(28, 28))\n"
     ]
    },
    {
     "data": {
      "image/png": "[encoded data removed]",
      "text/plain": [
       "<Figure size 640x480 with 1 Axes>"
      ]
     },
     "metadata": {},
     "output_type": "display_data"
    }
   ],
   "source": [
    "print(\"Last image:\", plt.imshow(data[len(data)-1]))"
   ]
  },
  {
   "cell_type": "markdown",
   "id": "9bf48651",
   "metadata": {},
   "source": [
    "3. Question numéro 3: Imprimer à l'écran la première et la dernière étiquette. Y a t'il correspondance avec ce que vous avez indiqué ci-dessus?"
   ]
  },
  {
   "cell_type": "code",
   "execution_count": 22,
   "id": "66c8884b",
   "metadata": {},
   "outputs": [
    {
     "name": "stdout",
     "output_type": "stream",
     "text": [
      "First label: 0\n",
      "Last label: 9\n"
     ]
    }
   ],
   "source": [
    "print(\"First label:\", int(mnist_label[0]))\n",
    "print(\"Last label:\", int(mnist_label[len(mnist_label)-1]))"
   ]
  },
  {
   "cell_type": "markdown",
   "id": "aa43b14c",
   "metadata": {},
   "source": [
    "4. Séparer le jeu des données en données d'entraînement et données test. Le jeu d'entraînement doit contenir 63.000 images.\n",
    "- Vous êtes prier de fixer le générateur alétaoire à 0. "
   ]
  },
  {
   "cell_type": "code",
   "execution_count": 23,
   "id": "d952be8d-2c7a-40e4-83e1-ee3d9f912928",
   "metadata": {},
   "outputs": [],
   "source": [
    "from sklearn.model_selection import train_test_split"
   ]
  },
  {
   "cell_type": "code",
   "execution_count": 66,
   "id": "951efd20",
   "metadata": {},
   "outputs": [
    {
     "data": {
      "text/plain": [
       "(63000, 28, 28)"
      ]
     },
     "execution_count": 66,
     "metadata": {},
     "output_type": "execute_result"
    }
   ],
   "source": [
    "X = data.copy()\n",
    "y = mnist_label.copy()\n",
    "X_train, X_test, y_train, y_test = train_test_split(X, y,test_size=0.10, stratify=y, random_state=0)\n",
    "X_train.shape"
   ]
  },
  {
   "cell_type": "code",
   "execution_count": 67,
   "id": "6d8ff897",
   "metadata": {},
   "outputs": [
    {
     "data": {
      "text/plain": [
       "(63000,)"
      ]
     },
     "execution_count": 67,
     "metadata": {},
     "output_type": "execute_result"
    }
   ],
   "source": [
    "y_train.shape"
   ]
  },
  {
   "cell_type": "markdown",
   "id": "5554ac61",
   "metadata": {},
   "source": [
    "5. Quelle est la valeur de l'image en 10 ème position du train set? "
   ]
  },
  {
   "cell_type": "code",
   "execution_count": 25,
   "id": "250cfeef",
   "metadata": {},
   "outputs": [
    {
     "data": {
      "text/plain": [
       "<matplotlib.image.AxesImage at 0x286c54e59d0>"
      ]
     },
     "execution_count": 25,
     "metadata": {},
     "output_type": "execute_result"
    },
    {
     "data": {
      "image/png": "[encoded data removed]",
      "text/plain": [
       "<Figure size 640x480 with 1 Axes>"
      ]
     },
     "metadata": {},
     "output_type": "display_data"
    }
   ],
   "source": [
    "plt.imshow(X_train[9])"
   ]
  },
  {
   "cell_type": "markdown",
   "id": "145e48f0",
   "metadata": {},
   "source": [
    "6. Déterminer le nombre de classes à prédire ainsi que la forme des images en sachant que les images doivent être en noir et blanc"
   ]
  },
  {
   "cell_type": "code",
   "execution_count": null,
   "id": "5b868cad",
   "metadata": {},
   "outputs": [],
   "source": [
    "print(\"classes and values:\", pd.DataFrame(mnist_label).value_counts())\n",
    "print(\"total number of classes:\",len(pd.DataFrame(mnist_label).value_counts()))"
   ]
  },
  {
   "cell_type": "code",
   "execution_count": 35,
   "id": "f76014ba",
   "metadata": {},
   "outputs": [],
   "source": [
    "# Model / data parameters\n",
    "num_classes = 10\n",
    "input_shape = (28, 28, 1)"
   ]
  },
  {
   "cell_type": "markdown",
   "id": "1bdbc036",
   "metadata": {},
   "source": [
    "7. Pretraitement des données\n",
    "- Normaliser les images\n",
    "- Assurez-vous que la forme des images est (28,28,1)"
   ]
  },
  {
   "cell_type": "code",
   "execution_count": 54,
   "id": "740a37d5",
   "metadata": {},
   "outputs": [
    {
     "name": "stdout",
     "output_type": "stream",
     "text": [
      "X_train shape: (63000, 28, 28, 1)\n",
      "63000 train samples\n",
      "7000 test samples\n"
     ]
    }
   ],
   "source": [
    "# Scale images to the [0, 1] range\n",
    "X_train = X_train.astype(\"float32\")/ 255\n",
    "X_test = X_test.astype(\"float32\") / 255\n",
    "# Make sure images have shape (28, 28, 1)\n",
    "X_train = np.expand_dims(X_train, -1)\n",
    "X_test = np.expand_dims(X_test, -1)\n",
    "print(\"X_train shape:\", X_train.shape)\n",
    "print(X_train.shape[0], \"train samples\")\n",
    "print(X_test.shape[0], \"test samples\")"
   ]
  },
  {
   "cell_type": "code",
   "execution_count": 49,
   "id": "a17939f0",
   "metadata": {},
   "outputs": [
    {
     "name": "stdout",
     "output_type": "stream",
     "text": [
      "X_test shape: (7000, 28, 28, 1)\n"
     ]
    }
   ],
   "source": [
    "print(\"X_test shape:\", X_test.shape)"
   ]
  },
  {
   "cell_type": "markdown",
   "id": "fc0fe689",
   "metadata": {},
   "source": [
    "8. Faire une transformation one hot sur les classes (y_train) en utilisant la méthode to_categorical de keras"
   ]
  },
  {
   "cell_type": "code",
   "execution_count": 50,
   "id": "518088a3-92f2-45e1-a6d5-3603030dbea4",
   "metadata": {},
   "outputs": [],
   "source": [
    "import tensorflow as tf\n",
    "from tensorflow.keras.utils import to_categorical"
   ]
  },
  {
   "cell_type": "code",
   "execution_count": 69,
   "id": "5eb601a0",
   "metadata": {},
   "outputs": [
    {
     "data": {
      "text/plain": [
       "array([[0., 1., 0., ..., 0., 0., 0.],\n",
       "       [0., 0., 0., ..., 0., 0., 1.],\n",
       "       [0., 0., 0., ..., 0., 0., 0.],\n",
       "       ...,\n",
       "       [0., 0., 0., ..., 0., 0., 0.],\n",
       "       [0., 0., 0., ..., 0., 0., 0.],\n",
       "       [0., 0., 0., ..., 0., 0., 0.]], dtype=float32)"
      ]
     },
     "execution_count": 69,
     "metadata": {},
     "output_type": "execute_result"
    }
   ],
   "source": [
    "# convert class vectors to binary class matrices\n",
    "y_train = tf.keras.utils.to_categorical(y_train, num_classes)\n",
    "y_test = tf.keras.utils.to_categorical(y_test, num_classes)\n",
    "y_train"
   ]
  },
  {
   "cell_type": "code",
   "execution_count": 70,
   "id": "a4e83730",
   "metadata": {},
   "outputs": [
    {
     "data": {
      "text/plain": [
       "(63000, 10)"
      ]
     },
     "execution_count": 70,
     "metadata": {},
     "output_type": "execute_result"
    }
   ],
   "source": [
    "y_train.shape"
   ]
  },
  {
   "cell_type": "markdown",
   "id": "db5164ee",
   "metadata": {},
   "source": [
    "9. Entraîner un modèle de réseau de neurones convolutionnels et tracer les courbes de a fonction de pette et de l'exactitude (accuracy).  "
   ]
  },
  {
   "cell_type": "code",
   "execution_count": 57,
   "id": "ae851bd5",
   "metadata": {},
   "outputs": [],
   "source": [
    "from tensorflow.keras import layers"
   ]
  },
  {
   "cell_type": "code",
   "execution_count": 61,
   "id": "81594042",
   "metadata": {},
   "outputs": [
    {
     "name": "stdout",
     "output_type": "stream",
     "text": [
      "Model: \"sequential\"\n",
      "_________________________________________________________________\n",
      " Layer (type)                Output Shape              Param #   \n",
      "=================================================================\n",
      " conv2d (Conv2D)             (None, 26, 26, 32)        320       \n",
      "                                                                 \n",
      " max_pooling2d (MaxPooling2D  (None, 13, 13, 32)       0         \n",
      " )                                                               \n",
      "                                                                 \n",
      " conv2d_1 (Conv2D)           (None, 11, 11, 64)        18496     \n",
      "                                                                 \n",
      " max_pooling2d_1 (MaxPooling  (None, 5, 5, 64)         0         \n",
      " 2D)                                                             \n",
      "                                                                 \n",
      " flatten (Flatten)           (None, 1600)              0         \n",
      "                                                                 \n",
      " dropout (Dropout)           (None, 1600)              0         \n",
      "                                                                 \n",
      " dense (Dense)               (None, 10)                16010     \n",
      "                                                                 \n",
      "=================================================================\n",
      "Total params: 34,826\n",
      "Trainable params: 34,826\n",
      "Non-trainable params: 0\n",
      "_________________________________________________________________\n"
     ]
    }
   ],
   "source": [
    "model = tf.keras.Sequential(\n",
    "    [\n",
    "        tf.keras.Input(shape=input_shape),\n",
    "        layers.Conv2D(32, kernel_size=(3, 3), activation=\"relu\"),\n",
    "        layers.MaxPooling2D(pool_size=(2, 2)),\n",
    "        layers.Conv2D(64, kernel_size=(3, 3), activation=\"relu\"),\n",
    "        layers.MaxPooling2D(pool_size=(2, 2)),\n",
    "        layers.Flatten(),\n",
    "        layers.Dropout(0.5),\n",
    "        layers.Dense(num_classes, activation=\"softmax\"),\n",
    "    ]\n",
    ")\n",
    "\n",
    "model.summary()"
   ]
  },
  {
   "cell_type": "code",
   "execution_count": 71,
   "id": "1e8fb00d",
   "metadata": {},
   "outputs": [
    {
     "name": "stdout",
     "output_type": "stream",
     "text": [
      "Epoch 1/10\n",
      "394/394 [==============================] - 27s 60ms/step - loss: 1.3171 - accuracy: 0.8320 - val_loss: 0.1111 - val_accuracy: 0.9659\n",
      "Epoch 2/10\n",
      "394/394 [==============================] - 25s 63ms/step - loss: 0.1949 - accuracy: 0.9417 - val_loss: 0.0776 - val_accuracy: 0.9778\n",
      "Epoch 3/10\n",
      "394/394 [==============================] - 20s 51ms/step - loss: 0.1427 - accuracy: 0.9564 - val_loss: 0.0598 - val_accuracy: 0.9813\n",
      "Epoch 4/10\n",
      "394/394 [==============================] - 20s 52ms/step - loss: 0.1220 - accuracy: 0.9631 - val_loss: 0.0573 - val_accuracy: 0.9829\n",
      "Epoch 5/10\n",
      "394/394 [==============================] - 20s 50ms/step - loss: 0.1092 - accuracy: 0.9669 - val_loss: 0.0539 - val_accuracy: 0.9839\n",
      "Epoch 6/10\n",
      "394/394 [==============================] - 20s 50ms/step - loss: 0.1029 - accuracy: 0.9683 - val_loss: 0.0589 - val_accuracy: 0.9831\n",
      "Epoch 7/10\n",
      "394/394 [==============================] - 20s 51ms/step - loss: 0.0924 - accuracy: 0.9721 - val_loss: 0.0498 - val_accuracy: 0.9856\n",
      "Epoch 8/10\n",
      "394/394 [==============================] - 20s 52ms/step - loss: 0.0825 - accuracy: 0.9742 - val_loss: 0.0440 - val_accuracy: 0.9864\n",
      "Epoch 9/10\n",
      "394/394 [==============================] - 20s 50ms/step - loss: 0.0782 - accuracy: 0.9758 - val_loss: 0.0455 - val_accuracy: 0.9866\n",
      "Epoch 10/10\n",
      "394/394 [==============================] - 20s 50ms/step - loss: 0.0756 - accuracy: 0.9772 - val_loss: 0.0424 - val_accuracy: 0.9880\n"
     ]
    }
   ],
   "source": [
    "batch_size = 128\n",
    "epochs = 10\n",
    "\n",
    "model.compile(loss=\"categorical_crossentropy\", optimizer=\"adam\", metrics=[\"accuracy\"])\n",
    "\n",
    "history = model.fit(X_train, y_train, batch_size=batch_size, epochs=epochs, validation_split=0.2)"
   ]
  },
  {
   "cell_type": "code",
   "execution_count": 72,
   "id": "76788468",
   "metadata": {},
   "outputs": [
    {
     "data": {
      "image/png": "[encoded data removed]",
      "text/plain": [
       "<Figure size 640x480 with 1 Axes>"
      ]
     },
     "metadata": {},
     "output_type": "display_data"
    }
   ],
   "source": [
    "def plot_hist_loss(hist):\n",
    "    plt.plot(hist.history[\"loss\"])\n",
    "    plt.plot(hist.history[\"val_loss\"])\n",
    "    plt.title(\"model loss\")\n",
    "    plt.ylabel(\"loss\")\n",
    "    plt.xlabel(\"epoch\")\n",
    "    plt.legend([\"train\", \"validation\"], loc=\"upper left\")\n",
    "    plt.show()\n",
    "plot_hist_loss(history)"
   ]
  },
  {
   "cell_type": "code",
   "execution_count": 73,
   "id": "01901a1b",
   "metadata": {
    "scrolled": true
   },
   "outputs": [
    {
     "data": {
      "image/png": "[encoded data removed]",
      "text/plain": [
       "<Figure size 640x480 with 1 Axes>"
      ]
     },
     "metadata": {},
     "output_type": "display_data"
    }
   ],
   "source": [
    "def plot_hist(hist):\n",
    "    plt.plot(hist.history[\"accuracy\"])\n",
    "    plt.plot(hist.history[\"val_accuracy\"])\n",
    "    plt.title(\"model accuracy\")\n",
    "    plt.ylabel(\"accuracy\")\n",
    "    plt.xlabel(\"epoch\")\n",
    "    plt.legend([\"train\", \"validation\"], loc=\"upper left\")\n",
    "    plt.show()\n",
    "plot_hist(history)"
   ]
  },
  {
   "cell_type": "markdown",
   "id": "e8171019",
   "metadata": {},
   "source": [
    "10. Evaluer le modèle sur les données test"
   ]
  },
  {
   "cell_type": "code",
   "execution_count": 79,
   "id": "2a06d09f",
   "metadata": {},
   "outputs": [
    {
     "data": {
      "text/plain": [
       "<matplotlib.image.AxesImage at 0x286ce969f50>"
      ]
     },
     "execution_count": 79,
     "metadata": {},
     "output_type": "execute_result"
    },
    {
     "data": {
      "image/png": "[encoded data removed]",
      "text/plain": [
       "<Figure size 640x480 with 1 Axes>"
      ]
     },
     "metadata": {},
     "output_type": "display_data"
    }
   ],
   "source": [
    "plt.imshow(X_test[2])"
   ]
  },
  {
   "cell_type": "markdown",
   "id": "3a1384e4",
   "metadata": {},
   "source": [
    "10: Predire et Evaluer le modèle sur les données test"
   ]
  },
  {
   "cell_type": "code",
   "execution_count": 74,
   "id": "94e4646c",
   "metadata": {},
   "outputs": [
    {
     "name": "stdout",
     "output_type": "stream",
     "text": [
      "219/219 [==============================] - 1s 4ms/step\n"
     ]
    },
    {
     "data": {
      "text/html": [
       "<div>\n",
       "<style scoped>\n",
       "    .dataframe tbody tr th:only-of-type {\n",
       "        vertical-align: middle;\n",
       "    }\n",
       "\n",
       "    .dataframe tbody tr th {\n",
       "        vertical-align: top;\n",
       "    }\n",
       "\n",
       "    .dataframe thead th {\n",
       "        text-align: right;\n",
       "    }\n",
       "</style>\n",
       "<table border=\"1\" class=\"dataframe\">\n",
       "  <thead>\n",
       "    <tr style=\"text-align: right;\">\n",
       "      <th></th>\n",
       "      <th>0</th>\n",
       "      <th>1</th>\n",
       "      <th>2</th>\n",
       "      <th>3</th>\n",
       "      <th>4</th>\n",
       "      <th>5</th>\n",
       "      <th>6</th>\n",
       "      <th>7</th>\n",
       "      <th>8</th>\n",
       "      <th>9</th>\n",
       "    </tr>\n",
       "  </thead>\n",
       "  <tbody>\n",
       "    <tr>\n",
       "      <th>0</th>\n",
       "      <td>7.053412e-09</td>\n",
       "      <td>9.479771e-16</td>\n",
       "      <td>6.699877e-13</td>\n",
       "      <td>1.257679e-13</td>\n",
       "      <td>3.283470e-10</td>\n",
       "      <td>1.662926e-09</td>\n",
       "      <td>1.000000e+00</td>\n",
       "      <td>2.406355e-14</td>\n",
       "      <td>4.106708e-09</td>\n",
       "      <td>9.747761e-13</td>\n",
       "    </tr>\n",
       "    <tr>\n",
       "      <th>1</th>\n",
       "      <td>7.040106e-08</td>\n",
       "      <td>2.729165e-11</td>\n",
       "      <td>7.434469e-09</td>\n",
       "      <td>7.715746e-13</td>\n",
       "      <td>1.070303e-10</td>\n",
       "      <td>2.173565e-08</td>\n",
       "      <td>9.999996e-01</td>\n",
       "      <td>8.579213e-13</td>\n",
       "      <td>2.179257e-07</td>\n",
       "      <td>7.724353e-11</td>\n",
       "    </tr>\n",
       "    <tr>\n",
       "      <th>2</th>\n",
       "      <td>3.967615e-08</td>\n",
       "      <td>2.888542e-08</td>\n",
       "      <td>4.257206e-04</td>\n",
       "      <td>1.104554e-05</td>\n",
       "      <td>3.634053e-07</td>\n",
       "      <td>4.212540e-07</td>\n",
       "      <td>1.031394e-07</td>\n",
       "      <td>5.119394e-09</td>\n",
       "      <td>9.995129e-01</td>\n",
       "      <td>4.936795e-05</td>\n",
       "    </tr>\n",
       "    <tr>\n",
       "      <th>3</th>\n",
       "      <td>9.861515e-09</td>\n",
       "      <td>2.321052e-07</td>\n",
       "      <td>2.819857e-06</td>\n",
       "      <td>6.962982e-05</td>\n",
       "      <td>2.282486e-08</td>\n",
       "      <td>1.986608e-05</td>\n",
       "      <td>5.958756e-08</td>\n",
       "      <td>9.129821e-10</td>\n",
       "      <td>9.999042e-01</td>\n",
       "      <td>3.250663e-06</td>\n",
       "    </tr>\n",
       "    <tr>\n",
       "      <th>4</th>\n",
       "      <td>2.509458e-06</td>\n",
       "      <td>4.908479e-08</td>\n",
       "      <td>1.114493e-05</td>\n",
       "      <td>1.756775e-01</td>\n",
       "      <td>4.159443e-05</td>\n",
       "      <td>1.034674e-01</td>\n",
       "      <td>3.115935e-11</td>\n",
       "      <td>1.202232e-09</td>\n",
       "      <td>2.694842e-03</td>\n",
       "      <td>7.181050e-01</td>\n",
       "    </tr>\n",
       "    <tr>\n",
       "      <th>...</th>\n",
       "      <td>...</td>\n",
       "      <td>...</td>\n",
       "      <td>...</td>\n",
       "      <td>...</td>\n",
       "      <td>...</td>\n",
       "      <td>...</td>\n",
       "      <td>...</td>\n",
       "      <td>...</td>\n",
       "      <td>...</td>\n",
       "      <td>...</td>\n",
       "    </tr>\n",
       "    <tr>\n",
       "      <th>6995</th>\n",
       "      <td>3.366645e-15</td>\n",
       "      <td>2.426226e-12</td>\n",
       "      <td>1.197151e-09</td>\n",
       "      <td>1.000000e+00</td>\n",
       "      <td>4.446863e-15</td>\n",
       "      <td>5.481679e-09</td>\n",
       "      <td>9.007757e-22</td>\n",
       "      <td>2.052263e-14</td>\n",
       "      <td>9.606275e-12</td>\n",
       "      <td>6.254228e-11</td>\n",
       "    </tr>\n",
       "    <tr>\n",
       "      <th>6996</th>\n",
       "      <td>8.784094e-16</td>\n",
       "      <td>2.366023e-14</td>\n",
       "      <td>4.711842e-12</td>\n",
       "      <td>1.000000e+00</td>\n",
       "      <td>2.609115e-15</td>\n",
       "      <td>8.575827e-10</td>\n",
       "      <td>1.276994e-18</td>\n",
       "      <td>1.098875e-09</td>\n",
       "      <td>9.152843e-13</td>\n",
       "      <td>8.806243e-11</td>\n",
       "    </tr>\n",
       "    <tr>\n",
       "      <th>6997</th>\n",
       "      <td>1.069102e-06</td>\n",
       "      <td>9.998831e-01</td>\n",
       "      <td>9.403535e-07</td>\n",
       "      <td>2.642243e-10</td>\n",
       "      <td>2.523331e-05</td>\n",
       "      <td>1.994567e-06</td>\n",
       "      <td>8.228060e-05</td>\n",
       "      <td>3.133424e-06</td>\n",
       "      <td>1.894112e-06</td>\n",
       "      <td>3.605123e-07</td>\n",
       "    </tr>\n",
       "    <tr>\n",
       "      <th>6998</th>\n",
       "      <td>3.169830e-13</td>\n",
       "      <td>9.835433e-12</td>\n",
       "      <td>1.494359e-06</td>\n",
       "      <td>2.391712e-06</td>\n",
       "      <td>1.624201e-08</td>\n",
       "      <td>4.721172e-08</td>\n",
       "      <td>1.010715e-13</td>\n",
       "      <td>9.491798e-10</td>\n",
       "      <td>9.999868e-01</td>\n",
       "      <td>9.348011e-06</td>\n",
       "    </tr>\n",
       "    <tr>\n",
       "      <th>6999</th>\n",
       "      <td>1.267421e-08</td>\n",
       "      <td>2.263080e-15</td>\n",
       "      <td>6.744628e-12</td>\n",
       "      <td>4.414347e-14</td>\n",
       "      <td>1.293411e-10</td>\n",
       "      <td>2.927588e-11</td>\n",
       "      <td>1.000000e+00</td>\n",
       "      <td>4.374926e-14</td>\n",
       "      <td>9.559311e-10</td>\n",
       "      <td>4.429900e-14</td>\n",
       "    </tr>\n",
       "  </tbody>\n",
       "</table>\n",
       "<p>7000 rows × 10 columns</p>\n",
       "</div>"
      ],
      "text/plain": [
       "                 0             1             2             3             4  \\\n",
       "0     7.053412e-09  9.479771e-16  6.699877e-13  1.257679e-13  3.283470e-10   \n",
       "1     7.040106e-08  2.729165e-11  7.434469e-09  7.715746e-13  1.070303e-10   \n",
       "2     3.967615e-08  2.888542e-08  4.257206e-04  1.104554e-05  3.634053e-07   \n",
       "3     9.861515e-09  2.321052e-07  2.819857e-06  6.962982e-05  2.282486e-08   \n",
       "4     2.509458e-06  4.908479e-08  1.114493e-05  1.756775e-01  4.159443e-05   \n",
       "...            ...           ...           ...           ...           ...   \n",
       "6995  3.366645e-15  2.426226e-12  1.197151e-09  1.000000e+00  4.446863e-15   \n",
       "6996  8.784094e-16  2.366023e-14  4.711842e-12  1.000000e+00  2.609115e-15   \n",
       "6997  1.069102e-06  9.998831e-01  9.403535e-07  2.642243e-10  2.523331e-05   \n",
       "6998  3.169830e-13  9.835433e-12  1.494359e-06  2.391712e-06  1.624201e-08   \n",
       "6999  1.267421e-08  2.263080e-15  6.744628e-12  4.414347e-14  1.293411e-10   \n",
       "\n",
       "                 5             6             7             8             9  \n",
       "0     1.662926e-09  1.000000e+00  2.406355e-14  4.106708e-09  9.747761e-13  \n",
       "1     2.173565e-08  9.999996e-01  8.579213e-13  2.179257e-07  7.724353e-11  \n",
       "2     4.212540e-07  1.031394e-07  5.119394e-09  9.995129e-01  4.936795e-05  \n",
       "3     1.986608e-05  5.958756e-08  9.129821e-10  9.999042e-01  3.250663e-06  \n",
       "4     1.034674e-01  3.115935e-11  1.202232e-09  2.694842e-03  7.181050e-01  \n",
       "...            ...           ...           ...           ...           ...  \n",
       "6995  5.481679e-09  9.007757e-22  2.052263e-14  9.606275e-12  6.254228e-11  \n",
       "6996  8.575827e-10  1.276994e-18  1.098875e-09  9.152843e-13  8.806243e-11  \n",
       "6997  1.994567e-06  8.228060e-05  3.133424e-06  1.894112e-06  3.605123e-07  \n",
       "6998  4.721172e-08  1.010715e-13  9.491798e-10  9.999868e-01  9.348011e-06  \n",
       "6999  2.927588e-11  1.000000e+00  4.374926e-14  9.559311e-10  4.429900e-14  \n",
       "\n",
       "[7000 rows x 10 columns]"
      ]
     },
     "execution_count": 74,
     "metadata": {},
     "output_type": "execute_result"
    }
   ],
   "source": [
    "pd.DataFrame(model.predict(X_test))"
   ]
  },
  {
   "cell_type": "code",
   "execution_count": 77,
   "id": "866e04c7",
   "metadata": {},
   "outputs": [
    {
     "name": "stdout",
     "output_type": "stream",
     "text": [
      "219/219 [==============================] - 1s 4ms/step\n",
      "predictions: [6 6 8 ... 1 8 6]\n"
     ]
    }
   ],
   "source": [
    "from numpy import argmax\n",
    "y_pred_prob  = model.predict(X_test)\n",
    "y_pred = np.argmax(y_pred_prob, axis=1)\n",
    "\n",
    "print(\"predictions:\", y_pred)"
   ]
  },
  {
   "cell_type": "code",
   "execution_count": 81,
   "id": "9b86e3af",
   "metadata": {},
   "outputs": [
    {
     "data": {
      "text/html": [
       "<div>\n",
       "<style scoped>\n",
       "    .dataframe tbody tr th:only-of-type {\n",
       "        vertical-align: middle;\n",
       "    }\n",
       "\n",
       "    .dataframe tbody tr th {\n",
       "        vertical-align: top;\n",
       "    }\n",
       "\n",
       "    .dataframe thead th {\n",
       "        text-align: right;\n",
       "    }\n",
       "</style>\n",
       "<table border=\"1\" class=\"dataframe\">\n",
       "  <thead>\n",
       "    <tr style=\"text-align: right;\">\n",
       "      <th></th>\n",
       "      <th>0</th>\n",
       "    </tr>\n",
       "  </thead>\n",
       "  <tbody>\n",
       "    <tr>\n",
       "      <th>0</th>\n",
       "      <td>6</td>\n",
       "    </tr>\n",
       "    <tr>\n",
       "      <th>1</th>\n",
       "      <td>6</td>\n",
       "    </tr>\n",
       "    <tr>\n",
       "      <th>2</th>\n",
       "      <td>8</td>\n",
       "    </tr>\n",
       "    <tr>\n",
       "      <th>3</th>\n",
       "      <td>8</td>\n",
       "    </tr>\n",
       "    <tr>\n",
       "      <th>4</th>\n",
       "      <td>9</td>\n",
       "    </tr>\n",
       "    <tr>\n",
       "      <th>...</th>\n",
       "      <td>...</td>\n",
       "    </tr>\n",
       "    <tr>\n",
       "      <th>6995</th>\n",
       "      <td>3</td>\n",
       "    </tr>\n",
       "    <tr>\n",
       "      <th>6996</th>\n",
       "      <td>3</td>\n",
       "    </tr>\n",
       "    <tr>\n",
       "      <th>6997</th>\n",
       "      <td>1</td>\n",
       "    </tr>\n",
       "    <tr>\n",
       "      <th>6998</th>\n",
       "      <td>8</td>\n",
       "    </tr>\n",
       "    <tr>\n",
       "      <th>6999</th>\n",
       "      <td>6</td>\n",
       "    </tr>\n",
       "  </tbody>\n",
       "</table>\n",
       "<p>7000 rows × 1 columns</p>\n",
       "</div>"
      ],
      "text/plain": [
       "      0\n",
       "0     6\n",
       "1     6\n",
       "2     8\n",
       "3     8\n",
       "4     9\n",
       "...  ..\n",
       "6995  3\n",
       "6996  3\n",
       "6997  1\n",
       "6998  8\n",
       "6999  6\n",
       "\n",
       "[7000 rows x 1 columns]"
      ]
     },
     "execution_count": 81,
     "metadata": {},
     "output_type": "execute_result"
    }
   ],
   "source": [
    "pd.DataFrame(y_pred)"
   ]
  },
  {
   "cell_type": "code",
   "execution_count": 83,
   "id": "e3d8abd2",
   "metadata": {},
   "outputs": [
    {
     "name": "stdout",
     "output_type": "stream",
     "text": [
      "219/219 [==============================] - 1s 4ms/step - loss: 0.0481 - accuracy: 0.9857\n",
      "Test loss: 0.04810977354645729\n",
      "Test accuracy: 0.9857142567634583\n"
     ]
    }
   ],
   "source": [
    "# To verify and to test\n",
    "score = model.evaluate(X_test, y_test)\n",
    "print(\"Test loss:\", score[0])\n",
    "print(\"Test accuracy:\", score[1])"
   ]
  },
  {
   "cell_type": "code",
   "execution_count": 88,
   "id": "3cd16905",
   "metadata": {},
   "outputs": [],
   "source": [
    "model.save('MNIST_model.h5')"
   ]
  },
  {
   "cell_type": "code",
   "execution_count": null,
   "id": "c1ba9456",
   "metadata": {},
   "outputs": [],
   "source": [
    "# To go forward\n",
    "# Fanny: 1) functions in python  2) Image processing \n",
    "# Nassir: 2) functions in python \n",
    "# Cedric: Travail personnel\n",
    "# Nounda: 1) Comprehension de questions"
   ]
  },
  {
   "cell_type": "markdown",
   "id": "55f8d0e8-bf3c-48ba-be9c-c71d617bd293",
   "metadata": {},
   "source": [
    "##END OF THE STORY"
   ]
  }
 ],
 "metadata": {
  "kernelspec": {
   "display_name": "Python 3 (ipykernel)",
   "language": "python",
   "name": "python3"
  },
  "language_info": {
   "codemirror_mode": {
    "name": "ipython",
    "version": 3
   },
   "file_extension": ".py",
   "mimetype": "text/x-python",
   "name": "python",
   "nbconvert_exporter": "python",
   "pygments_lexer": "ipython3",
   "version": "3.11.5"
  }
 },
 "nbformat": 4,
 "nbformat_minor": 5
}
