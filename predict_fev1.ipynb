{
 "cells": [
  {
   "cell_type": "code",
   "execution_count": 131,
   "id": "57f63095",
   "metadata": {},
   "outputs": [],
   "source": [
    "#importation des librairies de manipulation\n",
    "import pandas as pd\n",
    "import numpy as np\n",
    "import matplotlib.pyplot as plt\n",
    "import seaborn as sns\n",
    "from sklearn.metrics import mean_squared_error\n",
    "from sklearn.tree import DecisionTreeRegressor\n",
    "from sklearn.model_selection import cross_val_score\n",
    "from sklearn.inspection import permutation_importance\n",
    "from sklearn.metrics import mean_squared_error\n",
    "from sklearn.metrics import mean_absolute_error\n",
    "from sklearn.metrics import r2_score\n",
    "from sklearn.metrics import roc_auc_score"
   ]
  },
  {
   "cell_type": "code",
   "execution_count": 132,
   "id": "55b39dff",
   "metadata": {},
   "outputs": [],
   "source": [
    "# 1- Importation de la table des données dans l'environnement de travail\n",
    "data = pd.read_csv(\"C:/Users/GSI/Desktop/mougnutou/datascience/cours_devoirs_datascience/semaine27/data_1.csv\")"
   ]
  },
  {
   "cell_type": "code",
   "execution_count": 133,
   "id": "3fa1fcda",
   "metadata": {},
   "outputs": [
    {
     "data": {
      "text/html": [
       "<div>\n",
       "<style scoped>\n",
       "    .dataframe tbody tr th:only-of-type {\n",
       "        vertical-align: middle;\n",
       "    }\n",
       "\n",
       "    .dataframe tbody tr th {\n",
       "        vertical-align: top;\n",
       "    }\n",
       "\n",
       "    .dataframe thead th {\n",
       "        text-align: right;\n",
       "    }\n",
       "</style>\n",
       "<table border=\"1\" class=\"dataframe\">\n",
       "  <thead>\n",
       "    <tr style=\"text-align: right;\">\n",
       "      <th></th>\n",
       "      <th>ID</th>\n",
       "      <th>sex</th>\n",
       "      <th>age</th>\n",
       "      <th>ethnicity</th>\n",
       "      <th>height</th>\n",
       "      <th>fvc</th>\n",
       "      <th>fev</th>\n",
       "      <th>fef2575</th>\n",
       "      <th>fevfvc</th>\n",
       "    </tr>\n",
       "  </thead>\n",
       "  <tbody>\n",
       "    <tr>\n",
       "      <th>0</th>\n",
       "      <td>1000948</td>\n",
       "      <td>1</td>\n",
       "      <td>4.95</td>\n",
       "      <td>1</td>\n",
       "      <td>109</td>\n",
       "      <td>1.230</td>\n",
       "      <td>1.12</td>\n",
       "      <td>1.39</td>\n",
       "      <td>0.91</td>\n",
       "    </tr>\n",
       "    <tr>\n",
       "      <th>1</th>\n",
       "      <td>500921</td>\n",
       "      <td>1</td>\n",
       "      <td>5.00</td>\n",
       "      <td>1</td>\n",
       "      <td>119</td>\n",
       "      <td>1.100</td>\n",
       "      <td>1.10</td>\n",
       "      <td>1.81</td>\n",
       "      <td>1.00</td>\n",
       "    </tr>\n",
       "    <tr>\n",
       "      <th>2</th>\n",
       "      <td>1000157</td>\n",
       "      <td>1</td>\n",
       "      <td>5.40</td>\n",
       "      <td>1</td>\n",
       "      <td>107</td>\n",
       "      <td>0.970</td>\n",
       "      <td>0.91</td>\n",
       "      <td>1.70</td>\n",
       "      <td>0.94</td>\n",
       "    </tr>\n",
       "    <tr>\n",
       "      <th>3</th>\n",
       "      <td>1000805</td>\n",
       "      <td>1</td>\n",
       "      <td>5.29</td>\n",
       "      <td>1</td>\n",
       "      <td>118</td>\n",
       "      <td>0.939</td>\n",
       "      <td>0.94</td>\n",
       "      <td>1.64</td>\n",
       "      <td>1.00</td>\n",
       "    </tr>\n",
       "  </tbody>\n",
       "</table>\n",
       "</div>"
      ],
      "text/plain": [
       "        ID  sex   age  ethnicity  height    fvc   fev  fef2575  fevfvc\n",
       "0  1000948    1  4.95          1     109  1.230  1.12     1.39    0.91\n",
       "1   500921    1  5.00          1     119  1.100  1.10     1.81    1.00\n",
       "2  1000157    1  5.40          1     107  0.970  0.91     1.70    0.94\n",
       "3  1000805    1  5.29          1     118  0.939  0.94     1.64    1.00"
      ]
     },
     "execution_count": 133,
     "metadata": {},
     "output_type": "execute_result"
    }
   ],
   "source": [
    "# Preuve de la réussite de l’importation.\n",
    "data.head(4)"
   ]
  },
  {
   "cell_type": "code",
   "execution_count": 134,
   "id": "f4aa8113",
   "metadata": {},
   "outputs": [
    {
     "data": {
      "text/html": [
       "<div>\n",
       "<style scoped>\n",
       "    .dataframe tbody tr th:only-of-type {\n",
       "        vertical-align: middle;\n",
       "    }\n",
       "\n",
       "    .dataframe tbody tr th {\n",
       "        vertical-align: top;\n",
       "    }\n",
       "\n",
       "    .dataframe thead th {\n",
       "        text-align: right;\n",
       "    }\n",
       "</style>\n",
       "<table border=\"1\" class=\"dataframe\">\n",
       "  <thead>\n",
       "    <tr style=\"text-align: right;\">\n",
       "      <th></th>\n",
       "      <th>age</th>\n",
       "      <th>height</th>\n",
       "      <th>fev</th>\n",
       "    </tr>\n",
       "  </thead>\n",
       "  <tbody>\n",
       "    <tr>\n",
       "      <th>0</th>\n",
       "      <td>4.95</td>\n",
       "      <td>109</td>\n",
       "      <td>1.12</td>\n",
       "    </tr>\n",
       "    <tr>\n",
       "      <th>1</th>\n",
       "      <td>5.00</td>\n",
       "      <td>119</td>\n",
       "      <td>1.10</td>\n",
       "    </tr>\n",
       "    <tr>\n",
       "      <th>2</th>\n",
       "      <td>5.40</td>\n",
       "      <td>107</td>\n",
       "      <td>0.91</td>\n",
       "    </tr>\n",
       "  </tbody>\n",
       "</table>\n",
       "</div>"
      ],
      "text/plain": [
       "    age  height   fev\n",
       "0  4.95     109  1.12\n",
       "1  5.00     119  1.10\n",
       "2  5.40     107  0.91"
      ]
     },
     "execution_count": 134,
     "metadata": {},
     "output_type": "execute_result"
    }
   ],
   "source": [
    "# 2- Sélection de la sous-base data_male\n",
    "data_male = data.loc[data['sex'] == 1]\n",
    "data_male = data.filter([\"age\", \"height\", \"fev\"])\n",
    "data_male.head(3)"
   ]
  },
  {
   "cell_type": "code",
   "execution_count": 135,
   "id": "6db02e3f",
   "metadata": {},
   "outputs": [
    {
     "data": {
      "text/html": [
       "<div>\n",
       "<style scoped>\n",
       "    .dataframe tbody tr th:only-of-type {\n",
       "        vertical-align: middle;\n",
       "    }\n",
       "\n",
       "    .dataframe tbody tr th {\n",
       "        vertical-align: top;\n",
       "    }\n",
       "\n",
       "    .dataframe thead th {\n",
       "        text-align: right;\n",
       "    }\n",
       "</style>\n",
       "<table border=\"1\" class=\"dataframe\">\n",
       "  <thead>\n",
       "    <tr style=\"text-align: right;\">\n",
       "      <th></th>\n",
       "      <th>count</th>\n",
       "      <th>mean</th>\n",
       "      <th>std</th>\n",
       "      <th>min</th>\n",
       "      <th>25%</th>\n",
       "      <th>50%</th>\n",
       "      <th>75%</th>\n",
       "      <th>max</th>\n",
       "    </tr>\n",
       "  </thead>\n",
       "  <tbody>\n",
       "    <tr>\n",
       "      <th>age</th>\n",
       "      <td>1777.0</td>\n",
       "      <td>28.334051</td>\n",
       "      <td>17.920546</td>\n",
       "      <td>4.45</td>\n",
       "      <td>13.02</td>\n",
       "      <td>24.457221</td>\n",
       "      <td>40.030116</td>\n",
       "      <td>88.131417</td>\n",
       "    </tr>\n",
       "    <tr>\n",
       "      <th>height</th>\n",
       "      <td>1777.0</td>\n",
       "      <td>158.232414</td>\n",
       "      <td>17.068275</td>\n",
       "      <td>103.00</td>\n",
       "      <td>151.00</td>\n",
       "      <td>162.000000</td>\n",
       "      <td>170.000000</td>\n",
       "      <td>196.000000</td>\n",
       "    </tr>\n",
       "    <tr>\n",
       "      <th>fev</th>\n",
       "      <td>1777.0</td>\n",
       "      <td>2.498509</td>\n",
       "      <td>0.897767</td>\n",
       "      <td>0.65</td>\n",
       "      <td>1.80</td>\n",
       "      <td>2.460000</td>\n",
       "      <td>3.110000</td>\n",
       "      <td>5.910000</td>\n",
       "    </tr>\n",
       "  </tbody>\n",
       "</table>\n",
       "</div>"
      ],
      "text/plain": [
       "         count        mean        std     min     25%         50%         75%  \\\n",
       "age     1777.0   28.334051  17.920546    4.45   13.02   24.457221   40.030116   \n",
       "height  1777.0  158.232414  17.068275  103.00  151.00  162.000000  170.000000   \n",
       "fev     1777.0    2.498509   0.897767    0.65    1.80    2.460000    3.110000   \n",
       "\n",
       "               max  \n",
       "age      88.131417  \n",
       "height  196.000000  \n",
       "fev       5.910000  "
      ]
     },
     "execution_count": 135,
     "metadata": {},
     "output_type": "execute_result"
    }
   ],
   "source": [
    "# 3- Descriptions numériques des trois variables de data_male \n",
    "data_male.describe().T"
   ]
  },
  {
   "cell_type": "markdown",
   "id": "8123489a",
   "metadata": {},
   "source": [
    "### Rappellons tout dabord que la base data_male à trois variables significatives: age, height, fev et 842 individus. la variable sex pouvant être éliminé de la table.\n",
    "### age est compris entre 4.95 et 87,15948 ans et la moyenne d'âge est de 28,243708 ans\n",
    "### height va de 103 à 196 cm et la moyenne de la taille est de 161,933492 cm\n",
    "### fev est compris entre 0.84 et 5,91 et la moyenne de la fev est 2.814228"
   ]
  },
  {
   "cell_type": "code",
   "execution_count": 136,
   "id": "fcc25235",
   "metadata": {},
   "outputs": [
    {
     "data": {
      "text/plain": [
       "<AxesSubplot:ylabel='Frequency'>"
      ]
     },
     "execution_count": 136,
     "metadata": {},
     "output_type": "execute_result"
    },
    {
     "data": {
      "image/png": "[encoded data removed]",
      "text/plain": [
       "<Figure size 432x288 with 1 Axes>"
      ]
     },
     "metadata": {
      "needs_background": "light"
     },
     "output_type": "display_data"
    }
   ],
   "source": [
    "# Description graphique des variables\n",
    "# visualisation sur 50 intervalles\n",
    "data_male.plot.hist()"
   ]
  },
  {
   "cell_type": "code",
   "execution_count": 137,
   "id": "2fc502dd",
   "metadata": {},
   "outputs": [
    {
     "data": {
      "text/plain": [
       "<matplotlib.collections.PathCollection at 0x210458a6820>"
      ]
     },
     "execution_count": 137,
     "metadata": {},
     "output_type": "execute_result"
    },
    {
     "data": {
      "image/png": "[encoded data removed]",
      "text/plain": [
       "<Figure size 432x288 with 1 Axes>"
      ]
     },
     "metadata": {
      "needs_background": "light"
     },
     "output_type": "display_data"
    }
   ],
   "source": [
    "# 4- a. Description graphique de la relation entre fev (variable expliquée) et l’âge.\n",
    "plt.scatter(data_male['age'], data_male['fev'])"
   ]
  },
  {
   "cell_type": "markdown",
   "id": "8d6fd6ab",
   "metadata": {},
   "source": [
    "### Le nuage des points provenant de cette association est trop dispersé donc il semble ne pas avoir une relation lineaire entre le fev et age."
   ]
  },
  {
   "cell_type": "code",
   "execution_count": 138,
   "id": "49f8aaf6",
   "metadata": {},
   "outputs": [
    {
     "data": {
      "text/plain": [
       "<matplotlib.collections.PathCollection at 0x21047bc12e0>"
      ]
     },
     "execution_count": 138,
     "metadata": {},
     "output_type": "execute_result"
    },
    {
     "data": {
      "image/png": "[encoded data removed]",
      "text/plain": [
       "<Figure size 432x288 with 1 Axes>"
      ]
     },
     "metadata": {
      "needs_background": "light"
     },
     "output_type": "display_data"
    }
   ],
   "source": [
    "# 4- b. Description graphique de la relation entre fev (variable expliquée) et la taille.\n",
    "plt.scatter(data_male['height'], data_male['fev'])"
   ]
  },
  {
   "cell_type": "markdown",
   "id": "db0fb88b",
   "metadata": {},
   "source": [
    "### Nous constatons que le nuage semble être disposé de facons lineaire dont nous pouvons à priori penser qu'il existe une correlation entre la taille et la fev."
   ]
  },
  {
   "cell_type": "markdown",
   "id": "18cd804d",
   "metadata": {},
   "source": [
    "## 6- Analyse prédictive."
   ]
  },
  {
   "cell_type": "code",
   "execution_count": 139,
   "id": "3105f03d",
   "metadata": {},
   "outputs": [],
   "source": [
    "from sklearn.model_selection import train_test_split"
   ]
  },
  {
   "cell_type": "code",
   "execution_count": 140,
   "id": "3850211a",
   "metadata": {},
   "outputs": [],
   "source": [
    "def preprocessing(data_1):\n",
    "    X = data_male.drop('fev', 'sex', axis=1)\n",
    "    y = data_male['fev']\n",
    "    print(y.value_counts())\n",
    "    return X, y"
   ]
  },
  {
   "cell_type": "code",
   "execution_count": 141,
   "id": "6031de13",
   "metadata": {},
   "outputs": [],
   "source": [
    "X = data_male.drop('fev', axis = 1) # Features\n",
    "y = data_male['fev']  # Target"
   ]
  },
  {
   "cell_type": "code",
   "execution_count": 142,
   "id": "4a341aa0",
   "metadata": {},
   "outputs": [],
   "source": [
    "# Fractionnement de la base des données en ensemble d'entraînement et de test (80/20)\n",
    "X_train, X_test, y_train, y_test = train_test_split(X,y, test_size=0.2, random_state=0)"
   ]
  },
  {
   "cell_type": "code",
   "execution_count": 143,
   "id": "c21b961f",
   "metadata": {},
   "outputs": [
    {
     "data": {
      "text/html": [
       "<div>\n",
       "<style scoped>\n",
       "    .dataframe tbody tr th:only-of-type {\n",
       "        vertical-align: middle;\n",
       "    }\n",
       "\n",
       "    .dataframe tbody tr th {\n",
       "        vertical-align: top;\n",
       "    }\n",
       "\n",
       "    .dataframe thead th {\n",
       "        text-align: right;\n",
       "    }\n",
       "</style>\n",
       "<table border=\"1\" class=\"dataframe\">\n",
       "  <thead>\n",
       "    <tr style=\"text-align: right;\">\n",
       "      <th></th>\n",
       "      <th>age</th>\n",
       "      <th>height</th>\n",
       "      <th>fev</th>\n",
       "    </tr>\n",
       "  </thead>\n",
       "  <tbody>\n",
       "    <tr>\n",
       "      <th>0</th>\n",
       "      <td>4.95</td>\n",
       "      <td>109</td>\n",
       "      <td>1.12</td>\n",
       "    </tr>\n",
       "    <tr>\n",
       "      <th>1</th>\n",
       "      <td>5.00</td>\n",
       "      <td>119</td>\n",
       "      <td>1.10</td>\n",
       "    </tr>\n",
       "    <tr>\n",
       "      <th>2</th>\n",
       "      <td>5.40</td>\n",
       "      <td>107</td>\n",
       "      <td>0.91</td>\n",
       "    </tr>\n",
       "    <tr>\n",
       "      <th>3</th>\n",
       "      <td>5.29</td>\n",
       "      <td>118</td>\n",
       "      <td>0.94</td>\n",
       "    </tr>\n",
       "    <tr>\n",
       "      <th>4</th>\n",
       "      <td>5.53</td>\n",
       "      <td>119</td>\n",
       "      <td>1.34</td>\n",
       "    </tr>\n",
       "  </tbody>\n",
       "</table>\n",
       "</div>"
      ],
      "text/plain": [
       "    age  height   fev\n",
       "0  4.95     109  1.12\n",
       "1  5.00     119  1.10\n",
       "2  5.40     107  0.91\n",
       "3  5.29     118  0.94\n",
       "4  5.53     119  1.34"
      ]
     },
     "execution_count": 143,
     "metadata": {},
     "output_type": "execute_result"
    }
   ],
   "source": [
    "data_male.head(5)"
   ]
  },
  {
   "cell_type": "markdown",
   "id": "b9a4a0f0",
   "metadata": {},
   "source": [
    "## 6-1 K Neighbors Regressor"
   ]
  },
  {
   "cell_type": "code",
   "execution_count": 144,
   "id": "c5c5d79b",
   "metadata": {},
   "outputs": [],
   "source": [
    "# 6-1 K Neighbors Regressor\n",
    "from sklearn.neighbors import KNeighborsRegressor"
   ]
  },
  {
   "cell_type": "code",
   "execution_count": 145,
   "id": "a7fc8bd7",
   "metadata": {},
   "outputs": [
    {
     "data": {
      "text/html": [
       "<style>#sk-container-id-7 {color: black;background-color: white;}#sk-container-id-7 pre{padding: 0;}#sk-container-id-7 div.sk-toggleable {background-color: white;}#sk-container-id-7 label.sk-toggleable__label {cursor: pointer;display: block;width: 100%;margin-bottom: 0;padding: 0.3em;box-sizing: border-box;text-align: center;}#sk-container-id-7 label.sk-toggleable__label-arrow:before {content: \"▸\";float: left;margin-right: 0.25em;color: #696969;}#sk-container-id-7 label.sk-toggleable__label-arrow:hover:before {color: black;}#sk-container-id-7 div.sk-estimator:hover label.sk-toggleable__label-arrow:before {color: black;}#sk-container-id-7 div.sk-toggleable__content {max-height: 0;max-width: 0;overflow: hidden;text-align: left;background-color: #f0f8ff;}#sk-container-id-7 div.sk-toggleable__content pre {margin: 0.2em;color: black;border-radius: 0.25em;background-color: #f0f8ff;}#sk-container-id-7 input.sk-toggleable__control:checked~div.sk-toggleable__content {max-height: 200px;max-width: 100%;overflow: auto;}#sk-container-id-7 input.sk-toggleable__control:checked~label.sk-toggleable__label-arrow:before {content: \"▾\";}#sk-container-id-7 div.sk-estimator input.sk-toggleable__control:checked~label.sk-toggleable__label {background-color: #d4ebff;}#sk-container-id-7 div.sk-label input.sk-toggleable__control:checked~label.sk-toggleable__label {background-color: #d4ebff;}#sk-container-id-7 input.sk-hidden--visually {border: 0;clip: rect(1px 1px 1px 1px);clip: rect(1px, 1px, 1px, 1px);height: 1px;margin: -1px;overflow: hidden;padding: 0;position: absolute;width: 1px;}#sk-container-id-7 div.sk-estimator {font-family: monospace;background-color: #f0f8ff;border: 1px dotted black;border-radius: 0.25em;box-sizing: border-box;margin-bottom: 0.5em;}#sk-container-id-7 div.sk-estimator:hover {background-color: #d4ebff;}#sk-container-id-7 div.sk-parallel-item::after {content: \"\";width: 100%;border-bottom: 1px solid gray;flex-grow: 1;}#sk-container-id-7 div.sk-label:hover label.sk-toggleable__label {background-color: #d4ebff;}#sk-container-id-7 div.sk-serial::before {content: \"\";position: absolute;border-left: 1px solid gray;box-sizing: border-box;top: 0;bottom: 0;left: 50%;z-index: 0;}#sk-container-id-7 div.sk-serial {display: flex;flex-direction: column;align-items: center;background-color: white;padding-right: 0.2em;padding-left: 0.2em;position: relative;}#sk-container-id-7 div.sk-item {position: relative;z-index: 1;}#sk-container-id-7 div.sk-parallel {display: flex;align-items: stretch;justify-content: center;background-color: white;position: relative;}#sk-container-id-7 div.sk-item::before, #sk-container-id-7 div.sk-parallel-item::before {content: \"\";position: absolute;border-left: 1px solid gray;box-sizing: border-box;top: 0;bottom: 0;left: 50%;z-index: -1;}#sk-container-id-7 div.sk-parallel-item {display: flex;flex-direction: column;z-index: 1;position: relative;background-color: white;}#sk-container-id-7 div.sk-parallel-item:first-child::after {align-self: flex-end;width: 50%;}#sk-container-id-7 div.sk-parallel-item:last-child::after {align-self: flex-start;width: 50%;}#sk-container-id-7 div.sk-parallel-item:only-child::after {width: 0;}#sk-container-id-7 div.sk-dashed-wrapped {border: 1px dashed gray;margin: 0 0.4em 0.5em 0.4em;box-sizing: border-box;padding-bottom: 0.4em;background-color: white;}#sk-container-id-7 div.sk-label label {font-family: monospace;font-weight: bold;display: inline-block;line-height: 1.2em;}#sk-container-id-7 div.sk-label-container {text-align: center;}#sk-container-id-7 div.sk-container {/* jupyter's `normalize.less` sets `[hidden] { display: none; }` but bootstrap.min.css set `[hidden] { display: none !important; }` so we also need the `!important` here to be able to override the default hidden behavior on the sphinx rendered scikit-learn.org. See: https://github.com/scikit-learn/scikit-learn/issues/21755 */display: inline-block !important;position: relative;}#sk-container-id-7 div.sk-text-repr-fallback {display: none;}</style><div id=\"sk-container-id-7\" class=\"sk-top-container\"><div class=\"sk-text-repr-fallback\"><pre>KNeighborsRegressor()</pre><b>In a Jupyter environment, please rerun this cell to show the HTML representation or trust the notebook. <br />On GitHub, the HTML representation is unable to render, please try loading this page with nbviewer.org.</b></div><div class=\"sk-container\" hidden><div class=\"sk-item\"><div class=\"sk-estimator sk-toggleable\"><input class=\"sk-toggleable__control sk-hidden--visually\" id=\"sk-estimator-id-15\" type=\"checkbox\" checked><label for=\"sk-estimator-id-15\" class=\"sk-toggleable__label sk-toggleable__label-arrow\">KNeighborsRegressor</label><div class=\"sk-toggleable__content\"><pre>KNeighborsRegressor()</pre></div></div></div></div></div>"
      ],
      "text/plain": [
       "KNeighborsRegressor()"
      ]
     },
     "execution_count": 145,
     "metadata": {},
     "output_type": "execute_result"
    }
   ],
   "source": [
    "NR = KNeighborsRegressor()\n",
    "NR.fit(X_train, y_train)"
   ]
  },
  {
   "cell_type": "code",
   "execution_count": 146,
   "id": "7f8577bc",
   "metadata": {},
   "outputs": [],
   "source": [
    "# Predire les valeurs cibles de l'ensemble de test\n",
    "y_pred = NR.predict(X_test)"
   ]
  },
  {
   "cell_type": "code",
   "execution_count": 147,
   "id": "6327c810",
   "metadata": {},
   "outputs": [
    {
     "name": "stdout",
     "output_type": "stream",
     "text": [
      "0.27044175280898874\n"
     ]
    }
   ],
   "source": [
    "print(mean_squared_error(y_test, y_pred))"
   ]
  },
  {
   "cell_type": "markdown",
   "id": "0116fa0d",
   "metadata": {},
   "source": [
    "### La puissance prédictive est de 0.28\n",
    "### cherchons à optimiser le model"
   ]
  },
  {
   "cell_type": "code",
   "execution_count": 148,
   "id": "375322c9",
   "metadata": {},
   "outputs": [],
   "source": [
    "%matplotlib inline\n",
    "import numpy.random as rnd\n",
    "index = list(data_male.index)"
   ]
  },
  {
   "cell_type": "code",
   "execution_count": 149,
   "id": "408daa94",
   "metadata": {},
   "outputs": [],
   "source": [
    "## boucle sur un parametre\n",
    "from sklearn.neighbors import KNeighborsRegressor\n",
    "from sklearn.model_selection import GridSearchCV\n",
    "from sklearn.metrics import r2_score\n",
    "voisins = []\n",
    "r2s = []\n",
    "for n in range(1, 10):\n",
    "    knn = KNeighborsRegressor(n_neighbors=n)\n",
    "    knn.fit(X_train, y_train)\n",
    "    r2 = r2_score(y_test, knn.predict(X_test))\n",
    "    voisins.append(n)\n",
    "    r2s.append(r2)"
   ]
  },
  {
   "cell_type": "code",
   "execution_count": 150,
   "id": "86c1a6de",
   "metadata": {},
   "outputs": [
    {
     "data": {
      "text/plain": [
       "0.7787679175000227"
      ]
     },
     "execution_count": 150,
     "metadata": {},
     "output_type": "execute_result"
    }
   ],
   "source": [
    "r2_score(y_train, NR.predict(X_train))"
   ]
  },
  {
   "cell_type": "code",
   "execution_count": 151,
   "id": "407b2f1e",
   "metadata": {},
   "outputs": [
    {
     "data": {
      "text/plain": [
       "0.652096677189238"
      ]
     },
     "execution_count": 151,
     "metadata": {},
     "output_type": "execute_result"
    }
   ],
   "source": [
    "r2_score(y_test, NR.predict(X_test))"
   ]
  },
  {
   "cell_type": "code",
   "execution_count": 152,
   "id": "8b217c6f",
   "metadata": {},
   "outputs": [
    {
     "data": {
      "image/png": "[encoded data removed]",
      "text/plain": [
       "<Figure size 432x288 with 1 Axes>"
      ]
     },
     "metadata": {
      "needs_background": "light"
     },
     "output_type": "display_data"
    }
   ],
   "source": [
    "data_male = pd.DataFrame(dict(voisin=voisins, r2=r2s))\n",
    "ax = data_male.plot(x='voisin', y='r2')\n",
    "ax.set_title(\"Performance en fonction du nombre de voisins\");"
   ]
  },
  {
   "cell_type": "code",
   "execution_count": 153,
   "id": "cd39ef4e",
   "metadata": {},
   "outputs": [],
   "source": [
    "parameters = {'n_neighbors': list(range(1,31))}"
   ]
  },
  {
   "cell_type": "code",
   "execution_count": 154,
   "id": "9be2073a",
   "metadata": {},
   "outputs": [],
   "source": [
    "from sklearn.neighbors import KNeighborsRegressor\n",
    "from sklearn.model_selection import GridSearchCV\n",
    "knn = KNeighborsRegressor()\n",
    "grid = GridSearchCV(knn, parameters, verbose=2, return_train_score=True)"
   ]
  },
  {
   "cell_type": "code",
   "execution_count": 155,
   "id": "ba334d49",
   "metadata": {},
   "outputs": [
    {
     "name": "stdout",
     "output_type": "stream",
     "text": [
      "Fitting 5 folds for each of 30 candidates, totalling 150 fits\n",
      "[CV] END ......................................n_neighbors=1; total time=   0.0s\n",
      "[CV] END ......................................n_neighbors=1; total time=   0.0s\n",
      "[CV] END ......................................n_neighbors=1; total time=   0.0s\n",
      "[CV] END ......................................n_neighbors=1; total time=   0.0s\n",
      "[CV] END ......................................n_neighbors=1; total time=   0.0s\n",
      "[CV] END ......................................n_neighbors=2; total time=   0.0s\n",
      "[CV] END ......................................n_neighbors=2; total time=   0.0s\n",
      "[CV] END ......................................n_neighbors=2; total time=   0.0s\n",
      "[CV] END ......................................n_neighbors=2; total time=   0.0s\n",
      "[CV] END ......................................n_neighbors=2; total time=   0.0s\n",
      "[CV] END ......................................n_neighbors=3; total time=   0.0s\n",
      "[CV] END ......................................n_neighbors=3; total time=   0.0s\n",
      "[CV] END ......................................n_neighbors=3; total time=   0.0s\n",
      "[CV] END ......................................n_neighbors=3; total time=   0.0s\n",
      "[CV] END ......................................n_neighbors=3; total time=   0.0s\n",
      "[CV] END ......................................n_neighbors=4; total time=   0.0s\n",
      "[CV] END ......................................n_neighbors=4; total time=   0.0s\n",
      "[CV] END ......................................n_neighbors=4; total time=   0.0s\n",
      "[CV] END ......................................n_neighbors=4; total time=   0.0s\n",
      "[CV] END ......................................n_neighbors=4; total time=   0.0s\n",
      "[CV] END ......................................n_neighbors=5; total time=   0.0s\n",
      "[CV] END ......................................n_neighbors=5; total time=   0.0s\n",
      "[CV] END ......................................n_neighbors=5; total time=   0.0s\n",
      "[CV] END ......................................n_neighbors=5; total time=   0.0s\n",
      "[CV] END ......................................n_neighbors=5; total time=   0.0s\n",
      "[CV] END ......................................n_neighbors=6; total time=   0.0s\n",
      "[CV] END ......................................n_neighbors=6; total time=   0.0s\n",
      "[CV] END ......................................n_neighbors=6; total time=   0.0s\n",
      "[CV] END ......................................n_neighbors=6; total time=   0.0s\n",
      "[CV] END ......................................n_neighbors=6; total time=   0.0s\n",
      "[CV] END ......................................n_neighbors=7; total time=   0.0s\n",
      "[CV] END ......................................n_neighbors=7; total time=   0.0s\n",
      "[CV] END ......................................n_neighbors=7; total time=   0.0s\n",
      "[CV] END ......................................n_neighbors=7; total time=   0.0s\n",
      "[CV] END ......................................n_neighbors=7; total time=   0.0s\n",
      "[CV] END ......................................n_neighbors=8; total time=   0.0s\n",
      "[CV] END ......................................n_neighbors=8; total time=   0.0s\n",
      "[CV] END ......................................n_neighbors=8; total time=   0.0s\n",
      "[CV] END ......................................n_neighbors=8; total time=   0.0s\n",
      "[CV] END ......................................n_neighbors=8; total time=   0.0s\n",
      "[CV] END ......................................n_neighbors=9; total time=   0.0s\n",
      "[CV] END ......................................n_neighbors=9; total time=   0.0s\n",
      "[CV] END ......................................n_neighbors=9; total time=   0.0s\n",
      "[CV] END ......................................n_neighbors=9; total time=   0.0s\n",
      "[CV] END ......................................n_neighbors=9; total time=   0.0s\n",
      "[CV] END .....................................n_neighbors=10; total time=   0.0s\n",
      "[CV] END .....................................n_neighbors=10; total time=   0.0s\n",
      "[CV] END .....................................n_neighbors=10; total time=   0.0s\n",
      "[CV] END .....................................n_neighbors=10; total time=   0.0s\n",
      "[CV] END .....................................n_neighbors=10; total time=   0.0s\n",
      "[CV] END .....................................n_neighbors=11; total time=   0.0s\n",
      "[CV] END .....................................n_neighbors=11; total time=   0.0s\n",
      "[CV] END .....................................n_neighbors=11; total time=   0.0s\n",
      "[CV] END .....................................n_neighbors=11; total time=   0.0s\n",
      "[CV] END .....................................n_neighbors=11; total time=   0.0s\n",
      "[CV] END .....................................n_neighbors=12; total time=   0.0s\n",
      "[CV] END .....................................n_neighbors=12; total time=   0.0s\n",
      "[CV] END .....................................n_neighbors=12; total time=   0.0s\n",
      "[CV] END .....................................n_neighbors=12; total time=   0.0s\n",
      "[CV] END .....................................n_neighbors=12; total time=   0.0s\n",
      "[CV] END .....................................n_neighbors=13; total time=   0.0s\n",
      "[CV] END .....................................n_neighbors=13; total time=   0.0s\n",
      "[CV] END .....................................n_neighbors=13; total time=   0.0s\n",
      "[CV] END .....................................n_neighbors=13; total time=   0.0s\n",
      "[CV] END .....................................n_neighbors=13; total time=   0.0s\n",
      "[CV] END .....................................n_neighbors=14; total time=   0.0s\n",
      "[CV] END .....................................n_neighbors=14; total time=   0.0s\n",
      "[CV] END .....................................n_neighbors=14; total time=   0.0s\n",
      "[CV] END .....................................n_neighbors=14; total time=   0.0s\n",
      "[CV] END .....................................n_neighbors=14; total time=   0.0s\n",
      "[CV] END .....................................n_neighbors=15; total time=   0.0s\n",
      "[CV] END .....................................n_neighbors=15; total time=   0.0s\n",
      "[CV] END .....................................n_neighbors=15; total time=   0.0s\n",
      "[CV] END .....................................n_neighbors=15; total time=   0.0s\n",
      "[CV] END .....................................n_neighbors=15; total time=   0.0s\n",
      "[CV] END .....................................n_neighbors=16; total time=   0.0s\n",
      "[CV] END .....................................n_neighbors=16; total time=   0.0s\n",
      "[CV] END .....................................n_neighbors=16; total time=   0.0s\n",
      "[CV] END .....................................n_neighbors=16; total time=   0.0s\n",
      "[CV] END .....................................n_neighbors=16; total time=   0.0s\n",
      "[CV] END .....................................n_neighbors=17; total time=   0.0s\n",
      "[CV] END .....................................n_neighbors=17; total time=   0.0s\n",
      "[CV] END .....................................n_neighbors=17; total time=   0.0s\n",
      "[CV] END .....................................n_neighbors=17; total time=   0.0s\n",
      "[CV] END .....................................n_neighbors=17; total time=   0.0s\n",
      "[CV] END .....................................n_neighbors=18; total time=   0.0s\n",
      "[CV] END .....................................n_neighbors=18; total time=   0.0s\n",
      "[CV] END .....................................n_neighbors=18; total time=   0.0s\n",
      "[CV] END .....................................n_neighbors=18; total time=   0.0s\n",
      "[CV] END .....................................n_neighbors=18; total time=   0.0s\n",
      "[CV] END .....................................n_neighbors=19; total time=   0.0s\n",
      "[CV] END .....................................n_neighbors=19; total time=   0.0s\n",
      "[CV] END .....................................n_neighbors=19; total time=   0.0s\n",
      "[CV] END .....................................n_neighbors=19; total time=   0.0s\n",
      "[CV] END .....................................n_neighbors=19; total time=   0.0s\n",
      "[CV] END .....................................n_neighbors=20; total time=   0.0s\n",
      "[CV] END .....................................n_neighbors=20; total time=   0.0s\n",
      "[CV] END .....................................n_neighbors=20; total time=   0.0s\n",
      "[CV] END .....................................n_neighbors=20; total time=   0.0s\n",
      "[CV] END .....................................n_neighbors=20; total time=   0.0s\n",
      "[CV] END .....................................n_neighbors=21; total time=   0.0s\n",
      "[CV] END .....................................n_neighbors=21; total time=   0.0s\n",
      "[CV] END .....................................n_neighbors=21; total time=   0.0s\n",
      "[CV] END .....................................n_neighbors=21; total time=   0.0s\n",
      "[CV] END .....................................n_neighbors=21; total time=   0.0s\n",
      "[CV] END .....................................n_neighbors=22; total time=   0.0s\n",
      "[CV] END .....................................n_neighbors=22; total time=   0.0s\n",
      "[CV] END .....................................n_neighbors=22; total time=   0.0s\n",
      "[CV] END .....................................n_neighbors=22; total time=   0.0s\n",
      "[CV] END .....................................n_neighbors=22; total time=   0.0s\n"
     ]
    },
    {
     "name": "stdout",
     "output_type": "stream",
     "text": [
      "[CV] END .....................................n_neighbors=23; total time=   0.0s\n",
      "[CV] END .....................................n_neighbors=23; total time=   0.0s\n",
      "[CV] END .....................................n_neighbors=23; total time=   0.0s\n",
      "[CV] END .....................................n_neighbors=23; total time=   0.0s\n",
      "[CV] END .....................................n_neighbors=23; total time=   0.0s\n",
      "[CV] END .....................................n_neighbors=24; total time=   0.0s\n",
      "[CV] END .....................................n_neighbors=24; total time=   0.0s\n",
      "[CV] END .....................................n_neighbors=24; total time=   0.0s\n",
      "[CV] END .....................................n_neighbors=24; total time=   0.0s\n",
      "[CV] END .....................................n_neighbors=24; total time=   0.0s\n",
      "[CV] END .....................................n_neighbors=25; total time=   0.0s\n",
      "[CV] END .....................................n_neighbors=25; total time=   0.0s\n",
      "[CV] END .....................................n_neighbors=25; total time=   0.0s\n",
      "[CV] END .....................................n_neighbors=25; total time=   0.0s\n",
      "[CV] END .....................................n_neighbors=25; total time=   0.0s\n",
      "[CV] END .....................................n_neighbors=26; total time=   0.0s\n",
      "[CV] END .....................................n_neighbors=26; total time=   0.0s\n",
      "[CV] END .....................................n_neighbors=26; total time=   0.0s\n",
      "[CV] END .....................................n_neighbors=26; total time=   0.0s\n",
      "[CV] END .....................................n_neighbors=26; total time=   0.0s\n",
      "[CV] END .....................................n_neighbors=27; total time=   0.0s\n",
      "[CV] END .....................................n_neighbors=27; total time=   0.0s\n",
      "[CV] END .....................................n_neighbors=27; total time=   0.0s\n",
      "[CV] END .....................................n_neighbors=27; total time=   0.0s\n",
      "[CV] END .....................................n_neighbors=27; total time=   0.0s\n",
      "[CV] END .....................................n_neighbors=28; total time=   0.0s\n",
      "[CV] END .....................................n_neighbors=28; total time=   0.0s\n",
      "[CV] END .....................................n_neighbors=28; total time=   0.0s\n",
      "[CV] END .....................................n_neighbors=28; total time=   0.0s\n",
      "[CV] END .....................................n_neighbors=28; total time=   0.0s\n",
      "[CV] END .....................................n_neighbors=29; total time=   0.0s\n",
      "[CV] END .....................................n_neighbors=29; total time=   0.0s\n",
      "[CV] END .....................................n_neighbors=29; total time=   0.0s\n",
      "[CV] END .....................................n_neighbors=29; total time=   0.0s\n",
      "[CV] END .....................................n_neighbors=29; total time=   0.0s\n",
      "[CV] END .....................................n_neighbors=30; total time=   0.0s\n",
      "[CV] END .....................................n_neighbors=30; total time=   0.0s\n",
      "[CV] END .....................................n_neighbors=30; total time=   0.0s\n",
      "[CV] END .....................................n_neighbors=30; total time=   0.0s\n",
      "[CV] END .....................................n_neighbors=30; total time=   0.0s\n"
     ]
    },
    {
     "data": {
      "text/html": [
       "<style>#sk-container-id-8 {color: black;background-color: white;}#sk-container-id-8 pre{padding: 0;}#sk-container-id-8 div.sk-toggleable {background-color: white;}#sk-container-id-8 label.sk-toggleable__label {cursor: pointer;display: block;width: 100%;margin-bottom: 0;padding: 0.3em;box-sizing: border-box;text-align: center;}#sk-container-id-8 label.sk-toggleable__label-arrow:before {content: \"▸\";float: left;margin-right: 0.25em;color: #696969;}#sk-container-id-8 label.sk-toggleable__label-arrow:hover:before {color: black;}#sk-container-id-8 div.sk-estimator:hover label.sk-toggleable__label-arrow:before {color: black;}#sk-container-id-8 div.sk-toggleable__content {max-height: 0;max-width: 0;overflow: hidden;text-align: left;background-color: #f0f8ff;}#sk-container-id-8 div.sk-toggleable__content pre {margin: 0.2em;color: black;border-radius: 0.25em;background-color: #f0f8ff;}#sk-container-id-8 input.sk-toggleable__control:checked~div.sk-toggleable__content {max-height: 200px;max-width: 100%;overflow: auto;}#sk-container-id-8 input.sk-toggleable__control:checked~label.sk-toggleable__label-arrow:before {content: \"▾\";}#sk-container-id-8 div.sk-estimator input.sk-toggleable__control:checked~label.sk-toggleable__label {background-color: #d4ebff;}#sk-container-id-8 div.sk-label input.sk-toggleable__control:checked~label.sk-toggleable__label {background-color: #d4ebff;}#sk-container-id-8 input.sk-hidden--visually {border: 0;clip: rect(1px 1px 1px 1px);clip: rect(1px, 1px, 1px, 1px);height: 1px;margin: -1px;overflow: hidden;padding: 0;position: absolute;width: 1px;}#sk-container-id-8 div.sk-estimator {font-family: monospace;background-color: #f0f8ff;border: 1px dotted black;border-radius: 0.25em;box-sizing: border-box;margin-bottom: 0.5em;}#sk-container-id-8 div.sk-estimator:hover {background-color: #d4ebff;}#sk-container-id-8 div.sk-parallel-item::after {content: \"\";width: 100%;border-bottom: 1px solid gray;flex-grow: 1;}#sk-container-id-8 div.sk-label:hover label.sk-toggleable__label {background-color: #d4ebff;}#sk-container-id-8 div.sk-serial::before {content: \"\";position: absolute;border-left: 1px solid gray;box-sizing: border-box;top: 0;bottom: 0;left: 50%;z-index: 0;}#sk-container-id-8 div.sk-serial {display: flex;flex-direction: column;align-items: center;background-color: white;padding-right: 0.2em;padding-left: 0.2em;position: relative;}#sk-container-id-8 div.sk-item {position: relative;z-index: 1;}#sk-container-id-8 div.sk-parallel {display: flex;align-items: stretch;justify-content: center;background-color: white;position: relative;}#sk-container-id-8 div.sk-item::before, #sk-container-id-8 div.sk-parallel-item::before {content: \"\";position: absolute;border-left: 1px solid gray;box-sizing: border-box;top: 0;bottom: 0;left: 50%;z-index: -1;}#sk-container-id-8 div.sk-parallel-item {display: flex;flex-direction: column;z-index: 1;position: relative;background-color: white;}#sk-container-id-8 div.sk-parallel-item:first-child::after {align-self: flex-end;width: 50%;}#sk-container-id-8 div.sk-parallel-item:last-child::after {align-self: flex-start;width: 50%;}#sk-container-id-8 div.sk-parallel-item:only-child::after {width: 0;}#sk-container-id-8 div.sk-dashed-wrapped {border: 1px dashed gray;margin: 0 0.4em 0.5em 0.4em;box-sizing: border-box;padding-bottom: 0.4em;background-color: white;}#sk-container-id-8 div.sk-label label {font-family: monospace;font-weight: bold;display: inline-block;line-height: 1.2em;}#sk-container-id-8 div.sk-label-container {text-align: center;}#sk-container-id-8 div.sk-container {/* jupyter's `normalize.less` sets `[hidden] { display: none; }` but bootstrap.min.css set `[hidden] { display: none !important; }` so we also need the `!important` here to be able to override the default hidden behavior on the sphinx rendered scikit-learn.org. See: https://github.com/scikit-learn/scikit-learn/issues/21755 */display: inline-block !important;position: relative;}#sk-container-id-8 div.sk-text-repr-fallback {display: none;}</style><div id=\"sk-container-id-8\" class=\"sk-top-container\"><div class=\"sk-text-repr-fallback\"><pre>GridSearchCV(estimator=KNeighborsRegressor(),\n",
       "             param_grid={&#x27;n_neighbors&#x27;: [1, 2, 3, 4, 5, 6, 7, 8, 9, 10, 11, 12,\n",
       "                                         13, 14, 15, 16, 17, 18, 19, 20, 21, 22,\n",
       "                                         23, 24, 25, 26, 27, 28, 29, 30]},\n",
       "             return_train_score=True, verbose=2)</pre><b>In a Jupyter environment, please rerun this cell to show the HTML representation or trust the notebook. <br />On GitHub, the HTML representation is unable to render, please try loading this page with nbviewer.org.</b></div><div class=\"sk-container\" hidden><div class=\"sk-item sk-dashed-wrapped\"><div class=\"sk-label-container\"><div class=\"sk-label sk-toggleable\"><input class=\"sk-toggleable__control sk-hidden--visually\" id=\"sk-estimator-id-16\" type=\"checkbox\" ><label for=\"sk-estimator-id-16\" class=\"sk-toggleable__label sk-toggleable__label-arrow\">GridSearchCV</label><div class=\"sk-toggleable__content\"><pre>GridSearchCV(estimator=KNeighborsRegressor(),\n",
       "             param_grid={&#x27;n_neighbors&#x27;: [1, 2, 3, 4, 5, 6, 7, 8, 9, 10, 11, 12,\n",
       "                                         13, 14, 15, 16, 17, 18, 19, 20, 21, 22,\n",
       "                                         23, 24, 25, 26, 27, 28, 29, 30]},\n",
       "             return_train_score=True, verbose=2)</pre></div></div></div><div class=\"sk-parallel\"><div class=\"sk-parallel-item\"><div class=\"sk-item\"><div class=\"sk-label-container\"><div class=\"sk-label sk-toggleable\"><input class=\"sk-toggleable__control sk-hidden--visually\" id=\"sk-estimator-id-17\" type=\"checkbox\" ><label for=\"sk-estimator-id-17\" class=\"sk-toggleable__label sk-toggleable__label-arrow\">estimator: KNeighborsRegressor</label><div class=\"sk-toggleable__content\"><pre>KNeighborsRegressor()</pre></div></div></div><div class=\"sk-serial\"><div class=\"sk-item\"><div class=\"sk-estimator sk-toggleable\"><input class=\"sk-toggleable__control sk-hidden--visually\" id=\"sk-estimator-id-18\" type=\"checkbox\" ><label for=\"sk-estimator-id-18\" class=\"sk-toggleable__label sk-toggleable__label-arrow\">KNeighborsRegressor</label><div class=\"sk-toggleable__content\"><pre>KNeighborsRegressor()</pre></div></div></div></div></div></div></div></div></div></div>"
      ],
      "text/plain": [
       "GridSearchCV(estimator=KNeighborsRegressor(),\n",
       "             param_grid={'n_neighbors': [1, 2, 3, 4, 5, 6, 7, 8, 9, 10, 11, 12,\n",
       "                                         13, 14, 15, 16, 17, 18, 19, 20, 21, 22,\n",
       "                                         23, 24, 25, 26, 27, 28, 29, 30]},\n",
       "             return_train_score=True, verbose=2)"
      ]
     },
     "execution_count": 155,
     "metadata": {},
     "output_type": "execute_result"
    }
   ],
   "source": [
    "grid.fit(X, y)"
   ]
  },
  {
   "cell_type": "code",
   "execution_count": 156,
   "id": "1b78387e",
   "metadata": {},
   "outputs": [
    {
     "name": "stderr",
     "output_type": "stream",
     "text": [
      "C:\\Users\\GSI\\anaconda3\\lib\\site-packages\\pandas\\core\\indexes\\base.py:6982: FutureWarning: In a future version, the Index constructor will not infer numeric dtypes when passed object-dtype sequences (matching Series behavior)\n",
      "  return Index(sequences[0], name=names)\n",
      "C:\\Users\\GSI\\anaconda3\\lib\\site-packages\\pandas\\core\\indexes\\base.py:6982: FutureWarning: In a future version, the Index constructor will not infer numeric dtypes when passed object-dtype sequences (matching Series behavior)\n",
      "  return Index(sequences[0], name=names)\n"
     ]
    },
    {
     "data": {
      "image/png": "[encoded data removed]",
      "text/plain": [
       "<Figure size 432x288 with 1 Axes>"
      ]
     },
     "metadata": {
      "needs_background": "light"
     },
     "output_type": "display_data"
    }
   ],
   "source": [
    "res = grid.cv_results_\n",
    "k = res['param_n_neighbors']\n",
    "train_score = res['mean_train_score']\n",
    "test_score = res['mean_test_score']\n",
    "\n",
    "import pandas\n",
    "data_male_score = pd.DataFrame(dict(k=k, test=test_score, train=train_score))\n",
    "ax = data_male_score.plot(x='k', y='train', figsize=(6, 4))\n",
    "data_male_score.plot(x='k', y='test', ax=ax, grid=True)\n",
    "ax.set_title(\"Evolution de la performance sur\\nles bases d'apprentissage et de test\" +\n",
    "             \"\\nen fonction du nombre de voisins\")\n",
    "ax.set_ylabel(\"r2\");"
   ]
  },
  {
   "cell_type": "code",
   "execution_count": 157,
   "id": "99443843",
   "metadata": {},
   "outputs": [
    {
     "data": {
      "text/html": [
       "<div>\n",
       "<style scoped>\n",
       "    .dataframe tbody tr th:only-of-type {\n",
       "        vertical-align: middle;\n",
       "    }\n",
       "\n",
       "    .dataframe tbody tr th {\n",
       "        vertical-align: top;\n",
       "    }\n",
       "\n",
       "    .dataframe thead th {\n",
       "        text-align: right;\n",
       "    }\n",
       "</style>\n",
       "<table border=\"1\" class=\"dataframe\">\n",
       "  <thead>\n",
       "    <tr style=\"text-align: right;\">\n",
       "      <th></th>\n",
       "      <th>k</th>\n",
       "      <th>test</th>\n",
       "      <th>train</th>\n",
       "    </tr>\n",
       "  </thead>\n",
       "  <tbody>\n",
       "    <tr>\n",
       "      <th>7</th>\n",
       "      <td>8</td>\n",
       "      <td>-0.076540</td>\n",
       "      <td>0.751922</td>\n",
       "    </tr>\n",
       "    <tr>\n",
       "      <th>8</th>\n",
       "      <td>9</td>\n",
       "      <td>-0.057190</td>\n",
       "      <td>0.746649</td>\n",
       "    </tr>\n",
       "    <tr>\n",
       "      <th>9</th>\n",
       "      <td>10</td>\n",
       "      <td>-0.047553</td>\n",
       "      <td>0.746218</td>\n",
       "    </tr>\n",
       "    <tr>\n",
       "      <th>10</th>\n",
       "      <td>11</td>\n",
       "      <td>-0.035943</td>\n",
       "      <td>0.742272</td>\n",
       "    </tr>\n",
       "    <tr>\n",
       "      <th>11</th>\n",
       "      <td>12</td>\n",
       "      <td>-0.029748</td>\n",
       "      <td>0.739591</td>\n",
       "    </tr>\n",
       "    <tr>\n",
       "      <th>12</th>\n",
       "      <td>13</td>\n",
       "      <td>-0.031076</td>\n",
       "      <td>0.737988</td>\n",
       "    </tr>\n",
       "    <tr>\n",
       "      <th>13</th>\n",
       "      <td>14</td>\n",
       "      <td>-0.035134</td>\n",
       "      <td>0.735582</td>\n",
       "    </tr>\n",
       "    <tr>\n",
       "      <th>14</th>\n",
       "      <td>15</td>\n",
       "      <td>-0.030444</td>\n",
       "      <td>0.734051</td>\n",
       "    </tr>\n",
       "  </tbody>\n",
       "</table>\n",
       "</div>"
      ],
      "text/plain": [
       "     k      test     train\n",
       "7    8 -0.076540  0.751922\n",
       "8    9 -0.057190  0.746649\n",
       "9   10 -0.047553  0.746218\n",
       "10  11 -0.035943  0.742272\n",
       "11  12 -0.029748  0.739591\n",
       "12  13 -0.031076  0.737988\n",
       "13  14 -0.035134  0.735582\n",
       "14  15 -0.030444  0.734051"
      ]
     },
     "execution_count": 157,
     "metadata": {},
     "output_type": "execute_result"
    }
   ],
   "source": [
    "data_male_score[7:15]"
   ]
  },
  {
   "cell_type": "markdown",
   "id": "9bd3cfcc",
   "metadata": {},
   "source": [
    "### Difficile de tirer une conclusion sur l'erreur sur la base d'apprentissage."
   ]
  },
  {
   "cell_type": "code",
   "execution_count": 158,
   "id": "e2b0e318",
   "metadata": {},
   "outputs": [
    {
     "name": "stdout",
     "output_type": "stream",
     "text": [
      "Fitting 5 folds for each of 18 candidates, totalling 90 fits\n",
      "[CV] END ......................................n_neighbors=5; total time=   0.0s\n",
      "[CV] END ......................................n_neighbors=5; total time=   0.0s\n",
      "[CV] END ......................................n_neighbors=5; total time=   0.0s\n",
      "[CV] END ......................................n_neighbors=5; total time=   0.0s\n",
      "[CV] END ......................................n_neighbors=5; total time=   0.0s\n",
      "[CV] END .....................................n_neighbors=10; total time=   0.0s\n",
      "[CV] END .....................................n_neighbors=10; total time=   0.0s\n",
      "[CV] END .....................................n_neighbors=10; total time=   0.0s\n",
      "[CV] END .....................................n_neighbors=10; total time=   0.0s\n",
      "[CV] END .....................................n_neighbors=10; total time=   0.0s\n",
      "[CV] END .....................................n_neighbors=15; total time=   0.0s\n",
      "[CV] END .....................................n_neighbors=15; total time=   0.0s\n",
      "[CV] END .....................................n_neighbors=15; total time=   0.0s\n",
      "[CV] END .....................................n_neighbors=15; total time=   0.0s\n",
      "[CV] END .....................................n_neighbors=15; total time=   0.0s\n",
      "[CV] END .....................................n_neighbors=20; total time=   0.0s\n",
      "[CV] END .....................................n_neighbors=20; total time=   0.0s\n",
      "[CV] END .....................................n_neighbors=20; total time=   0.0s\n",
      "[CV] END .....................................n_neighbors=20; total time=   0.0s\n",
      "[CV] END .....................................n_neighbors=20; total time=   0.0s\n",
      "[CV] END .....................................n_neighbors=25; total time=   0.0s\n",
      "[CV] END .....................................n_neighbors=25; total time=   0.0s\n",
      "[CV] END .....................................n_neighbors=25; total time=   0.0s\n",
      "[CV] END .....................................n_neighbors=25; total time=   0.0s\n",
      "[CV] END .....................................n_neighbors=25; total time=   0.0s\n",
      "[CV] END .....................................n_neighbors=30; total time=   0.0s\n",
      "[CV] END .....................................n_neighbors=30; total time=   0.0s\n",
      "[CV] END .....................................n_neighbors=30; total time=   0.0s\n",
      "[CV] END .....................................n_neighbors=30; total time=   0.0s\n",
      "[CV] END .....................................n_neighbors=30; total time=   0.0s\n",
      "[CV] END .....................................n_neighbors=35; total time=   0.0s\n",
      "[CV] END .....................................n_neighbors=35; total time=   0.0s\n",
      "[CV] END .....................................n_neighbors=35; total time=   0.0s\n",
      "[CV] END .....................................n_neighbors=35; total time=   0.0s\n",
      "[CV] END .....................................n_neighbors=35; total time=   0.0s\n",
      "[CV] END .....................................n_neighbors=40; total time=   0.0s\n",
      "[CV] END .....................................n_neighbors=40; total time=   0.0s\n",
      "[CV] END .....................................n_neighbors=40; total time=   0.0s\n",
      "[CV] END .....................................n_neighbors=40; total time=   0.0s\n",
      "[CV] END .....................................n_neighbors=40; total time=   0.0s\n",
      "[CV] END .....................................n_neighbors=45; total time=   0.0s\n",
      "[CV] END .....................................n_neighbors=45; total time=   0.0s\n",
      "[CV] END .....................................n_neighbors=45; total time=   0.0s\n",
      "[CV] END .....................................n_neighbors=45; total time=   0.0s\n",
      "[CV] END .....................................n_neighbors=45; total time=   0.0s\n",
      "[CV] END .....................................n_neighbors=50; total time=   0.0s\n",
      "[CV] END .....................................n_neighbors=50; total time=   0.0s\n",
      "[CV] END .....................................n_neighbors=50; total time=   0.0s\n",
      "[CV] END .....................................n_neighbors=50; total time=   0.0s\n",
      "[CV] END .....................................n_neighbors=50; total time=   0.0s\n",
      "[CV] END .....................................n_neighbors=50; total time=   0.0s\n",
      "[CV] END .....................................n_neighbors=50; total time=   0.0s\n",
      "[CV] END .....................................n_neighbors=50; total time=   0.0s\n",
      "[CV] END .....................................n_neighbors=50; total time=   0.0s\n",
      "[CV] END .....................................n_neighbors=50; total time=   0.0s\n",
      "[CV] END .....................................n_neighbors=70; total time=   0.0s\n",
      "[CV] END .....................................n_neighbors=70; total time=   0.0s\n",
      "[CV] END .....................................n_neighbors=70; total time=   0.0s\n",
      "[CV] END .....................................n_neighbors=70; total time=   0.0s\n",
      "[CV] END .....................................n_neighbors=70; total time=   0.0s\n",
      "[CV] END .....................................n_neighbors=90; total time=   0.0s\n",
      "[CV] END .....................................n_neighbors=90; total time=   0.0s\n",
      "[CV] END .....................................n_neighbors=90; total time=   0.0s\n",
      "[CV] END .....................................n_neighbors=90; total time=   0.0s\n",
      "[CV] END .....................................n_neighbors=90; total time=   0.0s\n",
      "[CV] END ....................................n_neighbors=110; total time=   0.0s\n",
      "[CV] END ....................................n_neighbors=110; total time=   0.0s\n",
      "[CV] END ....................................n_neighbors=110; total time=   0.0s\n",
      "[CV] END ....................................n_neighbors=110; total time=   0.0s\n",
      "[CV] END ....................................n_neighbors=110; total time=   0.0s\n",
      "[CV] END ....................................n_neighbors=130; total time=   0.0s\n",
      "[CV] END ....................................n_neighbors=130; total time=   0.0s\n",
      "[CV] END ....................................n_neighbors=130; total time=   0.0s\n",
      "[CV] END ....................................n_neighbors=130; total time=   0.0s\n",
      "[CV] END ....................................n_neighbors=130; total time=   0.0s\n",
      "[CV] END ....................................n_neighbors=150; total time=   0.0s\n",
      "[CV] END ....................................n_neighbors=150; total time=   0.0s\n",
      "[CV] END ....................................n_neighbors=150; total time=   0.0s\n",
      "[CV] END ....................................n_neighbors=150; total time=   0.0s\n",
      "[CV] END ....................................n_neighbors=150; total time=   0.0s\n",
      "[CV] END ....................................n_neighbors=170; total time=   0.0s\n",
      "[CV] END ....................................n_neighbors=170; total time=   0.0s\n",
      "[CV] END ....................................n_neighbors=170; total time=   0.0s\n",
      "[CV] END ....................................n_neighbors=170; total time=   0.0s\n",
      "[CV] END ....................................n_neighbors=170; total time=   0.0s\n",
      "[CV] END ....................................n_neighbors=190; total time=   0.0s\n",
      "[CV] END ....................................n_neighbors=190; total time=   0.0s\n",
      "[CV] END ....................................n_neighbors=190; total time=   0.0s\n",
      "[CV] END ....................................n_neighbors=190; total time=   0.0s\n",
      "[CV] END ....................................n_neighbors=190; total time=   0.0s\n"
     ]
    },
    {
     "data": {
      "text/html": [
       "<style>#sk-container-id-9 {color: black;background-color: white;}#sk-container-id-9 pre{padding: 0;}#sk-container-id-9 div.sk-toggleable {background-color: white;}#sk-container-id-9 label.sk-toggleable__label {cursor: pointer;display: block;width: 100%;margin-bottom: 0;padding: 0.3em;box-sizing: border-box;text-align: center;}#sk-container-id-9 label.sk-toggleable__label-arrow:before {content: \"▸\";float: left;margin-right: 0.25em;color: #696969;}#sk-container-id-9 label.sk-toggleable__label-arrow:hover:before {color: black;}#sk-container-id-9 div.sk-estimator:hover label.sk-toggleable__label-arrow:before {color: black;}#sk-container-id-9 div.sk-toggleable__content {max-height: 0;max-width: 0;overflow: hidden;text-align: left;background-color: #f0f8ff;}#sk-container-id-9 div.sk-toggleable__content pre {margin: 0.2em;color: black;border-radius: 0.25em;background-color: #f0f8ff;}#sk-container-id-9 input.sk-toggleable__control:checked~div.sk-toggleable__content {max-height: 200px;max-width: 100%;overflow: auto;}#sk-container-id-9 input.sk-toggleable__control:checked~label.sk-toggleable__label-arrow:before {content: \"▾\";}#sk-container-id-9 div.sk-estimator input.sk-toggleable__control:checked~label.sk-toggleable__label {background-color: #d4ebff;}#sk-container-id-9 div.sk-label input.sk-toggleable__control:checked~label.sk-toggleable__label {background-color: #d4ebff;}#sk-container-id-9 input.sk-hidden--visually {border: 0;clip: rect(1px 1px 1px 1px);clip: rect(1px, 1px, 1px, 1px);height: 1px;margin: -1px;overflow: hidden;padding: 0;position: absolute;width: 1px;}#sk-container-id-9 div.sk-estimator {font-family: monospace;background-color: #f0f8ff;border: 1px dotted black;border-radius: 0.25em;box-sizing: border-box;margin-bottom: 0.5em;}#sk-container-id-9 div.sk-estimator:hover {background-color: #d4ebff;}#sk-container-id-9 div.sk-parallel-item::after {content: \"\";width: 100%;border-bottom: 1px solid gray;flex-grow: 1;}#sk-container-id-9 div.sk-label:hover label.sk-toggleable__label {background-color: #d4ebff;}#sk-container-id-9 div.sk-serial::before {content: \"\";position: absolute;border-left: 1px solid gray;box-sizing: border-box;top: 0;bottom: 0;left: 50%;z-index: 0;}#sk-container-id-9 div.sk-serial {display: flex;flex-direction: column;align-items: center;background-color: white;padding-right: 0.2em;padding-left: 0.2em;position: relative;}#sk-container-id-9 div.sk-item {position: relative;z-index: 1;}#sk-container-id-9 div.sk-parallel {display: flex;align-items: stretch;justify-content: center;background-color: white;position: relative;}#sk-container-id-9 div.sk-item::before, #sk-container-id-9 div.sk-parallel-item::before {content: \"\";position: absolute;border-left: 1px solid gray;box-sizing: border-box;top: 0;bottom: 0;left: 50%;z-index: -1;}#sk-container-id-9 div.sk-parallel-item {display: flex;flex-direction: column;z-index: 1;position: relative;background-color: white;}#sk-container-id-9 div.sk-parallel-item:first-child::after {align-self: flex-end;width: 50%;}#sk-container-id-9 div.sk-parallel-item:last-child::after {align-self: flex-start;width: 50%;}#sk-container-id-9 div.sk-parallel-item:only-child::after {width: 0;}#sk-container-id-9 div.sk-dashed-wrapped {border: 1px dashed gray;margin: 0 0.4em 0.5em 0.4em;box-sizing: border-box;padding-bottom: 0.4em;background-color: white;}#sk-container-id-9 div.sk-label label {font-family: monospace;font-weight: bold;display: inline-block;line-height: 1.2em;}#sk-container-id-9 div.sk-label-container {text-align: center;}#sk-container-id-9 div.sk-container {/* jupyter's `normalize.less` sets `[hidden] { display: none; }` but bootstrap.min.css set `[hidden] { display: none !important; }` so we also need the `!important` here to be able to override the default hidden behavior on the sphinx rendered scikit-learn.org. See: https://github.com/scikit-learn/scikit-learn/issues/21755 */display: inline-block !important;position: relative;}#sk-container-id-9 div.sk-text-repr-fallback {display: none;}</style><div id=\"sk-container-id-9\" class=\"sk-top-container\"><div class=\"sk-text-repr-fallback\"><pre>GridSearchCV(estimator=KNeighborsRegressor(),\n",
       "             param_grid={&#x27;n_neighbors&#x27;: [5, 10, 15, 20, 25, 30, 35, 40, 45, 50,\n",
       "                                         50, 70, 90, 110, 130, 150, 170, 190]},\n",
       "             return_train_score=True, verbose=2)</pre><b>In a Jupyter environment, please rerun this cell to show the HTML representation or trust the notebook. <br />On GitHub, the HTML representation is unable to render, please try loading this page with nbviewer.org.</b></div><div class=\"sk-container\" hidden><div class=\"sk-item sk-dashed-wrapped\"><div class=\"sk-label-container\"><div class=\"sk-label sk-toggleable\"><input class=\"sk-toggleable__control sk-hidden--visually\" id=\"sk-estimator-id-19\" type=\"checkbox\" ><label for=\"sk-estimator-id-19\" class=\"sk-toggleable__label sk-toggleable__label-arrow\">GridSearchCV</label><div class=\"sk-toggleable__content\"><pre>GridSearchCV(estimator=KNeighborsRegressor(),\n",
       "             param_grid={&#x27;n_neighbors&#x27;: [5, 10, 15, 20, 25, 30, 35, 40, 45, 50,\n",
       "                                         50, 70, 90, 110, 130, 150, 170, 190]},\n",
       "             return_train_score=True, verbose=2)</pre></div></div></div><div class=\"sk-parallel\"><div class=\"sk-parallel-item\"><div class=\"sk-item\"><div class=\"sk-label-container\"><div class=\"sk-label sk-toggleable\"><input class=\"sk-toggleable__control sk-hidden--visually\" id=\"sk-estimator-id-20\" type=\"checkbox\" ><label for=\"sk-estimator-id-20\" class=\"sk-toggleable__label sk-toggleable__label-arrow\">estimator: KNeighborsRegressor</label><div class=\"sk-toggleable__content\"><pre>KNeighborsRegressor()</pre></div></div></div><div class=\"sk-serial\"><div class=\"sk-item\"><div class=\"sk-estimator sk-toggleable\"><input class=\"sk-toggleable__control sk-hidden--visually\" id=\"sk-estimator-id-21\" type=\"checkbox\" ><label for=\"sk-estimator-id-21\" class=\"sk-toggleable__label sk-toggleable__label-arrow\">KNeighborsRegressor</label><div class=\"sk-toggleable__content\"><pre>KNeighborsRegressor()</pre></div></div></div></div></div></div></div></div></div></div>"
      ],
      "text/plain": [
       "GridSearchCV(estimator=KNeighborsRegressor(),\n",
       "             param_grid={'n_neighbors': [5, 10, 15, 20, 25, 30, 35, 40, 45, 50,\n",
       "                                         50, 70, 90, 110, 130, 150, 170, 190]},\n",
       "             return_train_score=True, verbose=2)"
      ]
     },
     "execution_count": 158,
     "metadata": {},
     "output_type": "execute_result"
    }
   ],
   "source": [
    "parameters = {'n_neighbors': list(range(5, 51, 5)) + list(range(50, 201, 20))}\n",
    "grid = GridSearchCV(knn, parameters, verbose=2, return_train_score=True)\n",
    "grid.fit(X, y)"
   ]
  },
  {
   "cell_type": "code",
   "execution_count": 159,
   "id": "c3a2e344",
   "metadata": {},
   "outputs": [
    {
     "name": "stderr",
     "output_type": "stream",
     "text": [
      "C:\\Users\\GSI\\anaconda3\\lib\\site-packages\\pandas\\core\\indexes\\base.py:6982: FutureWarning: In a future version, the Index constructor will not infer numeric dtypes when passed object-dtype sequences (matching Series behavior)\n",
      "  return Index(sequences[0], name=names)\n",
      "C:\\Users\\GSI\\anaconda3\\lib\\site-packages\\pandas\\core\\indexes\\base.py:6982: FutureWarning: In a future version, the Index constructor will not infer numeric dtypes when passed object-dtype sequences (matching Series behavior)\n",
      "  return Index(sequences[0], name=names)\n"
     ]
    },
    {
     "data": {
      "text/plain": [
       "Text(0.5, 1.0, \"Evolution de la performance sur\\nles bases d'apprentissage et de test\\nen fonction du nombre de voisins\")"
      ]
     },
     "execution_count": 159,
     "metadata": {},
     "output_type": "execute_result"
    },
    {
     "data": {
      "image/png": "[encoded data removed]",
      "text/plain": [
       "<Figure size 432x288 with 1 Axes>"
      ]
     },
     "metadata": {
      "needs_background": "light"
     },
     "output_type": "display_data"
    }
   ],
   "source": [
    "res = grid.cv_results_\n",
    "k = res['param_n_neighbors']\n",
    "train_score = res['mean_train_score']\n",
    "test_score = res['mean_test_score']\n",
    "\n",
    "import pandas\n",
    "res = grid.cv_results_\n",
    "k = res['param_n_neighbors']\n",
    "train_score = res['mean_train_score']\n",
    "test_score = res['mean_test_score']\n",
    "\n",
    "import pandas\n",
    "data_male_score = pd.DataFrame(dict(k=k, test=test_score, train=train_score))\n",
    "ax = data_male_score.plot(x='k', y='train', figsize=(6, 4))\n",
    "data_male_score.plot(x='k', y='test', ax=ax, grid=True)\n",
    "ax.set_title(\"Evolution de la performance sur\\nles bases d'apprentissage et de test\" +\n",
    "             \"\\nen fonction du nombre de voisins\")"
   ]
  },
  {
   "cell_type": "markdown",
   "id": "7c87ea74",
   "metadata": {},
   "source": [
    "## 6-2 Gradient Boosting Regressor "
   ]
  },
  {
   "cell_type": "code",
   "execution_count": 173,
   "id": "cb3b5289",
   "metadata": {},
   "outputs": [],
   "source": [
    "from sklearn.ensemble import GradientBoostingRegressor\n",
    "from sklearn.model_selection import GridSearchCV"
   ]
  },
  {
   "cell_type": "code",
   "execution_count": 213,
   "id": "f38f175e",
   "metadata": {},
   "outputs": [],
   "source": [
    "params = {\n",
    "    \"n_estimators\": 600,\n",
    "    \"max_depth\": 4,\n",
    "    \"min_samples_split\": 5,\n",
    "    \"learning_rate\": 0.01,\n",
    "    \"loss\": \"squared_error\",\n",
    "}"
   ]
  },
  {
   "cell_type": "code",
   "execution_count": 214,
   "id": "573029af",
   "metadata": {},
   "outputs": [],
   "source": [
    "gradientregressor = GradientBoostingRegressor(max_depth = 7, n_estimators = 30, learning_rate = 1.0)"
   ]
  },
  {
   "cell_type": "code",
   "execution_count": 215,
   "id": "cbe9f286",
   "metadata": {},
   "outputs": [],
   "source": [
    "GBR = gradientregressor.fit(X_train, y_train)"
   ]
  },
  {
   "cell_type": "code",
   "execution_count": 216,
   "id": "abdd01cc",
   "metadata": {},
   "outputs": [],
   "source": [
    "# Predicting the target values of the test set\n",
    "y_pred = GBR.predict(X_test)"
   ]
  },
  {
   "cell_type": "code",
   "execution_count": 217,
   "id": "3b2e0abc",
   "metadata": {},
   "outputs": [
    {
     "name": "stdout",
     "output_type": "stream",
     "text": [
      "0.4679266456513239\n"
     ]
    }
   ],
   "source": [
    "# Predicting the target values of the test set.\n",
    "print(mean_squared_error(y_test, y_pred))"
   ]
  },
  {
   "cell_type": "code",
   "execution_count": 218,
   "id": "f1b4867a",
   "metadata": {},
   "outputs": [
    {
     "data": {
      "text/plain": [
       "0.9948603352430617"
      ]
     },
     "execution_count": 218,
     "metadata": {},
     "output_type": "execute_result"
    }
   ],
   "source": [
    "r2_score(y_train, GBR.predict(X_train))"
   ]
  },
  {
   "cell_type": "code",
   "execution_count": 205,
   "id": "c0bde42c",
   "metadata": {},
   "outputs": [
    {
     "data": {
      "text/plain": [
       "0.9932332519182338"
      ]
     },
     "execution_count": 205,
     "metadata": {},
     "output_type": "execute_result"
    }
   ],
   "source": [
    "r2_score(y_train, GBR.predict(X_train))"
   ]
  },
  {
   "cell_type": "code",
   "execution_count": 206,
   "id": "741b8e01",
   "metadata": {},
   "outputs": [
    {
     "data": {
      "text/plain": [
       "0.43012004656985314"
      ]
     },
     "execution_count": 206,
     "metadata": {},
     "output_type": "execute_result"
    }
   ],
   "source": [
    "r2_score(y_test, GBR.predict(X_test))"
   ]
  },
  {
   "cell_type": "markdown",
   "id": "43922ada",
   "metadata": {},
   "source": [
    "### La puissance prédictive est 0.469"
   ]
  },
  {
   "cell_type": "markdown",
   "id": "55def5b2",
   "metadata": {},
   "source": [
    "## 6-3 Random Forest Regressor. "
   ]
  },
  {
   "cell_type": "code",
   "execution_count": 173,
   "id": "80f4cac6",
   "metadata": {},
   "outputs": [],
   "source": [
    "from sklearn.ensemble import RandomForestRegressor"
   ]
  },
  {
   "cell_type": "code",
   "execution_count": 174,
   "id": "0e96d679",
   "metadata": {},
   "outputs": [],
   "source": [
    "# Initializing the Random Forest Regression model with 10 decision trees\n",
    "RF = RandomForestRegressor(n_estimators = 2, random_state = 10)"
   ]
  },
  {
   "cell_type": "code",
   "execution_count": 75,
   "id": "791db6d0",
   "metadata": {},
   "outputs": [
    {
     "data": {
      "text/plain": [
       "0.6472975165053796"
      ]
     },
     "execution_count": 75,
     "metadata": {},
     "output_type": "execute_result"
    }
   ],
   "source": [
    "from sklearn.ensemble import RandomForestRegressor\n",
    "from sklearn.metrics import r2_score\n",
    "\n",
    "rf = RandomForestRegressor()\n",
    "rf.fit(X_train, y_train)\n",
    "r2_score(y_test, rf.predict(X_test))"
   ]
  },
  {
   "cell_type": "markdown",
   "id": "e309de6d",
   "metadata": {},
   "source": [
    "### La puissance prédictive est 0,647"
   ]
  },
  {
   "cell_type": "markdown",
   "id": "7acea12a",
   "metadata": {},
   "source": [
    "## Nous allons comparer plusieurs modèles afin de sélectionner celui qui correspond le plus aux donées de data_male."
   ]
  },
  {
   "cell_type": "code",
   "execution_count": 145,
   "id": "72456399",
   "metadata": {},
   "outputs": [],
   "source": [
    "import warnings\n",
    "warnings.simplefilter('ignore')"
   ]
  },
  {
   "cell_type": "code",
   "execution_count": 146,
   "id": "5048d043",
   "metadata": {},
   "outputs": [],
   "source": [
    "# Normalisons les données\n",
    "from sklearn.preprocessing import normalize\n",
    "X_train_norm = normalize(X_train)\n",
    "X_test_norm = normalize(X_test)\n",
    "X_norm = normalize(X)"
   ]
  },
  {
   "cell_type": "markdown",
   "id": "04adb62c",
   "metadata": {},
   "source": [
    "### # soulignons quand même que Cette façon de faire est complètement erronnée car il est peu probable que la même normalisation soit apppliquée sur toutes les bases. La normalisation doit être estimée sur la base d’apprentissage et appliquée sur la base de test. Reprenons."
   ]
  },
  {
   "cell_type": "code",
   "execution_count": 147,
   "id": "9d7fa4f8",
   "metadata": {},
   "outputs": [
    {
     "name": "stdout",
     "output_type": "stream",
     "text": [
      "[<class 'sklearn.tree._classes.DecisionTreeRegressor'>,\n",
      " <class 'sklearn.neighbors._regression.KNeighborsRegressor'>,\n",
      " <class 'sklearn.ensemble._gb.GradientBoostingRegressor'>,\n",
      " <class 'sklearn.ensemble._forest.RandomForestRegressor'>,\n",
      " <class 'sklearn.linear_model._bayes.ARDRegression'>,\n",
      " <class 'sklearn.linear_model._huber.HuberRegressor'>,\n",
      " <class 'sklearn.linear_model._base.LinearRegression'>,\n",
      " <class 'sklearn.linear_model._passive_aggressive.PassiveAggressiveRegressor'>,\n",
      " <class 'sklearn.linear_model._quantile.QuantileRegressor'>,\n",
      " <class 'sklearn.linear_model._stochastic_gradient.SGDRegressor'>,\n",
      " <class 'sklearn.linear_model._theil_sen.TheilSenRegressor'>,\n",
      " <class 'sklearn.linear_model._ransac.RANSACRegressor'>,\n",
      " <class 'sklearn.linear_model._glm.glm.PoissonRegressor'>,\n",
      " <class 'sklearn.linear_model._glm.glm.GammaRegressor'>,\n",
      " <class 'sklearn.linear_model._glm.glm.TweedieRegressor'>,\n",
      " <class 'sklearn.ensemble._forest.ExtraTreesRegressor'>,\n",
      " <class 'sklearn.ensemble._bagging.BaggingRegressor'>,\n",
      " <class 'sklearn.ensemble._weight_boosting.AdaBoostRegressor'>,\n",
      " <class 'sklearn.ensemble._voting.VotingRegressor'>,\n",
      " <class 'sklearn.ensemble._stacking.StackingRegressor'>,\n",
      " <class 'sklearn.ensemble._hist_gradient_boosting.gradient_boosting.HistGradientBoostingRegressor'>,\n",
      " <class 'sklearn.neighbors._regression.RadiusNeighborsRegressor'>,\n",
      " <class 'sklearn.neural_network._multilayer_perceptron.MLPRegressor'>]\n"
     ]
    }
   ],
   "source": [
    "from sklearn.linear_model import *\n",
    "from sklearn.ensemble import *\n",
    "from sklearn.neighbors import *\n",
    "from sklearn.neural_network import *\n",
    "\n",
    "models = [\n",
    "    model for name, model in globals().items() if (\n",
    "        hasattr(model, 'fit') and not hasattr(model, 'predict_proba') and\n",
    "        hasattr(model, '__name__') and not model.__name__.endswith('CV') and\n",
    "        'Logistic' not in model.__name__ and 'Regr' in model.__name__)]\n",
    "\n",
    "import pprint\n",
    "pprint.pprint(models)"
   ]
  },
  {
   "cell_type": "code",
   "execution_count": 148,
   "id": "a7b97086",
   "metadata": {},
   "outputs": [],
   "source": [
    "from sklearn.metrics import r2_score\n",
    "\n",
    "def score_model(xtr, xte, ytr, yte, model):\n",
    "    try:\n",
    "        model.fit(xtr, ytr)\n",
    "    except Exception as e:\n",
    "        raise Exception(\"Issue with model '{0}'\".format(model.__name__)) from e\n",
    "    return r2_score(yte, model.predict(xte))"
   ]
  },
  {
   "cell_type": "code",
   "execution_count": 149,
   "id": "483c4544",
   "metadata": {},
   "outputs": [
    {
     "name": "stdout",
     "output_type": "stream",
     "text": [
      "0 DecisionTreeRegressor 0.04731042921553852 0.004792799999904673\n",
      "1 KNeighborsRegressor 0.37678835806732325 0.0027439999998932763\n",
      "2 GradientBoostingRegressor 0.47003607643616707 0.08785960000000159\n",
      "3 RandomForestRegressor 0.2826582985798082 0.27491809999992256\n",
      "5 HuberRegressor 0.3421232264847779 0.023228300000027957\n",
      "6 LinearRegression 0.3387788913603369 0.004165600000078484\n",
      "7 PassiveAggressiveRegressor -3.1367458851363965 0.001991200000020399\n",
      "9 SGDRegressor 0.0028830726095456782 0.0016871999998784304\n",
      "10 TheilSenRegressor 0.2947978301181 0.9004554999999073\n",
      "11 RANSACRegressor 0.22499193149609253 0.01960630000007768\n",
      "12 PoissonRegressor -0.003880919439605446 0.005030200000192053\n",
      "13 GammaRegressor -0.004044560813110776 0.0039730999999392225\n",
      "14 TweedieRegressor -0.004053737565319793 0.004111999999850013\n",
      "15 ExtraTreesRegressor 0.18564449161659224 0.27300229999991643\n",
      "16 BaggingRegressor 0.2505324060108527 0.03237469999999121\n",
      "17 AdaBoostRegressor 0.47041789898963227 0.019885399999793663\n",
      "20 HistGradientBoostingRegressor 0.45544983900349767 0.7065183999998226\n",
      "21 RadiusNeighborsRegressor -0.004165370067711338 0.04597949999993034\n",
      "22 MLPRegressor 0.37082695306394253 1.098763100000042\n"
     ]
    }
   ],
   "source": [
    "from time import perf_counter\n",
    "r2s = []\n",
    "names = []\n",
    "durations = []\n",
    "regressors = {}\n",
    "for i, model in enumerate(models):\n",
    "    if model.__name__ in {'ARDRegression', 'VotingRegressor', 'StackingRegressor',\n",
    "                          'QuantileRegressor'}:\n",
    "        continue\n",
    "    try:\n",
    "        reg = model()\n",
    "    except Exception as e:\n",
    "        print('Skip', model)\n",
    "        continue\n",
    "    begin = perf_counter()\n",
    "    r2 = score_model(X_train_norm, X_test_norm, y_train, y_test, reg)\n",
    "    duree = perf_counter () - begin\n",
    "    r2s.append(r2)\n",
    "    names.append(model.__name__)\n",
    "    durations.append(duree)\n",
    "    regressors[model.__name__] = reg\n",
    "    print(i, model.__name__, r2, duree)"
   ]
  },
  {
   "cell_type": "markdown",
   "id": "968e9228",
   "metadata": {},
   "source": [
    "## Tableau final"
   ]
  },
  {
   "cell_type": "code",
   "execution_count": 150,
   "id": "9e67f15b",
   "metadata": {},
   "outputs": [
    {
     "data": {
      "text/html": [
       "<div>\n",
       "<style scoped>\n",
       "    .dataframe tbody tr th:only-of-type {\n",
       "        vertical-align: middle;\n",
       "    }\n",
       "\n",
       "    .dataframe tbody tr th {\n",
       "        vertical-align: top;\n",
       "    }\n",
       "\n",
       "    .dataframe thead th {\n",
       "        text-align: right;\n",
       "    }\n",
       "</style>\n",
       "<table border=\"1\" class=\"dataframe\">\n",
       "  <thead>\n",
       "    <tr style=\"text-align: right;\">\n",
       "      <th></th>\n",
       "      <th>model</th>\n",
       "      <th>r2</th>\n",
       "      <th>duree</th>\n",
       "    </tr>\n",
       "  </thead>\n",
       "  <tbody>\n",
       "    <tr>\n",
       "      <th>6</th>\n",
       "      <td>PassiveAggressiveRegressor</td>\n",
       "      <td>-3.136746</td>\n",
       "      <td>0.001991</td>\n",
       "    </tr>\n",
       "    <tr>\n",
       "      <th>17</th>\n",
       "      <td>RadiusNeighborsRegressor</td>\n",
       "      <td>-0.004165</td>\n",
       "      <td>0.045979</td>\n",
       "    </tr>\n",
       "    <tr>\n",
       "      <th>12</th>\n",
       "      <td>TweedieRegressor</td>\n",
       "      <td>-0.004054</td>\n",
       "      <td>0.004112</td>\n",
       "    </tr>\n",
       "    <tr>\n",
       "      <th>11</th>\n",
       "      <td>GammaRegressor</td>\n",
       "      <td>-0.004045</td>\n",
       "      <td>0.003973</td>\n",
       "    </tr>\n",
       "    <tr>\n",
       "      <th>10</th>\n",
       "      <td>PoissonRegressor</td>\n",
       "      <td>-0.003881</td>\n",
       "      <td>0.005030</td>\n",
       "    </tr>\n",
       "    <tr>\n",
       "      <th>7</th>\n",
       "      <td>SGDRegressor</td>\n",
       "      <td>0.002883</td>\n",
       "      <td>0.001687</td>\n",
       "    </tr>\n",
       "    <tr>\n",
       "      <th>0</th>\n",
       "      <td>DecisionTreeRegressor</td>\n",
       "      <td>0.047310</td>\n",
       "      <td>0.004793</td>\n",
       "    </tr>\n",
       "    <tr>\n",
       "      <th>13</th>\n",
       "      <td>ExtraTreesRegressor</td>\n",
       "      <td>0.185644</td>\n",
       "      <td>0.273002</td>\n",
       "    </tr>\n",
       "    <tr>\n",
       "      <th>9</th>\n",
       "      <td>RANSACRegressor</td>\n",
       "      <td>0.224992</td>\n",
       "      <td>0.019606</td>\n",
       "    </tr>\n",
       "    <tr>\n",
       "      <th>14</th>\n",
       "      <td>BaggingRegressor</td>\n",
       "      <td>0.250532</td>\n",
       "      <td>0.032375</td>\n",
       "    </tr>\n",
       "    <tr>\n",
       "      <th>3</th>\n",
       "      <td>RandomForestRegressor</td>\n",
       "      <td>0.282658</td>\n",
       "      <td>0.274918</td>\n",
       "    </tr>\n",
       "    <tr>\n",
       "      <th>8</th>\n",
       "      <td>TheilSenRegressor</td>\n",
       "      <td>0.294798</td>\n",
       "      <td>0.900455</td>\n",
       "    </tr>\n",
       "    <tr>\n",
       "      <th>5</th>\n",
       "      <td>LinearRegression</td>\n",
       "      <td>0.338779</td>\n",
       "      <td>0.004166</td>\n",
       "    </tr>\n",
       "    <tr>\n",
       "      <th>4</th>\n",
       "      <td>HuberRegressor</td>\n",
       "      <td>0.342123</td>\n",
       "      <td>0.023228</td>\n",
       "    </tr>\n",
       "    <tr>\n",
       "      <th>18</th>\n",
       "      <td>MLPRegressor</td>\n",
       "      <td>0.370827</td>\n",
       "      <td>1.098763</td>\n",
       "    </tr>\n",
       "    <tr>\n",
       "      <th>1</th>\n",
       "      <td>KNeighborsRegressor</td>\n",
       "      <td>0.376788</td>\n",
       "      <td>0.002744</td>\n",
       "    </tr>\n",
       "    <tr>\n",
       "      <th>16</th>\n",
       "      <td>HistGradientBoostingRegressor</td>\n",
       "      <td>0.455450</td>\n",
       "      <td>0.706518</td>\n",
       "    </tr>\n",
       "    <tr>\n",
       "      <th>2</th>\n",
       "      <td>GradientBoostingRegressor</td>\n",
       "      <td>0.470036</td>\n",
       "      <td>0.087860</td>\n",
       "    </tr>\n",
       "    <tr>\n",
       "      <th>15</th>\n",
       "      <td>AdaBoostRegressor</td>\n",
       "      <td>0.470418</td>\n",
       "      <td>0.019885</td>\n",
       "    </tr>\n",
       "  </tbody>\n",
       "</table>\n",
       "</div>"
      ],
      "text/plain": [
       "                            model        r2     duree\n",
       "6      PassiveAggressiveRegressor -3.136746  0.001991\n",
       "17       RadiusNeighborsRegressor -0.004165  0.045979\n",
       "12               TweedieRegressor -0.004054  0.004112\n",
       "11                 GammaRegressor -0.004045  0.003973\n",
       "10               PoissonRegressor -0.003881  0.005030\n",
       "7                    SGDRegressor  0.002883  0.001687\n",
       "0           DecisionTreeRegressor  0.047310  0.004793\n",
       "13            ExtraTreesRegressor  0.185644  0.273002\n",
       "9                 RANSACRegressor  0.224992  0.019606\n",
       "14               BaggingRegressor  0.250532  0.032375\n",
       "3           RandomForestRegressor  0.282658  0.274918\n",
       "8               TheilSenRegressor  0.294798  0.900455\n",
       "5                LinearRegression  0.338779  0.004166\n",
       "4                  HuberRegressor  0.342123  0.023228\n",
       "18                   MLPRegressor  0.370827  1.098763\n",
       "1             KNeighborsRegressor  0.376788  0.002744\n",
       "16  HistGradientBoostingRegressor  0.455450  0.706518\n",
       "2       GradientBoostingRegressor  0.470036  0.087860\n",
       "15              AdaBoostRegressor  0.470418  0.019885"
      ]
     },
     "execution_count": 150,
     "metadata": {},
     "output_type": "execute_result"
    }
   ],
   "source": [
    "data_male = pd.DataFrame(dict(model=names, r2=r2s, duree=durations))\n",
    "data_male = data_male[['model', 'r2', 'duree']]\n",
    "data_male.sort_values('r2')"
   ]
  }
 ],
 "metadata": {
  "kernelspec": {
   "display_name": "Python 3 (ipykernel)",
   "language": "python",
   "name": "python3"
  },
  "language_info": {
   "codemirror_mode": {
    "name": "ipython",
    "version": 3
   },
   "file_extension": ".py",
   "mimetype": "text/x-python",
   "name": "python",
   "nbconvert_exporter": "python",
   "pygments_lexer": "ipython3",
   "version": "3.11.5"
  }
 },
 "nbformat": 4,
 "nbformat_minor": 5
}
