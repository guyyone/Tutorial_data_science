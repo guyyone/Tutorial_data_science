{
 "cells": [
  {
   "cell_type": "markdown",
   "id": "98cfaaec",
   "metadata": {},
   "source": [
    "<h3><font color=\"#001999\"> MOUGNUTOU YONE Guy Christian</font></h3>"
   ]
  },
  {
   "cell_type": "markdown",
   "id": "456f0170",
   "metadata": {},
   "source": [
    "<h2><font color=\"#009999\"><center> Prise en main de Python pour la Data science et le Machine Learning</center></font></h2>"
   ]
  },
  {
   "cell_type": "markdown",
   "id": "559fcca1",
   "metadata": {},
   "source": [
    "<h2><font color=\"#009999\"><center>OBJECTIFS </center></font></h2>"
   ]
  },
  {
   "cell_type": "markdown",
   "id": "46fb366c",
   "metadata": {},
   "source": [
    "> Se familiariser avec les fonctionnalités et les outils offerts par le logiciel Python\n",
    "\n",
    "> Acquérir les bases de la programmation en Python pour traiter, visualiser et modéliser les données."
   ]
  },
  {
   "cell_type": "code",
   "execution_count": 10,
   "id": "8beeff49",
   "metadata": {},
   "outputs": [],
   "source": [
    "import pandas as pd\n",
    "import sqlite3"
   ]
  },
  {
   "cell_type": "code",
   "execution_count": 8,
   "id": "70ba3b7f",
   "metadata": {},
   "outputs": [
    {
     "data": {
      "text/plain": [
       "(381, 12)"
      ]
     },
     "execution_count": 8,
     "metadata": {},
     "output_type": "execute_result"
    }
   ],
   "source": [
    "df = pd.read_csv('C:/Users/AZIMUT Info/OneDrive/Desktop/repos/df_classification_article.csv', sep=\",\")\n",
    "df.shape"
   ]
  },
  {
   "cell_type": "code",
   "execution_count": 7,
   "id": "5908a5b2",
   "metadata": {},
   "outputs": [
    {
     "data": {
      "text/plain": [
       "(202, 12)"
      ]
     },
     "execution_count": 7,
     "metadata": {},
     "output_type": "execute_result"
    }
   ],
   "source": [
    "data = df.dropna()\n",
    "data.shape"
   ]
  },
  {
   "cell_type": "code",
   "execution_count": 16,
   "id": "095c656c",
   "metadata": {},
   "outputs": [
    {
     "data": {
      "text/html": [
       "<div>\n",
       "<style scoped>\n",
       "    .dataframe tbody tr th:only-of-type {\n",
       "        vertical-align: middle;\n",
       "    }\n",
       "\n",
       "    .dataframe tbody tr th {\n",
       "        vertical-align: top;\n",
       "    }\n",
       "\n",
       "    .dataframe thead th {\n",
       "        text-align: right;\n",
       "    }\n",
       "</style>\n",
       "<table border=\"1\" class=\"dataframe\">\n",
       "  <thead>\n",
       "    <tr style=\"text-align: right;\">\n",
       "      <th></th>\n",
       "      <th>sexe</th>\n",
       "      <th>type_trouble</th>\n",
       "      <th>age</th>\n",
       "      <th>vems</th>\n",
       "      <th>vemscvf</th>\n",
       "      <th>cvf</th>\n",
       "      <th>dep</th>\n",
       "      <th>dem25</th>\n",
       "      <th>dem50</th>\n",
       "      <th>dem75</th>\n",
       "      <th>aex</th>\n",
       "      <th>imc</th>\n",
       "    </tr>\n",
       "  </thead>\n",
       "  <tbody>\n",
       "    <tr>\n",
       "      <th>count</th>\n",
       "      <td>202.000000</td>\n",
       "      <td>202.000000</td>\n",
       "      <td>202.000000</td>\n",
       "      <td>202.000000</td>\n",
       "      <td>202.000000</td>\n",
       "      <td>202.000000</td>\n",
       "      <td>202.000000</td>\n",
       "      <td>202.000000</td>\n",
       "      <td>202.000000</td>\n",
       "      <td>202.000000</td>\n",
       "      <td>202.000000</td>\n",
       "      <td>202.000000</td>\n",
       "    </tr>\n",
       "    <tr>\n",
       "      <th>mean</th>\n",
       "      <td>1.594059</td>\n",
       "      <td>0.371287</td>\n",
       "      <td>46.628713</td>\n",
       "      <td>2.118762</td>\n",
       "      <td>0.825842</td>\n",
       "      <td>2.568465</td>\n",
       "      <td>5.756733</td>\n",
       "      <td>1.224406</td>\n",
       "      <td>3.388416</td>\n",
       "      <td>5.408960</td>\n",
       "      <td>7.628168</td>\n",
       "      <td>27.891570</td>\n",
       "    </tr>\n",
       "    <tr>\n",
       "      <th>std</th>\n",
       "      <td>0.492293</td>\n",
       "      <td>0.658483</td>\n",
       "      <td>21.809573</td>\n",
       "      <td>0.780263</td>\n",
       "      <td>0.086867</td>\n",
       "      <td>0.918356</td>\n",
       "      <td>2.239685</td>\n",
       "      <td>0.685051</td>\n",
       "      <td>1.589977</td>\n",
       "      <td>2.180514</td>\n",
       "      <td>5.289596</td>\n",
       "      <td>7.223739</td>\n",
       "    </tr>\n",
       "    <tr>\n",
       "      <th>min</th>\n",
       "      <td>1.000000</td>\n",
       "      <td>0.000000</td>\n",
       "      <td>7.000000</td>\n",
       "      <td>0.560000</td>\n",
       "      <td>0.440000</td>\n",
       "      <td>0.670000</td>\n",
       "      <td>1.350000</td>\n",
       "      <td>0.090000</td>\n",
       "      <td>0.260000</td>\n",
       "      <td>0.610000</td>\n",
       "      <td>0.520000</td>\n",
       "      <td>13.017751</td>\n",
       "    </tr>\n",
       "    <tr>\n",
       "      <th>25%</th>\n",
       "      <td>1.000000</td>\n",
       "      <td>0.000000</td>\n",
       "      <td>30.000000</td>\n",
       "      <td>1.452500</td>\n",
       "      <td>0.790000</td>\n",
       "      <td>1.835000</td>\n",
       "      <td>4.065000</td>\n",
       "      <td>0.710000</td>\n",
       "      <td>2.167500</td>\n",
       "      <td>3.715000</td>\n",
       "      <td>3.157500</td>\n",
       "      <td>22.885539</td>\n",
       "    </tr>\n",
       "    <tr>\n",
       "      <th>50%</th>\n",
       "      <td>2.000000</td>\n",
       "      <td>0.000000</td>\n",
       "      <td>48.000000</td>\n",
       "      <td>2.150000</td>\n",
       "      <td>0.840000</td>\n",
       "      <td>2.585000</td>\n",
       "      <td>5.495000</td>\n",
       "      <td>1.135000</td>\n",
       "      <td>3.185000</td>\n",
       "      <td>5.285000</td>\n",
       "      <td>6.905000</td>\n",
       "      <td>27.250887</td>\n",
       "    </tr>\n",
       "    <tr>\n",
       "      <th>75%</th>\n",
       "      <td>2.000000</td>\n",
       "      <td>1.000000</td>\n",
       "      <td>65.000000</td>\n",
       "      <td>2.670000</td>\n",
       "      <td>0.880000</td>\n",
       "      <td>3.207500</td>\n",
       "      <td>7.330000</td>\n",
       "      <td>1.585000</td>\n",
       "      <td>4.407500</td>\n",
       "      <td>6.887500</td>\n",
       "      <td>10.440000</td>\n",
       "      <td>32.093932</td>\n",
       "    </tr>\n",
       "    <tr>\n",
       "      <th>max</th>\n",
       "      <td>2.000000</td>\n",
       "      <td>2.000000</td>\n",
       "      <td>88.000000</td>\n",
       "      <td>4.360000</td>\n",
       "      <td>1.000000</td>\n",
       "      <td>5.150000</td>\n",
       "      <td>12.420000</td>\n",
       "      <td>4.620000</td>\n",
       "      <td>9.270000</td>\n",
       "      <td>12.420000</td>\n",
       "      <td>29.420000</td>\n",
       "      <td>57.812500</td>\n",
       "    </tr>\n",
       "  </tbody>\n",
       "</table>\n",
       "</div>"
      ],
      "text/plain": [
       "             sexe  type_trouble         age        vems     vemscvf  \\\n",
       "count  202.000000    202.000000  202.000000  202.000000  202.000000   \n",
       "mean     1.594059      0.371287   46.628713    2.118762    0.825842   \n",
       "std      0.492293      0.658483   21.809573    0.780263    0.086867   \n",
       "min      1.000000      0.000000    7.000000    0.560000    0.440000   \n",
       "25%      1.000000      0.000000   30.000000    1.452500    0.790000   \n",
       "50%      2.000000      0.000000   48.000000    2.150000    0.840000   \n",
       "75%      2.000000      1.000000   65.000000    2.670000    0.880000   \n",
       "max      2.000000      2.000000   88.000000    4.360000    1.000000   \n",
       "\n",
       "              cvf         dep       dem25       dem50       dem75         aex  \\\n",
       "count  202.000000  202.000000  202.000000  202.000000  202.000000  202.000000   \n",
       "mean     2.568465    5.756733    1.224406    3.388416    5.408960    7.628168   \n",
       "std      0.918356    2.239685    0.685051    1.589977    2.180514    5.289596   \n",
       "min      0.670000    1.350000    0.090000    0.260000    0.610000    0.520000   \n",
       "25%      1.835000    4.065000    0.710000    2.167500    3.715000    3.157500   \n",
       "50%      2.585000    5.495000    1.135000    3.185000    5.285000    6.905000   \n",
       "75%      3.207500    7.330000    1.585000    4.407500    6.887500   10.440000   \n",
       "max      5.150000   12.420000    4.620000    9.270000   12.420000   29.420000   \n",
       "\n",
       "              imc  \n",
       "count  202.000000  \n",
       "mean    27.891570  \n",
       "std      7.223739  \n",
       "min     13.017751  \n",
       "25%     22.885539  \n",
       "50%     27.250887  \n",
       "75%     32.093932  \n",
       "max     57.812500  "
      ]
     },
     "execution_count": 16,
     "metadata": {},
     "output_type": "execute_result"
    }
   ],
   "source": [
    "data.describe()"
   ]
  },
  {
   "cell_type": "code",
   "execution_count": 9,
   "id": "679052ef",
   "metadata": {},
   "outputs": [],
   "source": [
    "data.to_csv('C:/Users/AZIMUT Info/OneDrive/Desktop/repos/data_spiro.csv', index = False)"
   ]
  },
  {
   "cell_type": "markdown",
   "id": "43ce0c5c",
   "metadata": {},
   "source": [
    "### Introcuction"
   ]
  },
  {
   "cell_type": "markdown",
   "id": "aa0cbd63",
   "metadata": {},
   "source": [
    "#### Langage de programmation"
   ]
  },
  {
   "cell_type": "markdown",
   "id": "ae6220bb",
   "metadata": {},
   "source": [
    "### Installation"
   ]
  },
  {
   "cell_type": "markdown",
   "id": "ce5d3d0d",
   "metadata": {},
   "source": [
    "#### Télécharger les préréquis nécessaire pour faire le développement en pyton dans des bonnes conditions.\n",
    "#### Il faut deux composantes\n",
    "#### Un interpréteur (environnement) : encdroit où va s'éxécuter le code python et un IDE (logiciel sur lequel vous pouvez écrire votre code). Fastidieux!"
   ]
  },
  {
   "cell_type": "markdown",
   "id": "f2471113",
   "metadata": {},
   "source": [
    "<h3><font color=\"#001999\"><center> Se rendre dans le site officiel d'Anaconda https://www.anaconda.com/download, rénseigner votre adresse email. Choisisser la version du logiciel compatible avec votre sytème d'installation et élécharger. Si vous installer anaconda sous windows, penser à cocher l'option \"Add Anaconda to my PATH environment variable\" </center></font></h3>"
   ]
  },
  {
   "cell_type": "markdown",
   "id": "6ea40f9f",
   "metadata": {},
   "source": [
    "Anaconda propose plusieurs IDE (environnements de développement intégrés) pour le développement en Python, R, et d'autres langages. Ces IDE offrent des outils et des fonctionnalités qui simplifient le codage, le débogage et l'exécution des scripts."
   ]
  },
  {
   "cell_type": "markdown",
   "id": "7c7cd00b",
   "metadata": {},
   "source": [
    "<h2><font color=\"#009999\"><center>1. Environnement de développement intégré d’Anaconda</center></font></h2>"
   ]
  },
  {
   "cell_type": "markdown",
   "id": "b024e2ca",
   "metadata": {},
   "source": [
    "### 1.  Jupyter Notebook"
   ]
  },
  {
   "cell_type": "markdown",
   "id": "2e738444",
   "metadata": {},
   "source": [
    "### 2. Spyder"
   ]
  },
  {
   "cell_type": "markdown",
   "id": "4683644c",
   "metadata": {},
   "source": [
    "### 3. JupyterLab"
   ]
  },
  {
   "cell_type": "markdown",
   "id": "4c314d97",
   "metadata": {},
   "source": [
    "### **PyCharm"
   ]
  },
  {
   "cell_type": "markdown",
   "id": "f8a22ed0",
   "metadata": {},
   "source": [
    "### Que faire si je ne peux pas installer python sur mon PC?"
   ]
  },
  {
   "cell_type": "markdown",
   "id": "c46b6727",
   "metadata": {},
   "source": [
    "Plusieurs solutions sont disponibles pour nous permettre de coder et d'exécuter des scripts Python sans installation locale"
   ]
  },
  {
   "cell_type": "markdown",
   "id": "6b2c3d46",
   "metadata": {},
   "source": [
    "### 1. Google Colab"
   ]
  },
  {
   "cell_type": "markdown",
   "id": "b3496222",
   "metadata": {},
   "source": [
    "### 2.  Kaggle "
   ]
  },
  {
   "cell_type": "markdown",
   "id": "f5c3e41b",
   "metadata": {},
   "source": [
    "<h2><font color=\"#009999\"><center>2. Les Concepts de base </center></font></h2>"
   ]
  },
  {
   "cell_type": "markdown",
   "id": "decfb4a7",
   "metadata": {},
   "source": [
    "<font color=\"#009999\"><h3>1. Variables</h3></font>"
   ]
  },
  {
   "cell_type": "code",
   "execution_count": 1,
   "id": "f8053931",
   "metadata": {},
   "outputs": [
    {
     "name": "stdout",
     "output_type": "stream",
     "text": [
      "votre poids est de : 89 Kg\n",
      "IFPERA\n"
     ]
    }
   ],
   "source": [
    "# Définition d'une variable en python\n",
    "poids = 89 # Ici, nous avons donné le nom poids à notre variable et elle contient la valeur 89. La valeur d'une variable peut changer, donc on peut faire ceci\n",
    "print('votre poids est de :', poids, 'Kg')\n",
    "\n",
    "ecole = 'IFPERA'\n",
    "print(ecole)"
   ]
  },
  {
   "cell_type": "markdown",
   "id": "42d02b44",
   "metadata": {},
   "source": [
    "#### Faire les opérations sur les variables"
   ]
  },
  {
   "cell_type": "code",
   "execution_count": 2,
   "id": "d755151e",
   "metadata": {},
   "outputs": [
    {
     "name": "stdout",
     "output_type": "stream",
     "text": [
      "La somme de 15 et 30 est: 45\n",
      "le produit de 5 et -4 est: -20\n",
      "\n",
      "87\n",
      "207\n",
      "\n",
      "The assertion that -4 is greater than 5 is: False\n"
     ]
    }
   ],
   "source": [
    "# Multiplier 5 et -4\n",
    "n1 = 5 \n",
    "n2 = -4\n",
    "\n",
    "# On peut faire des opérations mathématiques sur les variables par exemple exemple\n",
    "print('La somme de 15 et 30 est:', 15 + 30)\n",
    "\n",
    "n = n1*n2\n",
    "\n",
    "print('le produit de 5 et -4 est:', n)\n",
    "\n",
    "print()\n",
    "\n",
    "# Ordre de priorité des opération: P E M D A S (Parenthèses, Exposant, Multiplication, Division, Addition, Soustraction)\n",
    "print(15 + 8 * 3 ** 2)\n",
    "print((15 + 8 )* 3 ** 2)\n",
    "\n",
    "print()\n",
    "\n",
    "# Vérifier si n2 et est plus grand que n1\n",
    "vérification = (n2 > n1) \n",
    "print(\"The assertion that -4 is greater than 5 is:\", vérification)"
   ]
  },
  {
   "cell_type": "markdown",
   "id": "cfdda36a",
   "metadata": {},
   "source": [
    "<font color=\"#009999\"><h3>2. Types de variables en Python</h3></font>"
   ]
  },
  {
   "cell_type": "code",
   "execution_count": 3,
   "id": "1e10e040",
   "metadata": {},
   "outputs": [
    {
     "name": "stdout",
     "output_type": "stream",
     "text": [
      "<class 'int'>\n",
      "<class 'float'>\n",
      "<class 'str'>\n",
      "<class 'str'>\n"
     ]
    }
   ],
   "source": [
    "# Les nombres entiers\n",
    "age = 15\n",
    "print(type(age))\n",
    "\n",
    "# Les nombres à virgules\n",
    "taille = 1.83\n",
    "print(type(taille))\n",
    "\n",
    "# Les chaînes de caractères\n",
    "nom = 'IFPERA'\n",
    "print(type(nom))\n",
    "\n",
    "# Que se passe-t-il si je mets un nombre entre des guillemets\n",
    "nombre = \"15\"\n",
    "print(type(nombre))"
   ]
  },
  {
   "cell_type": "markdown",
   "id": "7402381d",
   "metadata": {},
   "source": [
    "<font color=\"#009999\"><h3>3.  Changement de Type </h3></font>"
   ]
  },
  {
   "cell_type": "code",
   "execution_count": 4,
   "id": "49275429",
   "metadata": {},
   "outputs": [
    {
     "data": {
      "text/plain": [
       "float"
      ]
     },
     "execution_count": 4,
     "metadata": {},
     "output_type": "execute_result"
    }
   ],
   "source": [
    "# Changer le type de nombre en entier\n",
    "nombre =  float(nombre)\n",
    "type(nombre)"
   ]
  },
  {
   "cell_type": "code",
   "execution_count": 5,
   "id": "80fbe0b5",
   "metadata": {},
   "outputs": [],
   "source": [
    "# Mais attention, il faut que la variable soit convertible.\n",
    "nom_nombre = '1IFPERA'\n",
    "#int(nom_nombre) # Ceci va nous envoyer un message d'erreur"
   ]
  },
  {
   "cell_type": "markdown",
   "id": "c5908514",
   "metadata": {},
   "source": [
    "#### En resumé, on peut passer d'un type de variable à l'autre. "
   ]
  },
  {
   "cell_type": "markdown",
   "id": "cf68fb6b",
   "metadata": {},
   "source": [
    "<font color=\"#009999\"><h3>4. Structures des données de base</h3></font>"
   ]
  },
  {
   "cell_type": "markdown",
   "id": "05b1cced",
   "metadata": {},
   "source": [
    "### Les listes, les tuples, les dictionnaires et les chainnes"
   ]
  },
  {
   "cell_type": "code",
   "execution_count": 6,
   "id": "90504941",
   "metadata": {},
   "outputs": [
    {
     "name": "stdout",
     "output_type": "stream",
     "text": [
      "Exemple de liste\n",
      "['Yaoundé', 'Douala', 'Bamenda', 'Bafoussam', 'Garoua']\n",
      "Exemple de tuple\n",
      "('Chiens', 'Chats', 'Lions', 'Poules', 'Poissons')\n",
      "IFPERA\n",
      "Exemple de dictionnaire\n",
      "{'Yaoundé': 'Polymer', 'Douala': 'Laquintinie', 'Bamenda': 'Chomba', 'Garoua': 'Takasko', 'Buea': 'Asha'}\n"
     ]
    }
   ],
   "source": [
    "# Créer une liste de cinq villes du Cameroun\n",
    "villes = ['Yaoundé', 'Douala', 'Bamenda', 'Bafoussam', 'Garoua']\n",
    "print('Exemple de liste')\n",
    "print(villes)\n",
    "\n",
    "# Créer un tuple des animaux\n",
    "animaux = ('Chiens', 'Chats', 'Lions', 'Poules', 'Poissons')\n",
    "print('Exemple de tuple') \n",
    "print(animaux)\n",
    "\n",
    "# Créer la chaine IFPERA\n",
    "Ecole = \"IFPERA\"\n",
    "print(Ecole)\n",
    "\n",
    "# Créer un dictionnaire des hopitaux camerounais avec leurs villes\n",
    "hopitaux = {\n",
    "    \"Yaoundé\": \"Polymer\",\n",
    "    \"Douala\": \"Laquintinie\",\n",
    "    \"Bamenda\": \"Chomba\",\n",
    "    \"Garoua\": \"Takasko\",\n",
    "    \"Buea\": \"Asha\"\n",
    "    }\n",
    "print('Exemple de dictionnaire')\n",
    "print(hopitaux)"
   ]
  },
  {
   "cell_type": "markdown",
   "id": "42027786",
   "metadata": {},
   "source": [
    "### Manipualation des structures des données"
   ]
  },
  {
   "cell_type": "code",
   "execution_count": 7,
   "id": "b005ebcc",
   "metadata": {},
   "outputs": [
    {
     "name": "stdout",
     "output_type": "stream",
     "text": [
      "E\n",
      "('Chiens', 'Lions', 'Poissons')\n",
      "['Yaoundé', 'Kribi', 'Bamenda', 'Bafoussam', 'Garoua']\n",
      "['Yaoundé', 'Bafoussam', 'Garoua']\n"
     ]
    }
   ],
   "source": [
    "# Indexation d'une chaîne de caractères\n",
    "Ecole = \"IFPERA\"\n",
    "print(Ecole[3])  # Accéder à la quatrième lettre de la chainne IFPERA\n",
    "\n",
    "# Slicing d'une liste\n",
    "print(animaux[::2])  # Accéder aux élément de du tuple animaux villes avec un pas de 2\n",
    "\n",
    "# Remplacer Douala par Kribi dans la liste villes\n",
    "villes[1] = 'Kribi'\n",
    "print(villes)  \n",
    "\n",
    "# Suppression d'une sous-liste en utilisant le slicing\n",
    "villes[1:3] = []\n",
    "print(villes)  # Supprimer la sous liste ['Kibi', 'Bamenda']"
   ]
  },
  {
   "cell_type": "markdown",
   "id": "b3197c9f",
   "metadata": {},
   "source": [
    "#### On peut aussi passer d'une structure de données à l'autre"
   ]
  },
  {
   "cell_type": "code",
   "execution_count": 8,
   "id": "bc34ba32",
   "metadata": {},
   "outputs": [
    {
     "name": "stdout",
     "output_type": "stream",
     "text": [
      "('Yaoundé', 'Bafoussam', 'Garoua')\n",
      "['Polymer', 'Laquintinie', 'Chomba', 'Takasko', 'Asha']\n"
     ]
    }
   ],
   "source": [
    "# Convertir le tuple animaux en liste\n",
    "tuple_villes = tuple(villes)\n",
    "print(tuple_villes)\n",
    "\n",
    "# Convertir le dictionnaire des hopitaux en liste des valeurs\n",
    "liste_valeurs_hopiaux = list(hopitaux.values())\n",
    "print(liste_valeurs_hopiaux)  "
   ]
  },
  {
   "cell_type": "markdown",
   "id": "1d22df8c",
   "metadata": {},
   "source": [
    "<font color=\"#009999\"><h3>3. Structure de contrôle</h3></font>"
   ]
  },
  {
   "cell_type": "markdown",
   "id": "02b278a2",
   "metadata": {},
   "source": [
    "### Condition (Si)"
   ]
  },
  {
   "cell_type": "code",
   "execution_count": 9,
   "id": "0cfb2799",
   "metadata": {},
   "outputs": [
    {
     "name": "stdout",
     "output_type": "stream",
     "text": [
      "Vous êtes adulte.\n"
     ]
    }
   ],
   "source": [
    "# La condition si \n",
    "age = 20\n",
    "\n",
    "if age < 18:\n",
    "    print(\"Vous êtes mineur.\")\n",
    "elif age < 65:\n",
    "    print(\"Vous êtes adulte.\")\n",
    "else:\n",
    "    print(\"Vous êtes senior.\")"
   ]
  },
  {
   "cell_type": "markdown",
   "id": "2b376709",
   "metadata": {},
   "source": [
    "### Les boucles (For)"
   ]
  },
  {
   "cell_type": "code",
   "execution_count": 10,
   "id": "746b51e0",
   "metadata": {},
   "outputs": [
    {
     "name": "stdout",
     "output_type": "stream",
     "text": [
      "5 premiers entiers positifs\n",
      "0\n",
      "1\n",
      "2\n",
      "3\n",
      "4\n",
      "parcourir un tuple de nombre\n",
      "0\n",
      "1\n",
      "2\n",
      "3\n"
     ]
    }
   ],
   "source": [
    "# Parcours de 0 à 4 \n",
    "# Afficher les 5 premiers entiers positifs\n",
    "print('5 premiers entiers positifs')\n",
    "for i in range(5):\n",
    "    print(i)\n",
    "    \n",
    "# Exemple de boucle for pour parcourir une tuple de nombres\n",
    "nombres = (0, 1, 2, 3)\n",
    "\n",
    "print('parcourir un tuple de nombre')\n",
    "for nombre in nombres:\n",
    "    print(nombre)"
   ]
  },
  {
   "cell_type": "markdown",
   "id": "910ed183",
   "metadata": {},
   "source": [
    "### Les boucles (For, While)"
   ]
  },
  {
   "cell_type": "code",
   "execution_count": 11,
   "id": "8bb95f2d",
   "metadata": {},
   "outputs": [
    {
     "name": "stdout",
     "output_type": "stream",
     "text": [
      "Compter de 18 à 20\n",
      "18\n",
      "19\n",
      "20\n",
      "Compter de 1 à -3\n",
      "1\n",
      "0\n",
      "-1\n",
      "-2\n",
      "-3\n"
     ]
    }
   ],
   "source": [
    "# Exemple de boucle while pour compter de 18 à 20\n",
    "i = 18\n",
    "\n",
    "print('Compter de 18 à 20')\n",
    "while i <= 20:\n",
    "    print(i)\n",
    "    i += 1  # Incrémente i de 1 à chaque itération\n",
    "\n",
    "\n",
    "# Exemple de boucle while pour compter de 1 à -3\n",
    "i = 1\n",
    "\n",
    "print('Compter de 1 à -3')\n",
    "while i > -4:\n",
    "    print(i)\n",
    "    i = i-1  # Décrémente i de -1 à chaque itération"
   ]
  },
  {
   "cell_type": "markdown",
   "id": "404d2b62",
   "metadata": {},
   "source": [
    "### Fonctions"
   ]
  },
  {
   "cell_type": "code",
   "execution_count": 12,
   "id": "f9d7f535",
   "metadata": {},
   "outputs": [
    {
     "data": {
      "text/plain": [
       "19"
      ]
     },
     "execution_count": 12,
     "metadata": {},
     "output_type": "execute_result"
    }
   ],
   "source": [
    "# Définir les fonctions mathématique (on utilise l'opérateur lambda)\n",
    "# Définir la fonctio f(x) = 2x^^2 + 3\n",
    "f = lambda x: 2*x**3 + 3\n",
    "f(2)"
   ]
  },
  {
   "cell_type": "code",
   "execution_count": 13,
   "id": "d0c74003",
   "metadata": {},
   "outputs": [
    {
     "name": "stdout",
     "output_type": "stream",
     "text": [
      "Votre imc est\n",
      "23.148148148148145 Kg/m2\n"
     ]
    }
   ],
   "source": [
    "# Calculer l'indice de masse corporelle d'une personne qui mesure 1.8 m et qui pèse 75 kg\n",
    "\n",
    "# Définir une fonction imc\n",
    "def imc(masse, taille):\n",
    "    imc = masse/taille**2\n",
    "    print(\"Votre imc est\")\n",
    "    print(imc, 'Kg/m2')\n",
    "\n",
    "# Calcul de l'indice de masse corporelle\n",
    "imc(masse = 75, taille = 1.8)"
   ]
  },
  {
   "cell_type": "markdown",
   "id": "f6daec71",
   "metadata": {},
   "source": [
    "### Les Méthodes de python"
   ]
  },
  {
   "cell_type": "code",
   "execution_count": 14,
   "id": "7f268a11",
   "metadata": {},
   "outputs": [
    {
     "name": "stdout",
     "output_type": "stream",
     "text": [
      "['Yaoundé', 'Bafoussam', 'Garoua', 'Bertoua']\n",
      "['Bafoussam', 'Bertoua', 'Garoua', 'Yaoundé']\n",
      "['Bafoussam', 'Limbe', 'Bertoua', 'Garoua', 'Yaoundé']\n"
     ]
    }
   ],
   "source": [
    "# Ajouter Bertoua à la fin de la liste Villes\n",
    "villes.append('Bertoua')\n",
    "print(villes)\n",
    "\n",
    "# Trier la liste villes\n",
    "villes.sort()\n",
    "print(villes)\n",
    "\n",
    "# Ajouter Limbe à la position 2\n",
    "villes.insert(1, 'Limbe')\n",
    "print(villes)"
   ]
  },
  {
   "cell_type": "markdown",
   "id": "f1f11d11",
   "metadata": {},
   "source": [
    "<font color=\"#009999\"><h3>4. Introduction à la programmation orientée objet</h3></font>"
   ]
  },
  {
   "cell_type": "markdown",
   "id": "3dcfda2e",
   "metadata": {},
   "source": [
    "La P.O.O est un paradigme du monde de la programmation\n"
   ]
  },
  {
   "cell_type": "markdown",
   "id": "14b257b2",
   "metadata": {},
   "source": [
    "<font color=\"#009999\"><h3>5. Outils et installation de librairies</h3></font>"
   ]
  },
  {
   "cell_type": "markdown",
   "id": "2b243008",
   "metadata": {},
   "source": [
    "### Pour travailler dans python, nous pouvons installer Anaconda ou utiliser les interfaces en ligne: google colab ou kaggle."
   ]
  },
  {
   "cell_type": "markdown",
   "id": "7e7cb4fa",
   "metadata": {},
   "source": [
    "#### Ces utilitaires intègrent les outils qui vont nous permettre de saisir nos codes sans difficultés: ces outils sont les packages"
   ]
  },
  {
   "cell_type": "markdown",
   "id": "10c6eed4",
   "metadata": {},
   "source": [
    "### Intégration des librairies dans l'IDE"
   ]
  },
  {
   "cell_type": "markdown",
   "id": "d8cac4d5",
   "metadata": {},
   "source": [
    "Installer, désinstaller, lister, mettre à jour les packages: utiliser **pip**"
   ]
  },
  {
   "cell_type": "code",
   "execution_count": 15,
   "id": "28f7fa35",
   "metadata": {},
   "outputs": [],
   "source": [
    "# Exemple d'installation d'un package\n",
    "#pip install package"
   ]
  },
  {
   "cell_type": "markdown",
   "id": "8c3adc25",
   "metadata": {},
   "source": [
    "### Utilisation des Librairies"
   ]
  },
  {
   "cell_type": "code",
   "execution_count": 16,
   "id": "4570f009",
   "metadata": {},
   "outputs": [],
   "source": [
    "# Importation des packages\n",
    "#import nom_package as alias\n",
    "#import numpy as np\n",
    "\n",
    "# On peut importer seulement un module d'un packages\n",
    "#from package import module\n",
    "#Exemple\n",
    "#from scipy import stats\n",
    "\n",
    "# Importer une méthode d'un module\n",
    "# from package.module import méthode\n",
    "#from scipy.stats import norm"
   ]
  },
  {
   "cell_type": "markdown",
   "id": "1b003bda",
   "metadata": {},
   "source": [
    "<h2><font color=\"#009999\"><center>3. Les Bases des données</center></font></h2>"
   ]
  },
  {
   "cell_type": "markdown",
   "id": "61737668",
   "metadata": {},
   "source": [
    "#### Une base de données est une structure organisée qui stocke, gère et permet de manipuler des informations numériques ou catégorielles afin de faciliter l'analyse et la prise de décisions. "
   ]
  },
  {
   "cell_type": "markdown",
   "id": "1fc62299",
   "metadata": {},
   "source": [
    "### Importer une base de données."
   ]
  },
  {
   "cell_type": "markdown",
   "id": "58af08b8",
   "metadata": {},
   "source": [
    "<h2><font color=\"#009999\"><center>4. Développerun modeèle de Random Forest pour prédire le diagnostic de la tuberculose pleurale.</center></font></h2>\n"
   ]
  },
  {
   "cell_type": "markdown",
   "id": "5381b90b",
   "metadata": {},
   "source": [
    "#### # Importation des bibliothèques"
   ]
  },
  {
   "cell_type": "code",
   "execution_count": 52,
   "id": "c592ff71",
   "metadata": {},
   "outputs": [],
   "source": [
    "import pandas as pd\n",
    "import numpy as np\n",
    "import matplotlib.pyplot as plt\n",
    "import seaborn as sns\n",
    "%matplotlib inline\n",
    "\n",
    "from sklearn.compose import make_column_selector as selector\n",
    "from sklearn.pipeline import make_pipeline\n",
    "from sklearn.compose import make_column_transformer\n",
    "# On doit encoder les variables qualitatives en numérique[oui/non en 1/0] et pour certains algorithmes il\n",
    "# est nécessaire de normaliser les données\n",
    "\n",
    "from sklearn.model_selection import train_test_split\n",
    "from sklearn.preprocessing import OneHotEncoder\n",
    "from sklearn.preprocessing import LabelEncoder\n",
    "from sklearn.preprocessing import RobustScaler\n",
    "from sklearn.impute import SimpleImputer\n",
    "import category_encoders as ce\n",
    "\n",
    "# Construire les pipelines qui vont permettre de faire les transformations succèssives de chaque type de variables\n",
    "from sklearn.pipeline import Pipeline\n",
    "\n",
    "from sklearn.neural_network import MLPClassifier\n",
    "from sklearn.ensemble import RandomForestClassifier\n",
    "\n",
    "# randomised search CV\n",
    "from sklearn.model_selection import RandomizedSearchCV, cross_val_score\n",
    "\n",
    "from sklearn.metrics import confusion_matrix, accuracy_score, roc_curve, roc_auc_score\n",
    "from sklearn.metrics import classification_report"
   ]
  },
  {
   "cell_type": "code",
   "execution_count": 18,
   "id": "d20c53c2",
   "metadata": {},
   "outputs": [],
   "source": [
    "import warnings\n",
    "warnings.filterwarnings('ignore')"
   ]
  },
  {
   "cell_type": "markdown",
   "id": "489b816d",
   "metadata": {},
   "source": [
    "#### Importation de la base des données"
   ]
  },
  {
   "cell_type": "code",
   "execution_count": 19,
   "id": "9f9d03e8",
   "metadata": {},
   "outputs": [
    {
     "name": "stdout",
     "output_type": "stream",
     "text": [
      "(240, 10)\n"
     ]
    }
   ],
   "source": [
    "df = pd.read_csv(\"https://raw.githubusercontent.com/pefura/IFPERA/main/base_pleuresie.csv\", sep=';')\n",
    "print(df.shape)"
   ]
  },
  {
   "cell_type": "markdown",
   "id": "301a7d76",
   "metadata": {},
   "source": [
    "Notre base à 240 lignes et 10 variables"
   ]
  },
  {
   "cell_type": "code",
   "execution_count": 20,
   "id": "9b10a600",
   "metadata": {},
   "outputs": [],
   "source": [
    "data = df"
   ]
  },
  {
   "cell_type": "code",
   "execution_count": 21,
   "id": "5d967824",
   "metadata": {},
   "outputs": [],
   "source": [
    "df = df.drop(columns = ['LDHpleurale','CRPpleurale',  'glucosepleural'])# Réduire les variable, aucun interèt mais pour le tutto"
   ]
  },
  {
   "cell_type": "markdown",
   "id": "b41ca942",
   "metadata": {},
   "source": [
    "## Exploration Data Analysis"
   ]
  },
  {
   "cell_type": "markdown",
   "id": "d12faadd",
   "metadata": {},
   "source": [
    "#### Dans cette section, nous devons comprendre nos données.\n",
    "##### Vue générale\n",
    "##### Créer des hypothèses\n",
    "##### Données de visualisation"
   ]
  },
  {
   "cell_type": "code",
   "execution_count": 22,
   "id": "f6b74d5d",
   "metadata": {},
   "outputs": [
    {
     "data": {
      "text/plain": [
       "Index(['Ageanne', 'Sexe', 'Vih', 'Poids', 'Taille', 'proteinespleurales',\n",
       "       'TbPleu'],\n",
       "      dtype='object')"
      ]
     },
     "execution_count": 22,
     "metadata": {},
     "output_type": "execute_result"
    }
   ],
   "source": [
    "# Liste de variables de df\n",
    "df.columns"
   ]
  },
  {
   "cell_type": "code",
   "execution_count": 23,
   "id": "82448b31",
   "metadata": {},
   "outputs": [
    {
     "data": {
      "text/plain": [
       "(240, 7)"
      ]
     },
     "execution_count": 23,
     "metadata": {},
     "output_type": "execute_result"
    }
   ],
   "source": [
    "df.shape"
   ]
  },
  {
   "cell_type": "code",
   "execution_count": 24,
   "id": "14d81f6f",
   "metadata": {},
   "outputs": [
    {
     "data": {
      "text/html": [
       "<div>\n",
       "<style scoped>\n",
       "    .dataframe tbody tr th:only-of-type {\n",
       "        vertical-align: middle;\n",
       "    }\n",
       "\n",
       "    .dataframe tbody tr th {\n",
       "        vertical-align: top;\n",
       "    }\n",
       "\n",
       "    .dataframe thead th {\n",
       "        text-align: right;\n",
       "    }\n",
       "</style>\n",
       "<table border=\"1\" class=\"dataframe\">\n",
       "  <thead>\n",
       "    <tr style=\"text-align: right;\">\n",
       "      <th></th>\n",
       "      <th>Ageanne</th>\n",
       "      <th>Sexe</th>\n",
       "      <th>Vih</th>\n",
       "      <th>Poids</th>\n",
       "      <th>Taille</th>\n",
       "      <th>proteinespleurales</th>\n",
       "      <th>TbPleu</th>\n",
       "    </tr>\n",
       "  </thead>\n",
       "  <tbody>\n",
       "    <tr>\n",
       "      <th>0</th>\n",
       "      <td>51</td>\n",
       "      <td>2</td>\n",
       "      <td>1</td>\n",
       "      <td>40</td>\n",
       "      <td>1,53</td>\n",
       "      <td>44,3</td>\n",
       "      <td>1</td>\n",
       "    </tr>\n",
       "    <tr>\n",
       "      <th>1</th>\n",
       "      <td>67</td>\n",
       "      <td>2</td>\n",
       "      <td>0</td>\n",
       "      <td>40</td>\n",
       "      <td>1,66</td>\n",
       "      <td>47,5</td>\n",
       "      <td>1</td>\n",
       "    </tr>\n",
       "  </tbody>\n",
       "</table>\n",
       "</div>"
      ],
      "text/plain": [
       "   Ageanne  Sexe  Vih Poids Taille proteinespleurales  TbPleu\n",
       "0       51     2    1    40   1,53               44,3       1\n",
       "1       67     2    0    40   1,66               47,5       1"
      ]
     },
     "execution_count": 24,
     "metadata": {},
     "output_type": "execute_result"
    }
   ],
   "source": [
    "df.head(2)"
   ]
  },
  {
   "cell_type": "code",
   "execution_count": 25,
   "id": "95645e43",
   "metadata": {},
   "outputs": [
    {
     "data": {
      "text/plain": [
       "Ageanne                int64\n",
       "Sexe                   int64\n",
       "Vih                    int64\n",
       "Poids                 object\n",
       "Taille                object\n",
       "proteinespleurales    object\n",
       "TbPleu                 int64\n",
       "dtype: object"
      ]
     },
     "execution_count": 25,
     "metadata": {},
     "output_type": "execute_result"
    }
   ],
   "source": [
    "# Vue générale\n",
    "df.dtypes"
   ]
  },
  {
   "cell_type": "code",
   "execution_count": 26,
   "id": "ff47b9cc",
   "metadata": {},
   "outputs": [
    {
     "data": {
      "text/plain": [
       "Index(['Ageanne', 'Sexe', 'Vih', 'Poids', 'Taille', 'proteinespleurales',\n",
       "       'TbPleu'],\n",
       "      dtype='object')"
      ]
     },
     "execution_count": 26,
     "metadata": {},
     "output_type": "execute_result"
    }
   ],
   "source": [
    "# liste des variables de la base\n",
    "df.columns"
   ]
  },
  {
   "cell_type": "code",
   "execution_count": 27,
   "id": "83420c38",
   "metadata": {},
   "outputs": [
    {
     "data": {
      "text/plain": [
       "Ageanne               0\n",
       "Sexe                  0\n",
       "Vih                   0\n",
       "Poids                 0\n",
       "Taille                0\n",
       "proteinespleurales    0\n",
       "TbPleu                0\n",
       "dtype: int64"
      ]
     },
     "execution_count": 27,
     "metadata": {},
     "output_type": "execute_result"
    }
   ],
   "source": [
    "# vérification des valeurs manquantes\n",
    "df.isnull().sum()"
   ]
  },
  {
   "cell_type": "markdown",
   "id": "1ec4841b",
   "metadata": {},
   "source": [
    "####  Notre base n'a aucune donnée manquante"
   ]
  },
  {
   "cell_type": "code",
   "execution_count": 28,
   "id": "908f2010",
   "metadata": {},
   "outputs": [
    {
     "name": "stdout",
     "output_type": "stream",
     "text": [
      "Sexe\n",
      "1    0.579167\n",
      "2    0.420833\n",
      "Name: proportion, dtype: float64\n",
      "Vih\n",
      "0    0.725\n",
      "1    0.275\n",
      "Name: proportion, dtype: float64\n",
      "TbPleu\n",
      "1    0.670833\n",
      "0    0.329167\n",
      "Name: proportion, dtype: float64\n"
     ]
    }
   ],
   "source": [
    "# Analyve univariée du sexe et de sérologie vih\n",
    "col_names = ['Sexe', 'Vih', 'TbPleu']\n",
    "\n",
    "\n",
    "for col in col_names:\n",
    "    \n",
    "    print(df[col].value_counts(normalize = True)) "
   ]
  },
  {
   "cell_type": "code",
   "execution_count": 29,
   "id": "e4152664",
   "metadata": {},
   "outputs": [
    {
     "data": {
      "text/html": [
       "<div>\n",
       "<style scoped>\n",
       "    .dataframe tbody tr th:only-of-type {\n",
       "        vertical-align: middle;\n",
       "    }\n",
       "\n",
       "    .dataframe tbody tr th {\n",
       "        vertical-align: top;\n",
       "    }\n",
       "\n",
       "    .dataframe thead th {\n",
       "        text-align: right;\n",
       "    }\n",
       "</style>\n",
       "<table border=\"1\" class=\"dataframe\">\n",
       "  <thead>\n",
       "    <tr style=\"text-align: right;\">\n",
       "      <th></th>\n",
       "      <th>Ageanne</th>\n",
       "      <th>Sexe</th>\n",
       "      <th>Vih</th>\n",
       "      <th>TbPleu</th>\n",
       "    </tr>\n",
       "  </thead>\n",
       "  <tbody>\n",
       "    <tr>\n",
       "      <th>count</th>\n",
       "      <td>240.000000</td>\n",
       "      <td>240.000000</td>\n",
       "      <td>240.000000</td>\n",
       "      <td>240.000000</td>\n",
       "    </tr>\n",
       "    <tr>\n",
       "      <th>mean</th>\n",
       "      <td>46.316667</td>\n",
       "      <td>1.420833</td>\n",
       "      <td>0.275000</td>\n",
       "      <td>0.670833</td>\n",
       "    </tr>\n",
       "    <tr>\n",
       "      <th>std</th>\n",
       "      <td>16.726189</td>\n",
       "      <td>0.494725</td>\n",
       "      <td>0.447447</td>\n",
       "      <td>0.470893</td>\n",
       "    </tr>\n",
       "    <tr>\n",
       "      <th>min</th>\n",
       "      <td>16.000000</td>\n",
       "      <td>1.000000</td>\n",
       "      <td>0.000000</td>\n",
       "      <td>0.000000</td>\n",
       "    </tr>\n",
       "    <tr>\n",
       "      <th>25%</th>\n",
       "      <td>33.000000</td>\n",
       "      <td>1.000000</td>\n",
       "      <td>0.000000</td>\n",
       "      <td>0.000000</td>\n",
       "    </tr>\n",
       "    <tr>\n",
       "      <th>50%</th>\n",
       "      <td>46.000000</td>\n",
       "      <td>1.000000</td>\n",
       "      <td>0.000000</td>\n",
       "      <td>1.000000</td>\n",
       "    </tr>\n",
       "    <tr>\n",
       "      <th>75%</th>\n",
       "      <td>58.000000</td>\n",
       "      <td>2.000000</td>\n",
       "      <td>1.000000</td>\n",
       "      <td>1.000000</td>\n",
       "    </tr>\n",
       "    <tr>\n",
       "      <th>max</th>\n",
       "      <td>94.000000</td>\n",
       "      <td>2.000000</td>\n",
       "      <td>1.000000</td>\n",
       "      <td>1.000000</td>\n",
       "    </tr>\n",
       "  </tbody>\n",
       "</table>\n",
       "</div>"
      ],
      "text/plain": [
       "          Ageanne        Sexe         Vih      TbPleu\n",
       "count  240.000000  240.000000  240.000000  240.000000\n",
       "mean    46.316667    1.420833    0.275000    0.670833\n",
       "std     16.726189    0.494725    0.447447    0.470893\n",
       "min     16.000000    1.000000    0.000000    0.000000\n",
       "25%     33.000000    1.000000    0.000000    0.000000\n",
       "50%     46.000000    1.000000    0.000000    1.000000\n",
       "75%     58.000000    2.000000    1.000000    1.000000\n",
       "max     94.000000    2.000000    1.000000    1.000000"
      ]
     },
     "execution_count": 29,
     "metadata": {},
     "output_type": "execute_result"
    }
   ],
   "source": [
    "# description des données de la table\n",
    "df.describe()"
   ]
  },
  {
   "cell_type": "markdown",
   "id": "9f4d8d2d",
   "metadata": {},
   "source": [
    "### Visualisation des données et création des hypothèses"
   ]
  },
  {
   "cell_type": "code",
   "execution_count": 30,
   "id": "395a507a",
   "metadata": {},
   "outputs": [
    {
     "data": {
      "text/plain": [
       "<seaborn.axisgrid.FacetGrid at 0x28f54ff2a50>"
      ]
     },
     "execution_count": 30,
     "metadata": {},
     "output_type": "execute_result"
    },
    {
     "data": {
      "image/png": "[encoded data removed]",
      "text/plain": [
       "<Figure size 500x500 with 1 Axes>"
      ]
     },
     "metadata": {},
     "output_type": "display_data"
    }
   ],
   "source": [
    "# Analyse bivariée entre le TbPleu et l'âge\n",
    "sns.catplot(x=\"TbPleu\", y=\"Ageanne\", kind=\"box\", data=df)"
   ]
  },
  {
   "cell_type": "code",
   "execution_count": 31,
   "id": "1361a692",
   "metadata": {},
   "outputs": [
    {
     "data": {
      "text/plain": [
       "<Axes: xlabel='Sexe', ylabel='TbPleu'>"
      ]
     },
     "execution_count": 31,
     "metadata": {},
     "output_type": "execute_result"
    },
    {
     "data": {
      "image/png": "[encoded data removed]",
      "text/plain": [
       "<Figure size 640x480 with 1 Axes>"
      ]
     },
     "metadata": {},
     "output_type": "display_data"
    }
   ],
   "source": [
    "# Analyse bivarié entre le essoufflement et la chance de sexe\n",
    "sns.barplot(x='Sexe', y='TbPleu', data=df,)"
   ]
  },
  {
   "cell_type": "code",
   "execution_count": 32,
   "id": "e1f9049e",
   "metadata": {},
   "outputs": [
    {
     "data": {
      "text/plain": [
       "<Axes: xlabel='Vih', ylabel='TbPleu'>"
      ]
     },
     "execution_count": 32,
     "metadata": {},
     "output_type": "execute_result"
    },
    {
     "data": {
      "image/png": "[encoded data removed]",
      "text/plain": [
       "<Figure size 640x480 with 1 Axes>"
      ]
     },
     "metadata": {},
     "output_type": "display_data"
    }
   ],
   "source": [
    "# Visualisation de la relation entre la l'essoufflement et le niveau d'éducation\n",
    "sns.barplot(x='Vih', y='TbPleu', data=df,)"
   ]
  },
  {
   "cell_type": "raw",
   "id": "f510b1cb",
   "metadata": {},
   "source": [
    "D'accord, nous pouvons commencer à croire que\n",
    "\n",
    "Qu'il y a une liaison entre age et TbPleu"
   ]
  },
  {
   "cell_type": "markdown",
   "id": "241ef17d",
   "metadata": {},
   "source": [
    "##### Avec les hypothèses expliquées ci-dessus, nous pouvons supprimer certaines données"
   ]
  },
  {
   "cell_type": "markdown",
   "id": "ae56b1f4",
   "metadata": {},
   "source": [
    "### Corriger les types de variables"
   ]
  },
  {
   "cell_type": "code",
   "execution_count": 33,
   "id": "9b9c31c4",
   "metadata": {},
   "outputs": [
    {
     "name": "stdout",
     "output_type": "stream",
     "text": [
      "   Ageanne  Sexe  Vih  Poids  Taille  proteinespleurales  TbPleu\n",
      "0     51.0     2    1   40.0    1.53                44.3       1\n",
      "1     67.0     2    0   40.0    1.66                47.5       1\n",
      "2     42.0     1    0   44.0    1.72                38.0       1\n"
     ]
    }
   ],
   "source": [
    "# Convertir toutes les variables numériques en float\n",
    "def convertir_colonne_en_float(data, colonne):\n",
    "    data[colonne] = data[colonne].astype(str)\n",
    "    data[colonne] = data[colonne].str.replace(\",\", \".\")\n",
    "    data[colonne] = data[colonne].astype(float)\n",
    "\n",
    "# Exemple d'utilisation\n",
    "data = df\n",
    "\n",
    "colonnes_a_convertir = [\"Poids\", \"Taille\", \"proteinespleurales\", \"Ageanne\"]\n",
    "\n",
    "for colonne in colonnes_a_convertir:\n",
    "    convertir_colonne_en_float(data, colonne)\n",
    "\n",
    "print(data.head(3))"
   ]
  },
  {
   "cell_type": "code",
   "execution_count": 34,
   "id": "cedf60a4",
   "metadata": {},
   "outputs": [],
   "source": [
    "# Convertir toutes les variables catégorielles en category\n",
    "# Nettoyer les noms de colonnes pour enlever les espaces inutiles\n",
    "df.columns = df.columns.str.strip()\n",
    "\n",
    "# Puis effectuer la conversion\n",
    "df[['Sexe', 'Vih', 'TbPleu']] = df[['Sexe', 'Vih', 'TbPleu']].astype('category')"
   ]
  },
  {
   "cell_type": "code",
   "execution_count": 35,
   "id": "65c2ed7b",
   "metadata": {},
   "outputs": [],
   "source": [
    "# Renommer la colonne 'Ageanne' en 'Age'\n",
    "df = df.rename(columns={'Ageanne': 'Age'})"
   ]
  },
  {
   "cell_type": "code",
   "execution_count": 36,
   "id": "61b6e928",
   "metadata": {},
   "outputs": [
    {
     "data": {
      "text/plain": [
       "Age                    float64\n",
       "Sexe                  category\n",
       "Vih                   category\n",
       "Poids                  float64\n",
       "Taille                 float64\n",
       "proteinespleurales     float64\n",
       "TbPleu                category\n",
       "dtype: object"
      ]
     },
     "execution_count": 36,
     "metadata": {},
     "output_type": "execute_result"
    }
   ],
   "source": [
    "df.dtypes"
   ]
  },
  {
   "cell_type": "code",
   "execution_count": 37,
   "id": "1ab1eff7",
   "metadata": {},
   "outputs": [
    {
     "data": {
      "text/html": [
       "<div>\n",
       "<style scoped>\n",
       "    .dataframe tbody tr th:only-of-type {\n",
       "        vertical-align: middle;\n",
       "    }\n",
       "\n",
       "    .dataframe tbody tr th {\n",
       "        vertical-align: top;\n",
       "    }\n",
       "\n",
       "    .dataframe thead th {\n",
       "        text-align: right;\n",
       "    }\n",
       "</style>\n",
       "<table border=\"1\" class=\"dataframe\">\n",
       "  <thead>\n",
       "    <tr style=\"text-align: right;\">\n",
       "      <th></th>\n",
       "      <th>Age</th>\n",
       "      <th>Sexe</th>\n",
       "      <th>Vih</th>\n",
       "      <th>proteinespleurales</th>\n",
       "      <th>TbPleu</th>\n",
       "      <th>imc</th>\n",
       "    </tr>\n",
       "  </thead>\n",
       "  <tbody>\n",
       "    <tr>\n",
       "      <th>0</th>\n",
       "      <td>51.0</td>\n",
       "      <td>2</td>\n",
       "      <td>1</td>\n",
       "      <td>44.3</td>\n",
       "      <td>1</td>\n",
       "      <td>17.09</td>\n",
       "    </tr>\n",
       "    <tr>\n",
       "      <th>1</th>\n",
       "      <td>67.0</td>\n",
       "      <td>2</td>\n",
       "      <td>0</td>\n",
       "      <td>47.5</td>\n",
       "      <td>1</td>\n",
       "      <td>14.52</td>\n",
       "    </tr>\n",
       "    <tr>\n",
       "      <th>2</th>\n",
       "      <td>42.0</td>\n",
       "      <td>1</td>\n",
       "      <td>0</td>\n",
       "      <td>38.0</td>\n",
       "      <td>1</td>\n",
       "      <td>14.87</td>\n",
       "    </tr>\n",
       "  </tbody>\n",
       "</table>\n",
       "</div>"
      ],
      "text/plain": [
       "    Age Sexe Vih  proteinespleurales TbPleu    imc\n",
       "0  51.0    2   1                44.3      1  17.09\n",
       "1  67.0    2   0                47.5      1  14.52\n",
       "2  42.0    1   0                38.0      1  14.87"
      ]
     },
     "execution_count": 37,
     "metadata": {},
     "output_type": "execute_result"
    }
   ],
   "source": [
    "# Remplacer les colonnes poids et tailles par l'imc\n",
    "df['imc'] = (df['Poids']/data['Taille']**2).round(2)\n",
    "df = df.drop(columns=['Poids','Taille'])\n",
    "df.head(3)"
   ]
  },
  {
   "cell_type": "code",
   "execution_count": 38,
   "id": "b0c1055e",
   "metadata": {},
   "outputs": [
    {
     "name": "stdout",
     "output_type": "stream",
     "text": [
      "X shape: (240, 5)\n",
      "y shape: (240,)\n"
     ]
    }
   ],
   "source": [
    "# Definir les target(y) et les features (X)\n",
    "X = df.drop(['TbPleu'], axis=1)\n",
    "y = df['TbPleu']\n",
    "\n",
    "print(\"X shape:\", X.shape)\n",
    "print(\"y shape:\", y.shape)"
   ]
  },
  {
   "cell_type": "code",
   "execution_count": 41,
   "id": "71ed5b6a",
   "metadata": {},
   "outputs": [
    {
     "name": "stdout",
     "output_type": "stream",
     "text": [
      "(192, 5)\n"
     ]
    },
    {
     "data": {
      "text/plain": [
       "66     0\n",
       "165    1\n",
       "38     0\n",
       "Name: TbPleu, dtype: category\n",
       "Categories (2, int64): [0, 1]"
      ]
     },
     "execution_count": 41,
     "metadata": {},
     "output_type": "execute_result"
    }
   ],
   "source": [
    "# Diviser la base en train et test sets\n",
    "\n",
    "X_train, X_test, y_train, y_test = train_test_split(X, y, test_size = 0.20, random_state = 42)\n",
    "print(X_train.shape)\n",
    "y_test.tail(3)"
   ]
  },
  {
   "cell_type": "code",
   "execution_count": 42,
   "id": "265c2d84",
   "metadata": {},
   "outputs": [
    {
     "name": "stdout",
     "output_type": "stream",
     "text": [
      "RandomForestClassifier(random_state=0)\n",
      "MLPClassifier(random_state=0)\n"
     ]
    }
   ],
   "source": [
    "# Instancier un Random Forest \n",
    "rfc = RandomForestClassifier(random_state=0)\n",
    "\n",
    "# Entrainement du modèle rfc\n",
    "print(rfc.fit(X_train, y_train))\n",
    "\n",
    "# Instantier un Réseau de neurones Artifficiel\n",
    "mlp = MLPClassifier(random_state=0)\n",
    "\n",
    "# Entrainement du modèle gbc\n",
    "print(mlp.fit(X_train, y_train))"
   ]
  },
  {
   "cell_type": "code",
   "execution_count": 45,
   "id": "c1dfe897",
   "metadata": {},
   "outputs": [
    {
     "name": "stdout",
     "output_type": "stream",
     "text": [
      "Model accuracy score with Random forest : 0.7083\n"
     ]
    }
   ],
   "source": [
    "# faire une les prédictions pour le Random forest\n",
    "y_pred = rfc.predict(X_test)\n",
    "\n",
    "# Vérifier l'exactitude du modèle\n",
    "print('Model accuracy score with Random forest : {0:0.4f}'. format(accuracy_score(y_test, y_pred)))"
   ]
  },
  {
   "cell_type": "markdown",
   "id": "2418d78f",
   "metadata": {},
   "source": [
    "#### Le pourcentage de prédiction correct de notre modèle est de 70.83%"
   ]
  },
  {
   "cell_type": "code",
   "execution_count": 46,
   "id": "095ab4e9",
   "metadata": {},
   "outputs": [
    {
     "name": "stdout",
     "output_type": "stream",
     "text": [
      "Model accuracy score with Réseau de neurones : 0.7708\n"
     ]
    }
   ],
   "source": [
    "# faire une les prédictions pour le Réseau de neurones\n",
    "y_pred_1 = mlp.predict(X_test)\n",
    "\n",
    "# Vérifier l'exactitude du modèle\n",
    "print('Model accuracy score with Réseau de neurones : {0:0.4f}'. format(accuracy_score(y_test, y_pred_1)))"
   ]
  },
  {
   "cell_type": "markdown",
   "id": "8684a102",
   "metadata": {},
   "source": [
    "#### Le pourcentage de prédiction correct de notre modèle est de 77.083% le mlp est plus performant que le rfc"
   ]
  },
  {
   "cell_type": "code",
   "execution_count": 47,
   "id": "000c5627",
   "metadata": {},
   "outputs": [
    {
     "name": "stdout",
     "output_type": "stream",
     "text": [
      "Confusion matrix\n",
      "\n",
      " [[ 5 11]\n",
      " [ 3 29]]\n"
     ]
    }
   ],
   "source": [
    "# Matrice de confusion\n",
    "cm = confusion_matrix(y_test, y_pred)\n",
    "\n",
    "print('Confusion matrix\\n\\n', cm)"
   ]
  },
  {
   "cell_type": "code",
   "execution_count": 48,
   "id": "a3aabab0",
   "metadata": {},
   "outputs": [
    {
     "name": "stdout",
     "output_type": "stream",
     "text": [
      "              precision    recall  f1-score   support\n",
      "\n",
      "           0       0.62      0.31      0.42        16\n",
      "           1       0.72      0.91      0.81        32\n",
      "\n",
      "    accuracy                           0.71        48\n",
      "   macro avg       0.68      0.61      0.61        48\n",
      "weighted avg       0.69      0.71      0.68        48\n",
      "\n"
     ]
    }
   ],
   "source": [
    "# Rapport de classification\n",
    "print(classification_report(y_test, y_pred))"
   ]
  },
  {
   "cell_type": "markdown",
   "id": "8bd01407",
   "metadata": {},
   "source": [
    "### Courbe de roc_auc"
   ]
  },
  {
   "cell_type": "code",
   "execution_count": 53,
   "id": "a591c578",
   "metadata": {},
   "outputs": [
    {
     "data": {
      "image/png": "[encoded data removed]",
      "text/plain": [
       "<Figure size 800x600 with 1 Axes>"
      ]
     },
     "metadata": {},
     "output_type": "display_data"
    }
   ],
   "source": [
    "# Supposons que vous avez un modèle (par exemple, 'rfc') déjà ajusté et les données 'X' et 'y'.\n",
    "# Diviser les données en ensembles d'entraînement et de test\n",
    "X_train, X_test, y_train, y_test = train_test_split(X, y, test_size=0.2, random_state=0)\n",
    "\n",
    "# Prédire les probabilités pour l'ensemble de test\n",
    "# Utilisez la méthode 'predict_proba' qui retourne la probabilité d'appartenance à chaque classe\n",
    "y_probs = mlp.predict_proba(X_test)[:, 1]  # Prendre les probabilités de la classe positive\n",
    "\n",
    "# Calculer la courbe ROC\n",
    "fpr, tpr, thresholds = roc_curve(y_test, y_probs)\n",
    "\n",
    "# Calculer l'aire sous la courbe (AUC)\n",
    "roc_auc = roc_auc_score(y_test, y_probs)\n",
    "\n",
    "# Tracer la courbe ROC\n",
    "plt.figure(figsize=(8, 6))\n",
    "plt.plot(fpr, tpr, color='blue', lw=2, label=f'ROC Curve (AUC = {roc_auc:.2f})')\n",
    "plt.plot([0, 1], [0, 1], color='red', linestyle='--')  # Ligne diagonale\n",
    "plt.title('Receiver Operating Characteristic (ROC) Curve')\n",
    "plt.xlabel('False Positive Rate')\n",
    "plt.ylabel('True Positive Rate')\n",
    "plt.legend(loc='lower right')\n",
    "plt.grid()\n",
    "plt.show()\n"
   ]
  }
 ],
 "metadata": {
  "kernelspec": {
   "display_name": "Python 3 (ipykernel)",
   "language": "python",
   "name": "python3"
  },
  "language_info": {
   "codemirror_mode": {
    "name": "ipython",
    "version": 3
   },
   "file_extension": ".py",
   "mimetype": "text/x-python",
   "name": "python",
   "nbconvert_exporter": "python",
   "pygments_lexer": "ipython3",
   "version": "3.11.5"
  }
 },
 "nbformat": 4,
 "nbformat_minor": 5
}
