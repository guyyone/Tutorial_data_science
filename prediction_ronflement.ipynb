{
 "cells": [
  {
   "cell_type": "code",
   "execution_count": 1,
   "id": "c5d38f42",
   "metadata": {},
   "outputs": [],
   "source": [
    "import pandas as pd\n",
    "import numpy as np\n",
    "import matplotlib as plt\n",
    "import seaborn as sns\n",
    "\n",
    "from sklearn.preprocessing import RobustScaler, StandardScaler, MinMaxScaler"
   ]
  },
  {
   "cell_type": "markdown",
   "id": "dad033d9",
   "metadata": {},
   "source": [
    "> **<h3><font color=\"#0000FF\">1. Compréhension du Projet et des Données</font></h3>**"
   ]
  },
  {
   "cell_type": "markdown",
   "id": "a1325baa",
   "metadata": {},
   "source": [
    "> **<font color=\"#0000FF\">a. Définition du Problème :</font>**"
   ]
  },
  {
   "cell_type": "raw",
   "id": "802cb6b1",
   "metadata": {},
   "source": [
    "Objectif : Développer un modèle de prédiction de ronflements.\n",
    "Contexte : Données collectées de manière transversale en population camerounaise entre 2014 et 2018.\n",
    "Échantillon : 6200 participants."
   ]
  },
  {
   "cell_type": "markdown",
   "id": "1363fec8",
   "metadata": {},
   "source": [
    "> **<font color=\"#0000FF\">b. Compréhension des Données ::</font>**"
   ]
  },
  {
   "cell_type": "raw",
   "id": "6163bf01",
   "metadata": {},
   "source": [
    "Variables : Identifier les variables disponibles (sexe, âge, poids, taille, tour de hanche,  tour de taille Ronflement).\n",
    "Cible : Déterminer la variable cible (présence ou absence de ronflements)."
   ]
  },
  {
   "cell_type": "markdown",
   "id": "7d1ebf0d",
   "metadata": {},
   "source": [
    "> **<h3><font color=\"#0000FF\">2. Préparation et 3. prétraitement des Données</font></h3>**"
   ]
  },
  {
   "cell_type": "code",
   "execution_count": 2,
   "id": "c56029a5",
   "metadata": {},
   "outputs": [],
   "source": [
    "# Charger les données\n",
    "\n",
    "url = 'https://raw.githubusercontent.com/pefura/IFPERA/main/Base_ronflements_IFPERA.csv'\n",
    "df = pd.read_csv(url, sep =';')"
   ]
  },
  {
   "cell_type": "code",
   "execution_count": 3,
   "id": "2dcac636",
   "metadata": {},
   "outputs": [
    {
     "name": "stdout",
     "output_type": "stream",
     "text": [
      "Informations initiales sur les colonnes :\n",
      "              sexe          age  Ronflements\n",
      "count  6186.000000  6186.000000  6186.000000\n",
      "mean      1.539929    42.807792     0.275299\n",
      "std       0.498443    17.341743     0.446701\n",
      "min       1.000000    19.000000     0.000000\n",
      "25%       1.000000    27.000000     0.000000\n",
      "50%       2.000000    40.000000     0.000000\n",
      "75%       2.000000    56.000000     1.000000\n",
      "max       2.000000    98.000000     1.000000\n",
      "\n",
      "Valeurs manquantes avant imputation :\n",
      "sexe           0\n",
      "age            0\n",
      "poids          0\n",
      "taille         0\n",
      "tour_hanche    0\n",
      "tour_taille    0\n",
      "Ronflements    0\n",
      "dtype: int64\n",
      "\n",
      "Valeurs manquantes après imputation :\n",
      "sexe           0\n",
      "age            0\n",
      "poids          0\n",
      "taille         0\n",
      "tour_hanche    0\n",
      "tour_taille    0\n",
      "Ronflements    0\n",
      "dtype: int64\n",
      "\n",
      "Informations finales sur les colonnes :\n",
      "              sexe          age  tour_hanche  tour_taille  Ronflements  \\\n",
      "count  6186.000000  6186.000000  6186.000000  6186.000000  6186.000000   \n",
      "mean      1.539929     0.096820     0.117405     0.120049     0.275299   \n",
      "std       0.498443     0.597991     0.731899     0.718892     0.446701   \n",
      "min       1.000000    -0.724138    -1.866667    -1.562500     0.000000   \n",
      "25%       1.000000    -0.448276    -0.400000    -0.437500     0.000000   \n",
      "50%       2.000000     0.000000     0.000000     0.000000     0.000000   \n",
      "75%       2.000000     0.551724     0.600000     0.562500     1.000000   \n",
      "max       2.000000     2.000000     2.266667     2.187500     1.000000   \n",
      "\n",
      "               imc  \n",
      "count  6186.000000  \n",
      "mean      0.038695  \n",
      "std       0.733248  \n",
      "min      -1.526316  \n",
      "25%      -0.473684  \n",
      "50%       0.000000  \n",
      "75%       0.526316  \n",
      "max       2.157895  \n",
      "informations sur les variables de la base\n",
      "<class 'pandas.core.frame.DataFrame'>\n",
      "RangeIndex: 6186 entries, 0 to 6185\n",
      "Data columns (total 6 columns):\n",
      " #   Column       Non-Null Count  Dtype  \n",
      "---  ------       --------------  -----  \n",
      " 0   sexe         6186 non-null   int64  \n",
      " 1   age          6186 non-null   float64\n",
      " 2   tour_hanche  6186 non-null   float64\n",
      " 3   tour_taille  6186 non-null   float64\n",
      " 4   Ronflements  6186 non-null   int64  \n",
      " 5   imc          6186 non-null   float64\n",
      "dtypes: float64(4), int64(2)\n",
      "memory usage: 290.1 KB\n",
      "None\n",
      "\n",
      "DataFrame final :\n",
      "   sexe       age  tour_hanche  tour_taille  Ronflements       imc\n",
      "0     2  0.620690    -0.866667       0.0000            0 -0.263158\n",
      "1     2 -0.655172    -0.733333      -1.5625            0 -0.736842\n",
      "2     2  0.172414    -0.666667      -1.5000            0 -1.526316\n"
     ]
    }
   ],
   "source": [
    "# Afficher les informations initiales sur les colonnes\n",
    "print(\"Informations initiales sur les colonnes :\")\n",
    "print(df.describe())\n",
    "\n",
    "# Gestion des valeurs manquantes\n",
    "print(\"\\nValeurs manquantes avant imputation :\")\n",
    "print(df.isnull().sum())\n",
    "\n",
    "# Remplacer les valeurs manquantes (chaînes vides) par NaN\n",
    "df['poids'] = pd.to_numeric(df['poids'].replace('', np.nan), errors='coerce')\n",
    "df['taille'] = pd.to_numeric(df['taille'].replace('', np.nan), errors='coerce')\n",
    "df['tour_hanche'] = pd.to_numeric(df['tour_hanche'].replace('', np.nan), errors='coerce')\n",
    "df['tour_taille'] = pd.to_numeric(df['tour_taille'].replace('', np.nan), errors='coerce')\n",
    "df['age'] = pd.to_numeric(df['age'].replace('', np.nan), errors='coerce')\n",
    "\n",
    "# Imputation par la médiane pour les valeurs manquantes\n",
    "df['poids'].fillna(df['poids'].median(), inplace=True)\n",
    "df['taille'].fillna(df['taille'].median(), inplace=True)\n",
    "df['tour_hanche'].fillna(df['tour_hanche'].median(), inplace=True)\n",
    "df['tour_taille'].fillna(df['tour_taille'].median(), inplace=True)\n",
    "df['age'].fillna(df['age'].median(), inplace=True)\n",
    "\n",
    "print(\"\\nValeurs manquantes après imputation :\")\n",
    "print(df.isnull().sum())\n",
    "\n",
    "# Conversion des types de données\n",
    "df['poids'] = df['poids'].astype(float)\n",
    "df['taille'] = df['taille'].astype(float)\n",
    "df['tour_hanche'] = df['tour_hanche'].astype(float)\n",
    "df['tour_taille'] = df['tour_taille'].astype(float)\n",
    "df['age'] = df['age'].astype(float)\n",
    "\n",
    "# Calculer l'IMC directement dans le DataFrame\n",
    "df['imc'] = df['poids'] / (df['taille'] ** 2)\n",
    "\n",
    "# Suprimer les variables poids et tailles\n",
    "df = df.drop(columns=['poids', 'taille'])\n",
    "\n",
    "# Gestion des valeurs aberrantes\n",
    "# Détection des valeurs aberrantes avec la méthode IQR \n",
    "columns_to_check = ['imc', 'tour_hanche', 'tour_taille', 'age']\n",
    "\n",
    "for col in columns_to_check:\n",
    "    Q1 = df[col].quantile(0.25)\n",
    "    Q3 = df[col].quantile(0.75)\n",
    "    IQR = Q3 - Q1\n",
    "    lower_bound = Q1 - 1.5 * IQR\n",
    "    upper_bound = Q3 + 1.5 * IQR\n",
    "\n",
    "    # Remplacer les valeurs aberrantes par la médiane\n",
    "    median_value = df[col].median()\n",
    "    df[col] = np.where((df[col] < lower_bound) | (df[col] > upper_bound), median_value, df[col])\n",
    "\n",
    "\n",
    "# Normalisation des données avec RobustScaler\n",
    "scaler = RobustScaler()\n",
    "df[columns_to_check] = scaler.fit_transform(df[columns_to_check])\n",
    "\n",
    "\n",
    "# Afficher les informations finales sur les colonnes\n",
    "print(\"\\nInformations finales sur les colonnes :\")\n",
    "print(df.describe())\n",
    "\n",
    "print('informations sur les variables de la base')\n",
    "print(df.info())\n",
    "\n",
    "# Afficher le DataFrame final\n",
    "print(\"\\nDataFrame final :\")\n",
    "print(df.head(3))"
   ]
  },
  {
   "cell_type": "code",
   "execution_count": 4,
   "id": "469c7f4c",
   "metadata": {},
   "outputs": [
    {
     "data": {
      "text/html": [
       "<div>\n",
       "<style scoped>\n",
       "    .dataframe tbody tr th:only-of-type {\n",
       "        vertical-align: middle;\n",
       "    }\n",
       "\n",
       "    .dataframe tbody tr th {\n",
       "        vertical-align: top;\n",
       "    }\n",
       "\n",
       "    .dataframe thead th {\n",
       "        text-align: right;\n",
       "    }\n",
       "</style>\n",
       "<table border=\"1\" class=\"dataframe\">\n",
       "  <thead>\n",
       "    <tr style=\"text-align: right;\">\n",
       "      <th></th>\n",
       "      <th>sexe</th>\n",
       "      <th>age</th>\n",
       "      <th>tour_hanche</th>\n",
       "      <th>tour_taille</th>\n",
       "      <th>Ronflements</th>\n",
       "      <th>imc</th>\n",
       "    </tr>\n",
       "  </thead>\n",
       "  <tbody>\n",
       "    <tr>\n",
       "      <th>0</th>\n",
       "      <td>2</td>\n",
       "      <td>0.620690</td>\n",
       "      <td>-0.866667</td>\n",
       "      <td>0.0000</td>\n",
       "      <td>0</td>\n",
       "      <td>-0.263158</td>\n",
       "    </tr>\n",
       "    <tr>\n",
       "      <th>1</th>\n",
       "      <td>2</td>\n",
       "      <td>-0.655172</td>\n",
       "      <td>-0.733333</td>\n",
       "      <td>-1.5625</td>\n",
       "      <td>0</td>\n",
       "      <td>-0.736842</td>\n",
       "    </tr>\n",
       "  </tbody>\n",
       "</table>\n",
       "</div>"
      ],
      "text/plain": [
       "   sexe       age  tour_hanche  tour_taille  Ronflements       imc\n",
       "0     2  0.620690    -0.866667       0.0000            0 -0.263158\n",
       "1     2 -0.655172    -0.733333      -1.5625            0 -0.736842"
      ]
     },
     "execution_count": 4,
     "metadata": {},
     "output_type": "execute_result"
    }
   ],
   "source": [
    "df.head(2)"
   ]
  },
  {
   "cell_type": "markdown",
   "id": "92b71048",
   "metadata": {},
   "source": [
    "> **<h3><font color=\"#0000FF\">4. Encodage des Variables Catégorielles</font></h3>**"
   ]
  },
  {
   "cell_type": "code",
   "execution_count": 5,
   "id": "cc75fa92",
   "metadata": {},
   "outputs": [],
   "source": [
    "from sklearn.preprocessing import LabelEncoder\n",
    "\n",
    "label_encoder = LabelEncoder()\n",
    "df['Ronflements'] = label_encoder.fit_transform(df['Ronflements'])\n",
    "df['sexe'] = label_encoder.fit_transform(df['sexe'])"
   ]
  },
  {
   "cell_type": "markdown",
   "id": "fdec6e69",
   "metadata": {},
   "source": [
    "> **<h3><font color=\"#0000FF\"> 4. Developpement des modèles </font></h3>**"
   ]
  },
  {
   "cell_type": "code",
   "execution_count": 6,
   "id": "7825cf61",
   "metadata": {},
   "outputs": [],
   "source": [
    "import numpy as np\n",
    "import pandas as pd\n",
    "import matplotlib.pyplot as plt\n",
    "import seaborn as sns\n",
    "import warnings\n",
    "warnings.filterwarnings('ignore')\n",
    "import os\n",
    "\n",
    "from scipy import stats\n",
    "\n",
    "from sklearn import preprocessing\n",
    "\n",
    "from sklearn.compose import ColumnTransformer\n",
    "from sklearn.compose import make_column_selector\n",
    "\n",
    "from sklearn.ensemble import RandomForestClassifier\n",
    "from sklearn.neural_network import MLPClassifier\n",
    "\n",
    "\n",
    "from sklearn.model_selection import cross_validate\n",
    "from sklearn.model_selection import StratifiedKFold\n",
    "from sklearn.model_selection import RandomizedSearchCV\n",
    "\n",
    "\n",
    "from sklearn.metrics import make_scorer#, roc_auc_score\n",
    "from sklearn.metrics import precision_score, recall_score, roc_auc_score, roc_curve\n",
    "\n",
    "from sklearn.metrics import accuracy_score, classification_report, roc_curve, auc\n",
    "from tensorflow.keras.models import Sequential\n",
    "from tensorflow.keras.layers import Dense\n",
    "from tensorflow.keras.utils import to_categorical\n",
    "\n",
    "from sklearn.metrics import f1_score, confusion_matrix, classification_report, roc_auc_score\n",
    "from sklearn.model_selection import cross_val_score\n",
    "from sklearn.model_selection import learning_curve"
   ]
  },
  {
   "cell_type": "markdown",
   "id": "77e6213c",
   "metadata": {},
   "source": [
    "> **<font color=\"#0000FF\">a. Selection des prédicteurs et pertinents:</font>**"
   ]
  },
  {
   "cell_type": "markdown",
   "id": "c127dbfc",
   "metadata": {},
   "source": [
    "###### Nous allons exclure le sexe parmi les prédicteurs"
   ]
  },
  {
   "cell_type": "markdown",
   "id": "7acf35d1",
   "metadata": {},
   "source": [
    "> **<font color=\"#0000FF\">b. Selection des prédicteurs et de la variable réponse :</font>**"
   ]
  },
  {
   "cell_type": "code",
   "execution_count": 9,
   "id": "28c1396f",
   "metadata": {},
   "outputs": [
    {
     "name": "stdout",
     "output_type": "stream",
     "text": [
      "X shape: (6186, 4)\n",
      "y shape: (6186,)\n"
     ]
    }
   ],
   "source": [
    "# Defining target(y) and features (X)\n",
    "y = df['Ronflements']\n",
    "X = df.drop(columns =['Ronflements', 'sexe'])\n",
    "\n",
    "print(\"X shape:\", X.shape)\n",
    "print(\"y shape:\", y.shape)"
   ]
  },
  {
   "cell_type": "markdown",
   "id": "4ebbb649",
   "metadata": {},
   "source": [
    "> **<font color=\"#0000FF\">c. diviser la base en une base d entrainement et une base de test:</font>**"
   ]
  },
  {
   "cell_type": "code",
   "execution_count": 10,
   "id": "416c5227",
   "metadata": {},
   "outputs": [
    {
     "name": "stdout",
     "output_type": "stream",
     "text": [
      "X_train shape: (4948, 4)\n",
      "y_train shape: (4948,)\n",
      "X_test shape: (1238, 4)\n",
      "y_test shape: (1238,)\n"
     ]
    }
   ],
   "source": [
    "from sklearn.model_selection import train_test_split\n",
    "X_train, X_test, y_train, y_test = train_test_split(X, y,test_size=0.2, \n",
    "                                                    stratify=y, random_state=0 )\n",
    "\n",
    "print(\"X_train shape:\", X_train.shape)\n",
    "print(\"y_train shape:\", y_train.shape)\n",
    "print(\"X_test shape:\", X_test.shape)\n",
    "print(\"y_test shape:\", y_test.shape)"
   ]
  },
  {
   "cell_type": "code",
   "execution_count": 11,
   "id": "7d139448",
   "metadata": {},
   "outputs": [
    {
     "name": "stdout",
     "output_type": "stream",
     "text": [
      "Iteration: \t1 / 100\n",
      "Confirmed: \t0\n",
      "Tentative: \t4\n",
      "Rejected: \t0\n",
      "Iteration: \t2 / 100\n",
      "Confirmed: \t0\n",
      "Tentative: \t4\n",
      "Rejected: \t0\n",
      "Iteration: \t3 / 100\n",
      "Confirmed: \t0\n",
      "Tentative: \t4\n",
      "Rejected: \t0\n",
      "Iteration: \t4 / 100\n",
      "Confirmed: \t0\n",
      "Tentative: \t4\n",
      "Rejected: \t0\n",
      "Iteration: \t5 / 100\n",
      "Confirmed: \t0\n",
      "Tentative: \t4\n",
      "Rejected: \t0\n",
      "Iteration: \t6 / 100\n",
      "Confirmed: \t0\n",
      "Tentative: \t4\n",
      "Rejected: \t0\n",
      "Iteration: \t7 / 100\n",
      "Confirmed: \t0\n",
      "Tentative: \t4\n",
      "Rejected: \t0\n",
      "Iteration: \t8 / 100\n",
      "Confirmed: \t4\n",
      "Tentative: \t0\n",
      "Rejected: \t0\n",
      "\n",
      "\n",
      "BorutaPy finished running.\n",
      "\n",
      "Iteration: \t9 / 100\n",
      "Confirmed: \t4\n",
      "Tentative: \t0\n",
      "Rejected: \t0\n",
      "Caractéristiques sélectionnées : [ True  True  True  True]\n"
     ]
    }
   ],
   "source": [
    "from boruta import BorutaPy   \n",
    "\n",
    "# Créer un modèle Random Forest  \n",
    "rf = RandomForestClassifier(n_jobs=-1, class_weight='balanced', max_depth=5)  \n",
    "\n",
    "# Initialiser Boruta  \n",
    "boruta_selector = BorutaPy(rf, n_estimators='auto', verbose=2, random_state=42)  \n",
    "\n",
    "# Exécuter Boruta  \n",
    "boruta_selector.fit(X_train.values, y_train.values)  \n",
    "\n",
    "# Obtenir les résultats  \n",
    "selected_features = boruta_selector.support_  \n",
    "\n",
    "print(\"Caractéristiques sélectionnées :\", selected_features)"
   ]
  },
  {
   "cell_type": "markdown",
   "id": "9d3259b2",
   "metadata": {},
   "source": [
    "> **<font color=\"#0000FF\">d. Instantiation des modèles :</font>**"
   ]
  },
  {
   "cell_type": "code",
   "execution_count": 12,
   "id": "6454f169",
   "metadata": {},
   "outputs": [],
   "source": [
    "# Random Forest\n",
    "RF = RandomForestClassifier (random_state=0)\n",
    "\n",
    "# Réseau des neurones\n",
    "MLP = MLPClassifier(random_state=0)"
   ]
  },
  {
   "cell_type": "markdown",
   "id": "9e5eca30",
   "metadata": {},
   "source": [
    "> **<h3><font color=\"#0000FF\"> 5. Recherche des hypers paramètres </font></h3>**"
   ]
  },
  {
   "cell_type": "code",
   "execution_count": 13,
   "id": "ba8e6219",
   "metadata": {},
   "outputs": [],
   "source": [
    "# Définir la plage des hyperparamètres pour le RF\n",
    "distributions = dict(max_depth=np.arange(1,20),\n",
    "                     n_estimators=np.arange(60,600),\n",
    "                     max_features=np.arange(0, 5),\n",
    "                     max_leaf_nodes=np.arange(10,500),\n",
    "                     min_samples_split=np.arange(1,15),\n",
    "                    )\n",
    "\n",
    "# Configurer la recherche aléatoire\n",
    "RF_CV = RandomizedSearchCV(RF, distributions, random_state=0, scoring = 'f1')\n",
    "RF_search =  RF_CV.fit(X_train, y_train)"
   ]
  },
  {
   "cell_type": "code",
   "execution_count": 14,
   "id": "50e276fe",
   "metadata": {},
   "outputs": [],
   "source": [
    "# Définir la plage des hyperparamètres pour le MLP\n",
    "distributions = dict(hidden_layer_sizes=np.arange(1,1000),\n",
    "                     activation=['tanh', 'relu'],\n",
    "                     solver=['sgd', 'adam'],\n",
    "                     alpha=np.arange(0,1),\n",
    "                     learning_rate=['constant', 'adaptative']\n",
    "                    )\n",
    "\n",
    "# Configurer la recherche aléatoire\n",
    "MLP_CV = RandomizedSearchCV(MLP, distributions, random_state=0, scoring = 'f1')\n",
    "MLP_search =  MLP_CV.fit(X_train, y_train)"
   ]
  },
  {
   "cell_type": "code",
   "execution_count": 15,
   "id": "98991b7e",
   "metadata": {},
   "outputs": [
    {
     "name": "stdout",
     "output_type": "stream",
     "text": [
      "{'n_estimators': 240, 'min_samples_split': 13, 'max_leaf_nodes': 286, 'max_features': 2, 'max_depth': 15}\n",
      "{'solver': 'adam', 'learning_rate': 'constant', 'hidden_layer_sizes': 259, 'alpha': 0, 'activation': 'tanh'}\n"
     ]
    }
   ],
   "source": [
    "print(RF_search.best_params_)\n",
    "print(MLP_search.best_params_) "
   ]
  },
  {
   "cell_type": "markdown",
   "id": "d0c477e0",
   "metadata": {},
   "source": [
    "> **<font color=\"#0000FF\">a. Instancier Modèles optimisé :</font>**"
   ]
  },
  {
   "cell_type": "code",
   "execution_count": 16,
   "id": "48439cd4",
   "metadata": {},
   "outputs": [],
   "source": [
    "RF_op = RandomForestClassifier (n_estimators= 240,max_depth=13,max_features=2,min_samples_split=13,max_leaf_nodes=289,random_state=42)\n",
    "MLP_op = MLPClassifier(solver= 'adam', learning_rate='constant', hidden_layer_sizes=259, alpha=0, activation= 'tanh', random_state=42)"
   ]
  },
  {
   "cell_type": "markdown",
   "id": "7ac322b5",
   "metadata": {},
   "source": [
    "> **<font color=\"#0000FF\">b. Entrainement des Modèles optimisé :</font>**"
   ]
  },
  {
   "cell_type": "code",
   "execution_count": 17,
   "id": "7c294026",
   "metadata": {},
   "outputs": [],
   "source": [
    "RF_op = RF_op.fit(X_train, y_train)\n",
    "MLP_op = MLP_op.fit(X_train, y_train)"
   ]
  },
  {
   "cell_type": "markdown",
   "id": "a8506005",
   "metadata": {},
   "source": [
    "> **<h3><font color=\"#0000FF\"> 6. Evaluation des modèles </font></h3>**"
   ]
  },
  {
   "cell_type": "markdown",
   "id": "0c34e61b",
   "metadata": {},
   "source": [
    "> **<font color=\"#0000FF\">a. Fonction d'évaluation :</font>**"
   ]
  },
  {
   "cell_type": "code",
   "execution_count": 18,
   "id": "5d3e9999",
   "metadata": {},
   "outputs": [],
   "source": [
    "def evaluation(model):\n",
    "    ypred = model.predict(X_test)\n",
    "    y_score = model.predict_proba(X_test)\n",
    "\n",
    "    print(confusion_matrix(y_test, ypred))\n",
    "    print(classification_report(y_test, ypred))"
   ]
  },
  {
   "cell_type": "markdown",
   "id": "952127c2",
   "metadata": {},
   "source": [
    "> **<font color=\"#0000FF\">b. Evaluation du modèle RF :</font>**"
   ]
  },
  {
   "cell_type": "code",
   "execution_count": 19,
   "id": "e1520a28",
   "metadata": {},
   "outputs": [
    {
     "name": "stdout",
     "output_type": "stream",
     "text": [
      "TRAIN REPORT\n",
      "              precision    recall  f1-score   support\n",
      "\n",
      "           0       0.83      0.98      0.90      3586\n",
      "           1       0.90      0.46      0.61      1362\n",
      "\n",
      "    accuracy                           0.84      4948\n",
      "   macro avg       0.86      0.72      0.76      4948\n",
      "weighted avg       0.85      0.84      0.82      4948\n",
      "\n",
      "TEST REPORT\n",
      "[[827  70]\n",
      " [260  81]]\n",
      "              precision    recall  f1-score   support\n",
      "\n",
      "           0       0.76      0.92      0.83       897\n",
      "           1       0.54      0.24      0.33       341\n",
      "\n",
      "    accuracy                           0.73      1238\n",
      "   macro avg       0.65      0.58      0.58      1238\n",
      "weighted avg       0.70      0.73      0.69      1238\n",
      "\n",
      "None\n"
     ]
    }
   ],
   "source": [
    "print(\"TRAIN REPORT\")\n",
    "print(classification_report(y_train, RF_op.predict(X_train)))\n",
    "\n",
    "print(\"TEST REPORT\")\n",
    "print(evaluation(model=RF_op))"
   ]
  },
  {
   "cell_type": "markdown",
   "id": "ecc5ac21",
   "metadata": {},
   "source": [
    "> **<font color=\"#0000FF\">c. Evaluation du modèle MLP :</font>**"
   ]
  },
  {
   "cell_type": "markdown",
   "id": "943f33cb",
   "metadata": {},
   "source": [
    "### Nous somme face à un problème de prédiction binaire nous pouvons nous baser sur la spécificité et la courbe roc pour le choi du modèle"
   ]
  },
  {
   "cell_type": "code",
   "execution_count": 20,
   "id": "f2982693",
   "metadata": {},
   "outputs": [
    {
     "name": "stdout",
     "output_type": "stream",
     "text": [
      "TRAIN REPORT\n",
      "              precision    recall  f1-score   support\n",
      "\n",
      "           0       0.75      0.95      0.84      3586\n",
      "           1       0.57      0.19      0.28      1362\n",
      "\n",
      "    accuracy                           0.74      4948\n",
      "   macro avg       0.66      0.57      0.56      4948\n",
      "weighted avg       0.70      0.74      0.69      4948\n",
      "\n",
      "TEST REPORT\n",
      "[[850  47]\n",
      " [289  52]]\n",
      "              precision    recall  f1-score   support\n",
      "\n",
      "           0       0.75      0.95      0.83       897\n",
      "           1       0.53      0.15      0.24       341\n",
      "\n",
      "    accuracy                           0.73      1238\n",
      "   macro avg       0.64      0.55      0.54      1238\n",
      "weighted avg       0.69      0.73      0.67      1238\n",
      "\n",
      "None\n"
     ]
    }
   ],
   "source": [
    "print(\"TRAIN REPORT\")\n",
    "print(classification_report(y_train, MLP_op.predict(X_train)))\n",
    "\n",
    "print(\"TEST REPORT\")\n",
    "print(evaluation(model=MLP_op))"
   ]
  },
  {
   "cell_type": "code",
   "execution_count": 21,
   "id": "fc4a513c",
   "metadata": {},
   "outputs": [],
   "source": [
    "def evaluer(model, X_train = X_train, X_test=X_test):\n",
    "    model.fit(X_train, y_train)\n",
    "    # Importer les modules nécessaires pour le calcul des métriques\n",
    "    from sklearn.metrics import f1_score, confusion_matrix, classification_report, roc_auc_score\n",
    "    from imblearn.metrics import specificity_score\n",
    "    # Prédictions sur les données du test set\n",
    "    ypred = model.predict(X_test)\n",
    "    # Calcul de l'AUC et spécificité\n",
    "    model_probs = model.predict_proba(X_test)\n",
    "    model_probs = model_probs[:, 1]\n",
    "    model_auc = roc_auc_score(y_test, model_probs)\n",
    "    spe = specificity_score(y_test, ypred, average=None)\n",
    "    # Matrice de confuson et scores associés dont F1\n",
    "    print(\"CONFUSION MATRIX\")\n",
    "    print(confusion_matrix(y_test, ypred))\n",
    "    print(classification_report(y_test, ypred))\n",
    "    print(\"SPECIFICITY\")\n",
    "    print(spe)\n",
    "    print(\"AUROC\")\n",
    "    print(model_auc)"
   ]
  },
  {
   "cell_type": "code",
   "execution_count": 22,
   "id": "018e3b9a",
   "metadata": {},
   "outputs": [
    {
     "name": "stdout",
     "output_type": "stream",
     "text": [
      "CONFUSION MATRIX\n",
      "[[827  70]\n",
      " [260  81]]\n",
      "              precision    recall  f1-score   support\n",
      "\n",
      "           0       0.76      0.92      0.83       897\n",
      "           1       0.54      0.24      0.33       341\n",
      "\n",
      "    accuracy                           0.73      1238\n",
      "   macro avg       0.65      0.58      0.58      1238\n",
      "weighted avg       0.70      0.73      0.69      1238\n",
      "\n",
      "SPECIFICITY\n",
      "[0.23753666 0.9219621 ]\n",
      "AUROC\n",
      "0.6759710602627853\n"
     ]
    }
   ],
   "source": [
    "evaluer(model=RF_op, X_train= X_train, X_test=X_test)"
   ]
  },
  {
   "cell_type": "code",
   "execution_count": 23,
   "id": "71dc5e64",
   "metadata": {},
   "outputs": [
    {
     "name": "stdout",
     "output_type": "stream",
     "text": [
      "CONFUSION MATRIX\n",
      "[[850  47]\n",
      " [289  52]]\n",
      "              precision    recall  f1-score   support\n",
      "\n",
      "           0       0.75      0.95      0.83       897\n",
      "           1       0.53      0.15      0.24       341\n",
      "\n",
      "    accuracy                           0.73      1238\n",
      "   macro avg       0.64      0.55      0.54      1238\n",
      "weighted avg       0.69      0.73      0.67      1238\n",
      "\n",
      "SPECIFICITY\n",
      "[0.15249267 0.94760312]\n",
      "AUROC\n",
      "0.6880053093236823\n"
     ]
    }
   ],
   "source": [
    "evaluer(model=MLP_op, X_train= X_train, X_test=X_test)"
   ]
  },
  {
   "cell_type": "markdown",
   "id": "ced10a23",
   "metadata": {},
   "source": [
    "> **<font color=\"#0000FF\">d. courbes apprentissage:</font>**"
   ]
  },
  {
   "cell_type": "code",
   "execution_count": 24,
   "id": "9959b0bd",
   "metadata": {},
   "outputs": [
    {
     "name": "stdout",
     "output_type": "stream",
     "text": [
      "[  39  202  366  529  692  855 1019 1182 1345 1508 1672 1835 1998 2162\n",
      " 2325 2488 2651 2815 2978 3141 3304 3468 3631 3794 3958]\n",
      "[  39  202  366  529  692  855 1019 1182 1345 1508 1672 1835 1998 2162\n",
      " 2325 2488 2651 2815 2978 3141 3304 3468 3631 3794 3958]\n"
     ]
    },
    {
     "data": {
      "text/plain": [
       "<matplotlib.legend.Legend at 0x1ca2fa63e10>"
      ]
     },
     "execution_count": 24,
     "metadata": {},
     "output_type": "execute_result"
    },
    {
     "data": {
      "image/png": "[encoded data removed]",
      "text/plain": [
       "<Figure size 600x300 with 2 Axes>"
      ]
     },
     "metadata": {},
     "output_type": "display_data"
    }
   ],
   "source": [
    "fig = plt.figure(figsize=(6,3))\n",
    "plt.subplot(1,2,1)\n",
    "N, train_score, val_score = learning_curve(RF_op, X_train, y_train,\n",
    "                                           train_sizes = np.linspace(0.01, 1.0, 25), cv = 5)\n",
    "print(N)\n",
    "plt.plot(N,train_score.mean(axis=1), label='train')\n",
    "plt.plot(N,val_score.mean(axis=1), label='validation')\n",
    "plt.xlabel('Random Forest', color = 'b', fontsize = 13)\n",
    "plt.legend(fontsize = 11)\n",
    "\n",
    "\n",
    "plt.subplot(1,2,2)\n",
    "N, train_score, val_score = learning_curve(MLP_op, X_train, y_train,\n",
    "                                           train_sizes = np.linspace(0.01, 1.0, 25), cv = 5)\n",
    "print(N)\n",
    "plt.plot(N,train_score.mean(axis=1), label='train')\n",
    "plt.plot(N,val_score.mean(axis=1), label='validation')\n",
    "plt.xlabel('MLP', color = 'b', fontsize = 13)\n",
    "plt.legend(fontsize = 11)"
   ]
  },
  {
   "cell_type": "markdown",
   "id": "63f20586",
   "metadata": {},
   "source": [
    "> **<font color=\"#0000FF\">d. courbes ROC des modèles:</font>**"
   ]
  },
  {
   "cell_type": "code",
   "execution_count": 25,
   "id": "774f137c",
   "metadata": {},
   "outputs": [],
   "source": [
    " from sklearn.metrics import roc_curve, auc  "
   ]
  },
  {
   "cell_type": "code",
   "execution_count": 26,
   "id": "3e8887b2",
   "metadata": {},
   "outputs": [
    {
     "data": {
      "image/png": "[encoded data removed]",
      "text/plain": [
       "<Figure size 600x300 with 2 Axes>"
      ]
     },
     "metadata": {},
     "output_type": "display_data"
    }
   ],
   "source": [
    "model = RF_op = RandomForestClassifier (n_estimators= 240,max_depth=13,max_features=2,min_samples_split=13,max_leaf_nodes=289,random_state=42) \n",
    "model.fit(X_train, y_train)  \n",
    "\n",
    "# Obtenir les probabilités de la classe positive  \n",
    "y_scores = model.predict_proba(X_test)[:, 1]  \n",
    "\n",
    "# Calculer la courbe ROC  \n",
    "fpr, tpr, thresholds = roc_curve(y_test, y_scores)  \n",
    "roc_auc = auc(fpr, tpr)  \n",
    "\n",
    "# Tracer la courbe ROC  \n",
    "fig = plt.figure(figsize=(6,3))\n",
    "plt.subplot(1,2,1)\n",
    "plt.plot(fpr, tpr, color='blue', label='Courbe ROC (area = %0.2f)' % roc_auc)  \n",
    "plt.plot([0, 1], [0, 1], color='red', linestyle='--') # ligne de chance  \n",
    "plt.xlim([0.0, 1.0])  \n",
    "plt.ylim([0.0, 1.0])  \n",
    "plt.xlabel('Taux de Faux Positifs (FPR)')  \n",
    "plt.ylabel('Taux de Vrais Positifs (TPR)')  \n",
    "plt.title('Courbe ROC RF_op')  \n",
    "plt.legend(loc='lower right')  \n",
    "plt.grid()  \n",
    "\n",
    "\n",
    "model1 = MLP_op = MLPClassifier(solver= 'adam', learning_rate='constant', hidden_layer_sizes=259, alpha=0, activation= 'tanh', random_state=42)\n",
    "model1.fit(X_train, y_train) \n",
    "\n",
    "y_scores = model1.predict_proba(X_test)[:, 1]  \n",
    "# Calculer la courbe ROC  \n",
    "fpr, tpr, thresholds = roc_curve(y_test, y_scores)  \n",
    "roc_auc = auc(fpr, tpr) \n",
    "\n",
    "plt.subplot(1,2,2)\n",
    "plt.plot(fpr, tpr, color='blue', label='Courbe ROC (area = %0.2f)' % roc_auc)  \n",
    "plt.plot([0, 1], [0, 1], color='red', linestyle='--') # ligne de chance  \n",
    "plt.xlim([0.0, 1.0])  \n",
    "plt.ylim([0.0, 1.0])  \n",
    "plt.xlabel('Taux de Faux Positifs (FPR)')  \n",
    "plt.ylabel('Taux de Vrais Positifs (TPR)')  \n",
    "plt.title('Courbe ROC MLP_op')  \n",
    "plt.legend(loc='lower right')  \n",
    "plt.grid()  "
   ]
  },
  {
   "cell_type": "markdown",
   "id": "240d96e1",
   "metadata": {},
   "source": [
    "### Le modèle choisi est le réseau de neurones artificiel (f1_score plus élévée)"
   ]
  }
 ],
 "metadata": {
  "kernelspec": {
   "display_name": "Python 3 (ipykernel)",
   "language": "python",
   "name": "python3"
  },
  "language_info": {
   "codemirror_mode": {
    "name": "ipython",
    "version": 3
   },
   "file_extension": ".py",
   "mimetype": "text/x-python",
   "name": "python",
   "nbconvert_exporter": "python",
   "pygments_lexer": "ipython3",
   "version": "3.11.5"
  }
 },
 "nbformat": 4,
 "nbformat_minor": 5
}
